{
 "cells": [
  {
   "cell_type": "markdown",
   "metadata": {},
   "source": [
    "# Classification"
   ]
  },
  {
   "cell_type": "markdown",
   "metadata": {},
   "source": [
    "# Dataset : Baseball\n",
    "## Variable Descriptions\n",
    "Format: variable (type) - description\n",
    "\n",
    "1. Player (categorical) - name of the player\n",
    "2. Number_seasons (numerical) - number of seasons played by the player\n",
    "3. Games_played (numerical) - number of games played by the player\n",
    "4. At_bats (numerical) - number of At_bats made by the player\n",
    "5. Runs (numerical) - number of Runs made by the player\n",
    "6. Hits (numerical) - number of hits made by the player\n",
    "7. Doubles (numerical) -  number of doubles made by the player\n",
    "8. Triples (numerical) -  number of triples made by the player\n",
    "9. Home_runs (numerical) -  number of home_runs made by the player\n",
    "10. RBIs (numerical) - number of RBIs made by the player\n",
    "11. Walks (numerical) - number of walks made by the player\n",
    "12. Strikeouts (numerical) - number of strikeouts made by the player\n",
    "13. Batting_average (numerical) - batting average= (number of hits) / (number of At-bats)\n",
    "14. On_base_pct (numerical) - On base percentage (OBP)=(Hits + Walks + Hit by Pitch) / (At Bats + Walks + Hit by Pitch + Sacrifice Flies).\n",
    "15. Slugging_pct (numerical) - slugging percentage= total bases divided by at bats.\n",
    "16. Fielding_ave (numerical) - fielding average or fielding Percentage (FPCT) = (put outs + assists) / (put outs + assists + errors).\n",
    "17. Position (categorical) - Position of players on the field\n",
    "18. Hall_of_Fame (numerical)(Target variable)- three classes (0,1 and 2)"
   ]
  },
  {
   "cell_type": "code",
   "execution_count": 1,
   "metadata": {},
   "outputs": [],
   "source": [
    "import pandas as pd\n",
    "import numpy as np\n",
    "import matplotlib.pyplot as plt\n",
    "import seaborn as sns\n",
    "from sklearn.neighbors import KNeighborsClassifier\n",
    "from sklearn.model_selection import train_test_split\n",
    "from sklearn.preprocessing import StandardScaler"
   ]
  },
  {
   "cell_type": "code",
   "execution_count": 2,
   "metadata": {},
   "outputs": [
    {
     "data": {
      "text/html": [
       "<div>\n",
       "<style scoped>\n",
       "    .dataframe tbody tr th:only-of-type {\n",
       "        vertical-align: middle;\n",
       "    }\n",
       "\n",
       "    .dataframe tbody tr th {\n",
       "        vertical-align: top;\n",
       "    }\n",
       "\n",
       "    .dataframe thead th {\n",
       "        text-align: right;\n",
       "    }\n",
       "</style>\n",
       "<table border=\"1\" class=\"dataframe\">\n",
       "  <thead>\n",
       "    <tr style=\"text-align: right;\">\n",
       "      <th></th>\n",
       "      <th>Player</th>\n",
       "      <th>Number_seasons</th>\n",
       "      <th>Games_played</th>\n",
       "      <th>At_bats</th>\n",
       "      <th>Runs</th>\n",
       "      <th>Hits</th>\n",
       "      <th>Doubles</th>\n",
       "      <th>Triples</th>\n",
       "      <th>Home_runs</th>\n",
       "      <th>RBIs</th>\n",
       "      <th>Walks</th>\n",
       "      <th>Strikeouts</th>\n",
       "      <th>Batting_average</th>\n",
       "      <th>On_base_pct</th>\n",
       "      <th>Slugging_pct</th>\n",
       "      <th>Fielding_ave</th>\n",
       "      <th>Position</th>\n",
       "      <th>Hall_of_Fame</th>\n",
       "    </tr>\n",
       "  </thead>\n",
       "  <tbody>\n",
       "    <tr>\n",
       "      <td>0</td>\n",
       "      <td>HANK_AARON</td>\n",
       "      <td>23</td>\n",
       "      <td>3298</td>\n",
       "      <td>12364</td>\n",
       "      <td>2174.0</td>\n",
       "      <td>3771.0</td>\n",
       "      <td>624</td>\n",
       "      <td>98.0</td>\n",
       "      <td>755</td>\n",
       "      <td>2297</td>\n",
       "      <td>1402.0</td>\n",
       "      <td>1383.0</td>\n",
       "      <td>0.305</td>\n",
       "      <td>0.377</td>\n",
       "      <td>0.555</td>\n",
       "      <td>0.980</td>\n",
       "      <td>Outfield</td>\n",
       "      <td>1</td>\n",
       "    </tr>\n",
       "    <tr>\n",
       "      <td>1</td>\n",
       "      <td>JERRY_ADAIR</td>\n",
       "      <td>13</td>\n",
       "      <td>1165</td>\n",
       "      <td>4019</td>\n",
       "      <td>378.0</td>\n",
       "      <td>1022.0</td>\n",
       "      <td>163</td>\n",
       "      <td>19.0</td>\n",
       "      <td>57</td>\n",
       "      <td>366</td>\n",
       "      <td>208.0</td>\n",
       "      <td>499.0</td>\n",
       "      <td>0.254</td>\n",
       "      <td>0.294</td>\n",
       "      <td>0.347</td>\n",
       "      <td>0.985</td>\n",
       "      <td>Second_base</td>\n",
       "      <td>0</td>\n",
       "    </tr>\n",
       "    <tr>\n",
       "      <td>2</td>\n",
       "      <td>SPARKY_ADAMS</td>\n",
       "      <td>13</td>\n",
       "      <td>1424</td>\n",
       "      <td>5557</td>\n",
       "      <td>844.0</td>\n",
       "      <td>1588.0</td>\n",
       "      <td>249</td>\n",
       "      <td>48.0</td>\n",
       "      <td>9</td>\n",
       "      <td>394</td>\n",
       "      <td>NaN</td>\n",
       "      <td>223.0</td>\n",
       "      <td>0.286</td>\n",
       "      <td>0.343</td>\n",
       "      <td>0.353</td>\n",
       "      <td>0.974</td>\n",
       "      <td>Second_base</td>\n",
       "      <td>0</td>\n",
       "    </tr>\n",
       "    <tr>\n",
       "      <td>3</td>\n",
       "      <td>BOBBY_ADAMS</td>\n",
       "      <td>14</td>\n",
       "      <td>1281</td>\n",
       "      <td>4019</td>\n",
       "      <td>591.0</td>\n",
       "      <td>1082.0</td>\n",
       "      <td>188</td>\n",
       "      <td>NaN</td>\n",
       "      <td>37</td>\n",
       "      <td>303</td>\n",
       "      <td>414.0</td>\n",
       "      <td>447.0</td>\n",
       "      <td>0.269</td>\n",
       "      <td>0.340</td>\n",
       "      <td>0.368</td>\n",
       "      <td>0.955</td>\n",
       "      <td>Third_base</td>\n",
       "      <td>0</td>\n",
       "    </tr>\n",
       "    <tr>\n",
       "      <td>4</td>\n",
       "      <td>JOE_ADCOCK</td>\n",
       "      <td>17</td>\n",
       "      <td>1959</td>\n",
       "      <td>6606</td>\n",
       "      <td>823.0</td>\n",
       "      <td>1832.0</td>\n",
       "      <td>295</td>\n",
       "      <td>35.0</td>\n",
       "      <td>336</td>\n",
       "      <td>1122</td>\n",
       "      <td>594.0</td>\n",
       "      <td>1059.0</td>\n",
       "      <td>0.277</td>\n",
       "      <td>0.339</td>\n",
       "      <td>0.485</td>\n",
       "      <td>0.994</td>\n",
       "      <td>First_base</td>\n",
       "      <td>0</td>\n",
       "    </tr>\n",
       "  </tbody>\n",
       "</table>\n",
       "</div>"
      ],
      "text/plain": [
       "         Player  Number_seasons  Games_played  At_bats    Runs    Hits  \\\n",
       "0    HANK_AARON              23          3298    12364  2174.0  3771.0   \n",
       "1   JERRY_ADAIR              13          1165     4019   378.0  1022.0   \n",
       "2  SPARKY_ADAMS              13          1424     5557   844.0  1588.0   \n",
       "3   BOBBY_ADAMS              14          1281     4019   591.0  1082.0   \n",
       "4    JOE_ADCOCK              17          1959     6606   823.0  1832.0   \n",
       "\n",
       "   Doubles  Triples  Home_runs  RBIs   Walks  Strikeouts  Batting_average  \\\n",
       "0      624     98.0        755  2297  1402.0      1383.0            0.305   \n",
       "1      163     19.0         57   366   208.0       499.0            0.254   \n",
       "2      249     48.0          9   394     NaN       223.0            0.286   \n",
       "3      188      NaN         37   303   414.0       447.0            0.269   \n",
       "4      295     35.0        336  1122   594.0      1059.0            0.277   \n",
       "\n",
       "   On_base_pct  Slugging_pct  Fielding_ave     Position  Hall_of_Fame  \n",
       "0        0.377         0.555         0.980     Outfield             1  \n",
       "1        0.294         0.347         0.985  Second_base             0  \n",
       "2        0.343         0.353         0.974  Second_base             0  \n",
       "3        0.340         0.368         0.955   Third_base             0  \n",
       "4        0.339         0.485         0.994   First_base             0  "
      ]
     },
     "execution_count": 2,
     "metadata": {},
     "output_type": "execute_result"
    }
   ],
   "source": [
    "baseball = pd.read_csv(\"C:/Users/sahit/Documents/baseball1.csv\")\n",
    "baseball.head()"
   ]
  },
  {
   "cell_type": "code",
   "execution_count": 3,
   "metadata": {},
   "outputs": [
    {
     "name": "stdout",
     "output_type": "stream",
     "text": [
      "<class 'pandas.core.frame.DataFrame'>\n",
      "RangeIndex: 1340 entries, 0 to 1339\n",
      "Data columns (total 18 columns):\n",
      "Player             1340 non-null object\n",
      "Number_seasons     1340 non-null int64\n",
      "Games_played       1340 non-null int64\n",
      "At_bats            1340 non-null int64\n",
      "Runs               1229 non-null float64\n",
      "Hits               1290 non-null float64\n",
      "Doubles            1340 non-null int64\n",
      "Triples            1296 non-null float64\n",
      "Home_runs          1340 non-null int64\n",
      "RBIs               1340 non-null int64\n",
      "Walks              1280 non-null float64\n",
      "Strikeouts         1262 non-null float64\n",
      "Batting_average    1307 non-null float64\n",
      "On_base_pct        1340 non-null float64\n",
      "Slugging_pct       1293 non-null float64\n",
      "Fielding_ave       1340 non-null float64\n",
      "Position           1340 non-null object\n",
      "Hall_of_Fame       1340 non-null int64\n",
      "dtypes: float64(9), int64(7), object(2)\n",
      "memory usage: 188.6+ KB\n"
     ]
    }
   ],
   "source": [
    "baseball.info()   "
   ]
  },
  {
   "cell_type": "code",
   "execution_count": 4,
   "metadata": {},
   "outputs": [
    {
     "data": {
      "text/plain": [
       "Player               0\n",
       "Number_seasons       0\n",
       "Games_played         0\n",
       "At_bats              0\n",
       "Runs               111\n",
       "Hits                50\n",
       "Doubles              0\n",
       "Triples             44\n",
       "Home_runs            0\n",
       "RBIs                 0\n",
       "Walks               60\n",
       "Strikeouts          78\n",
       "Batting_average     33\n",
       "On_base_pct          0\n",
       "Slugging_pct        47\n",
       "Fielding_ave         0\n",
       "Position             0\n",
       "Hall_of_Fame         0\n",
       "dtype: int64"
      ]
     },
     "execution_count": 4,
     "metadata": {},
     "output_type": "execute_result"
    }
   ],
   "source": [
    "baseball.isnull().sum()   # We can see that 7 columns have missing values"
   ]
  },
  {
   "cell_type": "code",
   "execution_count": 5,
   "metadata": {},
   "outputs": [
    {
     "data": {
      "text/html": [
       "<div>\n",
       "<style scoped>\n",
       "    .dataframe tbody tr th:only-of-type {\n",
       "        vertical-align: middle;\n",
       "    }\n",
       "\n",
       "    .dataframe tbody tr th {\n",
       "        vertical-align: top;\n",
       "    }\n",
       "\n",
       "    .dataframe thead th {\n",
       "        text-align: right;\n",
       "    }\n",
       "</style>\n",
       "<table border=\"1\" class=\"dataframe\">\n",
       "  <thead>\n",
       "    <tr style=\"text-align: right;\">\n",
       "      <th></th>\n",
       "      <th>Number_seasons</th>\n",
       "      <th>Games_played</th>\n",
       "      <th>At_bats</th>\n",
       "      <th>Runs</th>\n",
       "      <th>Hits</th>\n",
       "      <th>Doubles</th>\n",
       "      <th>Triples</th>\n",
       "      <th>Home_runs</th>\n",
       "      <th>RBIs</th>\n",
       "      <th>Walks</th>\n",
       "      <th>Strikeouts</th>\n",
       "      <th>Batting_average</th>\n",
       "      <th>On_base_pct</th>\n",
       "      <th>Slugging_pct</th>\n",
       "      <th>Fielding_ave</th>\n",
       "      <th>Hall_of_Fame</th>\n",
       "    </tr>\n",
       "  </thead>\n",
       "  <tbody>\n",
       "    <tr>\n",
       "      <td>count</td>\n",
       "      <td>1340.000000</td>\n",
       "      <td>1340.000000</td>\n",
       "      <td>1340.000000</td>\n",
       "      <td>1229.000000</td>\n",
       "      <td>1290.000000</td>\n",
       "      <td>1340.000000</td>\n",
       "      <td>1296.000000</td>\n",
       "      <td>1340.000000</td>\n",
       "      <td>1340.000000</td>\n",
       "      <td>1280.000000</td>\n",
       "      <td>1262.000000</td>\n",
       "      <td>1307.000000</td>\n",
       "      <td>1340.000000</td>\n",
       "      <td>1293.000000</td>\n",
       "      <td>1340.000000</td>\n",
       "      <td>1340.000000</td>\n",
       "    </tr>\n",
       "    <tr>\n",
       "      <td>mean</td>\n",
       "      <td>13.485821</td>\n",
       "      <td>1331.263433</td>\n",
       "      <td>4534.612687</td>\n",
       "      <td>634.924329</td>\n",
       "      <td>1252.485271</td>\n",
       "      <td>203.225373</td>\n",
       "      <td>50.794753</td>\n",
       "      <td>85.109701</td>\n",
       "      <td>565.744776</td>\n",
       "      <td>445.210156</td>\n",
       "      <td>451.861331</td>\n",
       "      <td>0.268688</td>\n",
       "      <td>0.336064</td>\n",
       "      <td>0.385859</td>\n",
       "      <td>0.966370</td>\n",
       "      <td>0.144030</td>\n",
       "    </tr>\n",
       "    <tr>\n",
       "      <td>std</td>\n",
       "      <td>3.136279</td>\n",
       "      <td>519.165125</td>\n",
       "      <td>2094.191124</td>\n",
       "      <td>375.804366</td>\n",
       "      <td>649.887968</td>\n",
       "      <td>116.576053</td>\n",
       "      <td>40.925711</td>\n",
       "      <td>97.930043</td>\n",
       "      <td>357.163666</td>\n",
       "      <td>297.156422</td>\n",
       "      <td>328.198805</td>\n",
       "      <td>0.026115</td>\n",
       "      <td>0.033701</td>\n",
       "      <td>0.060961</td>\n",
       "      <td>0.025193</td>\n",
       "      <td>0.474284</td>\n",
       "    </tr>\n",
       "    <tr>\n",
       "      <td>min</td>\n",
       "      <td>10.000000</td>\n",
       "      <td>140.000000</td>\n",
       "      <td>252.000000</td>\n",
       "      <td>20.000000</td>\n",
       "      <td>3.000000</td>\n",
       "      <td>6.000000</td>\n",
       "      <td>0.000000</td>\n",
       "      <td>0.000000</td>\n",
       "      <td>21.000000</td>\n",
       "      <td>17.000000</td>\n",
       "      <td>0.000000</td>\n",
       "      <td>0.161000</td>\n",
       "      <td>0.194000</td>\n",
       "      <td>0.201000</td>\n",
       "      <td>0.820000</td>\n",
       "      <td>0.000000</td>\n",
       "    </tr>\n",
       "    <tr>\n",
       "      <td>25%</td>\n",
       "      <td>11.000000</td>\n",
       "      <td>958.750000</td>\n",
       "      <td>2979.500000</td>\n",
       "      <td>353.000000</td>\n",
       "      <td>773.250000</td>\n",
       "      <td>116.000000</td>\n",
       "      <td>22.000000</td>\n",
       "      <td>22.000000</td>\n",
       "      <td>307.750000</td>\n",
       "      <td>229.000000</td>\n",
       "      <td>219.000000</td>\n",
       "      <td>0.252000</td>\n",
       "      <td>0.315000</td>\n",
       "      <td>0.343000</td>\n",
       "      <td>0.957000</td>\n",
       "      <td>0.000000</td>\n",
       "    </tr>\n",
       "    <tr>\n",
       "      <td>50%</td>\n",
       "      <td>13.000000</td>\n",
       "      <td>1282.500000</td>\n",
       "      <td>4302.000000</td>\n",
       "      <td>575.000000</td>\n",
       "      <td>1170.000000</td>\n",
       "      <td>184.500000</td>\n",
       "      <td>40.500000</td>\n",
       "      <td>51.000000</td>\n",
       "      <td>486.000000</td>\n",
       "      <td>379.500000</td>\n",
       "      <td>369.500000</td>\n",
       "      <td>0.267000</td>\n",
       "      <td>0.335000</td>\n",
       "      <td>0.381000</td>\n",
       "      <td>0.973000</td>\n",
       "      <td>0.000000</td>\n",
       "    </tr>\n",
       "    <tr>\n",
       "      <td>75%</td>\n",
       "      <td>15.000000</td>\n",
       "      <td>1651.500000</td>\n",
       "      <td>5815.250000</td>\n",
       "      <td>843.000000</td>\n",
       "      <td>1613.000000</td>\n",
       "      <td>264.000000</td>\n",
       "      <td>69.000000</td>\n",
       "      <td>108.000000</td>\n",
       "      <td>735.250000</td>\n",
       "      <td>576.000000</td>\n",
       "      <td>605.000000</td>\n",
       "      <td>0.285000</td>\n",
       "      <td>0.357250</td>\n",
       "      <td>0.425000</td>\n",
       "      <td>0.983000</td>\n",
       "      <td>0.000000</td>\n",
       "    </tr>\n",
       "    <tr>\n",
       "      <td>max</td>\n",
       "      <td>26.000000</td>\n",
       "      <td>3562.000000</td>\n",
       "      <td>14053.000000</td>\n",
       "      <td>2246.000000</td>\n",
       "      <td>4256.000000</td>\n",
       "      <td>792.000000</td>\n",
       "      <td>309.000000</td>\n",
       "      <td>755.000000</td>\n",
       "      <td>2297.000000</td>\n",
       "      <td>2056.000000</td>\n",
       "      <td>2597.000000</td>\n",
       "      <td>0.366000</td>\n",
       "      <td>0.483000</td>\n",
       "      <td>0.690000</td>\n",
       "      <td>1.000000</td>\n",
       "      <td>2.000000</td>\n",
       "    </tr>\n",
       "  </tbody>\n",
       "</table>\n",
       "</div>"
      ],
      "text/plain": [
       "       Number_seasons  Games_played       At_bats         Runs         Hits  \\\n",
       "count     1340.000000   1340.000000   1340.000000  1229.000000  1290.000000   \n",
       "mean        13.485821   1331.263433   4534.612687   634.924329  1252.485271   \n",
       "std          3.136279    519.165125   2094.191124   375.804366   649.887968   \n",
       "min         10.000000    140.000000    252.000000    20.000000     3.000000   \n",
       "25%         11.000000    958.750000   2979.500000   353.000000   773.250000   \n",
       "50%         13.000000   1282.500000   4302.000000   575.000000  1170.000000   \n",
       "75%         15.000000   1651.500000   5815.250000   843.000000  1613.000000   \n",
       "max         26.000000   3562.000000  14053.000000  2246.000000  4256.000000   \n",
       "\n",
       "           Doubles      Triples    Home_runs         RBIs        Walks  \\\n",
       "count  1340.000000  1296.000000  1340.000000  1340.000000  1280.000000   \n",
       "mean    203.225373    50.794753    85.109701   565.744776   445.210156   \n",
       "std     116.576053    40.925711    97.930043   357.163666   297.156422   \n",
       "min       6.000000     0.000000     0.000000    21.000000    17.000000   \n",
       "25%     116.000000    22.000000    22.000000   307.750000   229.000000   \n",
       "50%     184.500000    40.500000    51.000000   486.000000   379.500000   \n",
       "75%     264.000000    69.000000   108.000000   735.250000   576.000000   \n",
       "max     792.000000   309.000000   755.000000  2297.000000  2056.000000   \n",
       "\n",
       "        Strikeouts  Batting_average  On_base_pct  Slugging_pct  Fielding_ave  \\\n",
       "count  1262.000000      1307.000000  1340.000000   1293.000000   1340.000000   \n",
       "mean    451.861331         0.268688     0.336064      0.385859      0.966370   \n",
       "std     328.198805         0.026115     0.033701      0.060961      0.025193   \n",
       "min       0.000000         0.161000     0.194000      0.201000      0.820000   \n",
       "25%     219.000000         0.252000     0.315000      0.343000      0.957000   \n",
       "50%     369.500000         0.267000     0.335000      0.381000      0.973000   \n",
       "75%     605.000000         0.285000     0.357250      0.425000      0.983000   \n",
       "max    2597.000000         0.366000     0.483000      0.690000      1.000000   \n",
       "\n",
       "       Hall_of_Fame  \n",
       "count   1340.000000  \n",
       "mean       0.144030  \n",
       "std        0.474284  \n",
       "min        0.000000  \n",
       "25%        0.000000  \n",
       "50%        0.000000  \n",
       "75%        0.000000  \n",
       "max        2.000000  "
      ]
     },
     "execution_count": 5,
     "metadata": {},
     "output_type": "execute_result"
    }
   ],
   "source": [
    "baseball.describe()"
   ]
  },
  {
   "cell_type": "code",
   "execution_count": 6,
   "metadata": {},
   "outputs": [
    {
     "data": {
      "text/plain": [
       "Player              object\n",
       "Number_seasons       int64\n",
       "Games_played         int64\n",
       "At_bats              int64\n",
       "Runs               float64\n",
       "Hits               float64\n",
       "Doubles              int64\n",
       "Triples            float64\n",
       "Home_runs            int64\n",
       "RBIs                 int64\n",
       "Walks              float64\n",
       "Strikeouts         float64\n",
       "Batting_average    float64\n",
       "On_base_pct        float64\n",
       "Slugging_pct       float64\n",
       "Fielding_ave       float64\n",
       "Position            object\n",
       "Hall_of_Fame         int64\n",
       "dtype: object"
      ]
     },
     "execution_count": 6,
     "metadata": {},
     "output_type": "execute_result"
    }
   ],
   "source": [
    "baseball.dtypes  # we have 2 object (categorical) columns"
   ]
  },
  {
   "cell_type": "code",
   "execution_count": 7,
   "metadata": {},
   "outputs": [
    {
     "data": {
      "text/plain": [
       "0    1215\n",
       "2      68\n",
       "1      57\n",
       "Name: Hall_of_Fame, dtype: int64"
      ]
     },
     "execution_count": 7,
     "metadata": {},
     "output_type": "execute_result"
    }
   ],
   "source": [
    "baseball['Hall_of_Fame'].value_counts()   # majority belongs to class 0"
   ]
  },
  {
   "cell_type": "markdown",
   "metadata": {},
   "source": [
    "It can be regarded as an imbalanced dataset since majority belongs to class 0. So we will stratify the target variable while splitting the data so that each fold contains similar amounts of class 0,1 and 2."
   ]
  },
  {
   "cell_type": "markdown",
   "metadata": {},
   "source": [
    "## Filling the missing values\n",
    "We are grouping by position and using mean to fill the missing values."
   ]
  },
  {
   "cell_type": "code",
   "execution_count": 8,
   "metadata": {},
   "outputs": [],
   "source": [
    "baseball_grouped=baseball.groupby(['Position'])\n",
    "baseball_imputed = baseball_grouped.transform(lambda grp: grp.fillna(grp.mean()))\n",
    "baseball[['Runs','Hits','Triples','Walks','Slugging_pct','Batting_average','Strikeouts']] = baseball_imputed[['Runs','Hits','Triples','Walks','Slugging_pct','Batting_average','Strikeouts']]"
   ]
  },
  {
   "cell_type": "code",
   "execution_count": 9,
   "metadata": {},
   "outputs": [
    {
     "data": {
      "image/png": "[encoded data removed]",
      "text/plain": [
       "<Figure size 1080x1440 with 17 Axes>"
      ]
     },
     "metadata": {
      "needs_background": "light"
     },
     "output_type": "display_data"
    }
   ],
   "source": [
    "conti_vars = list(baseball.columns)[1:]\n",
    "plt.figure(figsize=(15, 20))\n",
    "for i, col in enumerate(conti_vars, 1):\n",
    "    plt.subplot(5, 4, i)\n",
    "    plt.hist(baseball[col])\n",
    "    plt.title(col)"
   ]
  },
  {
   "cell_type": "code",
   "execution_count": 10,
   "metadata": {},
   "outputs": [
    {
     "data": {
      "text/plain": [
       "Player             0\n",
       "Number_seasons     0\n",
       "Games_played       0\n",
       "At_bats            0\n",
       "Runs               0\n",
       "Hits               0\n",
       "Doubles            0\n",
       "Triples            0\n",
       "Home_runs          0\n",
       "RBIs               0\n",
       "Walks              0\n",
       "Strikeouts         0\n",
       "Batting_average    0\n",
       "On_base_pct        0\n",
       "Slugging_pct       0\n",
       "Fielding_ave       0\n",
       "Position           0\n",
       "Hall_of_Fame       0\n",
       "dtype: int64"
      ]
     },
     "execution_count": 10,
     "metadata": {},
     "output_type": "execute_result"
    }
   ],
   "source": [
    "baseball.isnull().sum()    # no missing values now"
   ]
  },
  {
   "cell_type": "code",
   "execution_count": 11,
   "metadata": {},
   "outputs": [
    {
     "data": {
      "text/html": [
       "<div>\n",
       "<style scoped>\n",
       "    .dataframe tbody tr th:only-of-type {\n",
       "        vertical-align: middle;\n",
       "    }\n",
       "\n",
       "    .dataframe tbody tr th {\n",
       "        vertical-align: top;\n",
       "    }\n",
       "\n",
       "    .dataframe thead th {\n",
       "        text-align: right;\n",
       "    }\n",
       "</style>\n",
       "<table border=\"1\" class=\"dataframe\">\n",
       "  <thead>\n",
       "    <tr style=\"text-align: right;\">\n",
       "      <th></th>\n",
       "      <th>Number_seasons</th>\n",
       "      <th>Games_played</th>\n",
       "      <th>At_bats</th>\n",
       "      <th>Runs</th>\n",
       "      <th>Hits</th>\n",
       "      <th>Doubles</th>\n",
       "      <th>Triples</th>\n",
       "      <th>Home_runs</th>\n",
       "      <th>RBIs</th>\n",
       "      <th>Walks</th>\n",
       "      <th>Strikeouts</th>\n",
       "      <th>Batting_average</th>\n",
       "      <th>On_base_pct</th>\n",
       "      <th>Slugging_pct</th>\n",
       "      <th>Fielding_ave</th>\n",
       "      <th>Position</th>\n",
       "      <th>Hall_of_Fame</th>\n",
       "    </tr>\n",
       "  </thead>\n",
       "  <tbody>\n",
       "    <tr>\n",
       "      <td>0</td>\n",
       "      <td>23</td>\n",
       "      <td>3298</td>\n",
       "      <td>12364</td>\n",
       "      <td>2174.0</td>\n",
       "      <td>3771.0</td>\n",
       "      <td>624</td>\n",
       "      <td>98.000000</td>\n",
       "      <td>755</td>\n",
       "      <td>2297</td>\n",
       "      <td>1402.000000</td>\n",
       "      <td>1383.0</td>\n",
       "      <td>0.305</td>\n",
       "      <td>0.377</td>\n",
       "      <td>0.555</td>\n",
       "      <td>0.980</td>\n",
       "      <td>Outfield</td>\n",
       "      <td>1</td>\n",
       "    </tr>\n",
       "    <tr>\n",
       "      <td>1</td>\n",
       "      <td>13</td>\n",
       "      <td>1165</td>\n",
       "      <td>4019</td>\n",
       "      <td>378.0</td>\n",
       "      <td>1022.0</td>\n",
       "      <td>163</td>\n",
       "      <td>19.000000</td>\n",
       "      <td>57</td>\n",
       "      <td>366</td>\n",
       "      <td>208.000000</td>\n",
       "      <td>499.0</td>\n",
       "      <td>0.254</td>\n",
       "      <td>0.294</td>\n",
       "      <td>0.347</td>\n",
       "      <td>0.985</td>\n",
       "      <td>Second_base</td>\n",
       "      <td>0</td>\n",
       "    </tr>\n",
       "    <tr>\n",
       "      <td>2</td>\n",
       "      <td>13</td>\n",
       "      <td>1424</td>\n",
       "      <td>5557</td>\n",
       "      <td>844.0</td>\n",
       "      <td>1588.0</td>\n",
       "      <td>249</td>\n",
       "      <td>48.000000</td>\n",
       "      <td>9</td>\n",
       "      <td>394</td>\n",
       "      <td>464.402878</td>\n",
       "      <td>223.0</td>\n",
       "      <td>0.286</td>\n",
       "      <td>0.343</td>\n",
       "      <td>0.353</td>\n",
       "      <td>0.974</td>\n",
       "      <td>Second_base</td>\n",
       "      <td>0</td>\n",
       "    </tr>\n",
       "    <tr>\n",
       "      <td>3</td>\n",
       "      <td>14</td>\n",
       "      <td>1281</td>\n",
       "      <td>4019</td>\n",
       "      <td>591.0</td>\n",
       "      <td>1082.0</td>\n",
       "      <td>188</td>\n",
       "      <td>47.542857</td>\n",
       "      <td>37</td>\n",
       "      <td>303</td>\n",
       "      <td>414.000000</td>\n",
       "      <td>447.0</td>\n",
       "      <td>0.269</td>\n",
       "      <td>0.340</td>\n",
       "      <td>0.368</td>\n",
       "      <td>0.955</td>\n",
       "      <td>Third_base</td>\n",
       "      <td>0</td>\n",
       "    </tr>\n",
       "    <tr>\n",
       "      <td>4</td>\n",
       "      <td>17</td>\n",
       "      <td>1959</td>\n",
       "      <td>6606</td>\n",
       "      <td>823.0</td>\n",
       "      <td>1832.0</td>\n",
       "      <td>295</td>\n",
       "      <td>35.000000</td>\n",
       "      <td>336</td>\n",
       "      <td>1122</td>\n",
       "      <td>594.000000</td>\n",
       "      <td>1059.0</td>\n",
       "      <td>0.277</td>\n",
       "      <td>0.339</td>\n",
       "      <td>0.485</td>\n",
       "      <td>0.994</td>\n",
       "      <td>First_base</td>\n",
       "      <td>0</td>\n",
       "    </tr>\n",
       "  </tbody>\n",
       "</table>\n",
       "</div>"
      ],
      "text/plain": [
       "   Number_seasons  Games_played  At_bats    Runs    Hits  Doubles    Triples  \\\n",
       "0              23          3298    12364  2174.0  3771.0      624  98.000000   \n",
       "1              13          1165     4019   378.0  1022.0      163  19.000000   \n",
       "2              13          1424     5557   844.0  1588.0      249  48.000000   \n",
       "3              14          1281     4019   591.0  1082.0      188  47.542857   \n",
       "4              17          1959     6606   823.0  1832.0      295  35.000000   \n",
       "\n",
       "   Home_runs  RBIs        Walks  Strikeouts  Batting_average  On_base_pct  \\\n",
       "0        755  2297  1402.000000      1383.0            0.305        0.377   \n",
       "1         57   366   208.000000       499.0            0.254        0.294   \n",
       "2          9   394   464.402878       223.0            0.286        0.343   \n",
       "3         37   303   414.000000       447.0            0.269        0.340   \n",
       "4        336  1122   594.000000      1059.0            0.277        0.339   \n",
       "\n",
       "   Slugging_pct  Fielding_ave     Position  Hall_of_Fame  \n",
       "0         0.555         0.980     Outfield             1  \n",
       "1         0.347         0.985  Second_base             0  \n",
       "2         0.353         0.974  Second_base             0  \n",
       "3         0.368         0.955   Third_base             0  \n",
       "4         0.485         0.994   First_base             0  "
      ]
     },
     "execution_count": 11,
     "metadata": {},
     "output_type": "execute_result"
    }
   ],
   "source": [
    "# Removing 'Player' column as it is not useful in predicting the Hall_of_Fame\n",
    "baseball = baseball.loc[:, baseball.columns != 'Player']\n",
    "baseball.head()"
   ]
  },
  {
   "cell_type": "markdown",
   "metadata": {},
   "source": [
    "## Converting categorical variables to numerical using one hot encoding "
   ]
  },
  {
   "cell_type": "code",
   "execution_count": 12,
   "metadata": {},
   "outputs": [
    {
     "data": {
      "text/html": [
       "<div>\n",
       "<style scoped>\n",
       "    .dataframe tbody tr th:only-of-type {\n",
       "        vertical-align: middle;\n",
       "    }\n",
       "\n",
       "    .dataframe tbody tr th {\n",
       "        vertical-align: top;\n",
       "    }\n",
       "\n",
       "    .dataframe thead th {\n",
       "        text-align: right;\n",
       "    }\n",
       "</style>\n",
       "<table border=\"1\" class=\"dataframe\">\n",
       "  <thead>\n",
       "    <tr style=\"text-align: right;\">\n",
       "      <th></th>\n",
       "      <th>Position_Catcher</th>\n",
       "      <th>Position_Designated_hitter</th>\n",
       "      <th>Position_First_base</th>\n",
       "      <th>Position_Outfield</th>\n",
       "      <th>Position_Second_base</th>\n",
       "      <th>Position_Shortstop</th>\n",
       "      <th>Position_Third_base</th>\n",
       "    </tr>\n",
       "  </thead>\n",
       "  <tbody>\n",
       "    <tr>\n",
       "      <td>0</td>\n",
       "      <td>0</td>\n",
       "      <td>0</td>\n",
       "      <td>0</td>\n",
       "      <td>1</td>\n",
       "      <td>0</td>\n",
       "      <td>0</td>\n",
       "      <td>0</td>\n",
       "    </tr>\n",
       "    <tr>\n",
       "      <td>1</td>\n",
       "      <td>0</td>\n",
       "      <td>0</td>\n",
       "      <td>0</td>\n",
       "      <td>0</td>\n",
       "      <td>1</td>\n",
       "      <td>0</td>\n",
       "      <td>0</td>\n",
       "    </tr>\n",
       "    <tr>\n",
       "      <td>2</td>\n",
       "      <td>0</td>\n",
       "      <td>0</td>\n",
       "      <td>0</td>\n",
       "      <td>0</td>\n",
       "      <td>1</td>\n",
       "      <td>0</td>\n",
       "      <td>0</td>\n",
       "    </tr>\n",
       "    <tr>\n",
       "      <td>3</td>\n",
       "      <td>0</td>\n",
       "      <td>0</td>\n",
       "      <td>0</td>\n",
       "      <td>0</td>\n",
       "      <td>0</td>\n",
       "      <td>0</td>\n",
       "      <td>1</td>\n",
       "    </tr>\n",
       "    <tr>\n",
       "      <td>4</td>\n",
       "      <td>0</td>\n",
       "      <td>0</td>\n",
       "      <td>1</td>\n",
       "      <td>0</td>\n",
       "      <td>0</td>\n",
       "      <td>0</td>\n",
       "      <td>0</td>\n",
       "    </tr>\n",
       "    <tr>\n",
       "      <td>...</td>\n",
       "      <td>...</td>\n",
       "      <td>...</td>\n",
       "      <td>...</td>\n",
       "      <td>...</td>\n",
       "      <td>...</td>\n",
       "      <td>...</td>\n",
       "      <td>...</td>\n",
       "    </tr>\n",
       "    <tr>\n",
       "      <td>1335</td>\n",
       "      <td>0</td>\n",
       "      <td>0</td>\n",
       "      <td>0</td>\n",
       "      <td>1</td>\n",
       "      <td>0</td>\n",
       "      <td>0</td>\n",
       "      <td>0</td>\n",
       "    </tr>\n",
       "    <tr>\n",
       "      <td>1336</td>\n",
       "      <td>1</td>\n",
       "      <td>0</td>\n",
       "      <td>0</td>\n",
       "      <td>0</td>\n",
       "      <td>0</td>\n",
       "      <td>0</td>\n",
       "      <td>0</td>\n",
       "    </tr>\n",
       "    <tr>\n",
       "      <td>1337</td>\n",
       "      <td>0</td>\n",
       "      <td>0</td>\n",
       "      <td>0</td>\n",
       "      <td>0</td>\n",
       "      <td>0</td>\n",
       "      <td>0</td>\n",
       "      <td>1</td>\n",
       "    </tr>\n",
       "    <tr>\n",
       "      <td>1338</td>\n",
       "      <td>0</td>\n",
       "      <td>0</td>\n",
       "      <td>0</td>\n",
       "      <td>0</td>\n",
       "      <td>0</td>\n",
       "      <td>0</td>\n",
       "      <td>1</td>\n",
       "    </tr>\n",
       "    <tr>\n",
       "      <td>1339</td>\n",
       "      <td>0</td>\n",
       "      <td>0</td>\n",
       "      <td>0</td>\n",
       "      <td>1</td>\n",
       "      <td>0</td>\n",
       "      <td>0</td>\n",
       "      <td>0</td>\n",
       "    </tr>\n",
       "  </tbody>\n",
       "</table>\n",
       "<p>1340 rows × 7 columns</p>\n",
       "</div>"
      ],
      "text/plain": [
       "      Position_Catcher  Position_Designated_hitter  Position_First_base  \\\n",
       "0                    0                           0                    0   \n",
       "1                    0                           0                    0   \n",
       "2                    0                           0                    0   \n",
       "3                    0                           0                    0   \n",
       "4                    0                           0                    1   \n",
       "...                ...                         ...                  ...   \n",
       "1335                 0                           0                    0   \n",
       "1336                 1                           0                    0   \n",
       "1337                 0                           0                    0   \n",
       "1338                 0                           0                    0   \n",
       "1339                 0                           0                    0   \n",
       "\n",
       "      Position_Outfield  Position_Second_base  Position_Shortstop  \\\n",
       "0                     1                     0                   0   \n",
       "1                     0                     1                   0   \n",
       "2                     0                     1                   0   \n",
       "3                     0                     0                   0   \n",
       "4                     0                     0                   0   \n",
       "...                 ...                   ...                 ...   \n",
       "1335                  1                     0                   0   \n",
       "1336                  0                     0                   0   \n",
       "1337                  0                     0                   0   \n",
       "1338                  0                     0                   0   \n",
       "1339                  1                     0                   0   \n",
       "\n",
       "      Position_Third_base  \n",
       "0                       0  \n",
       "1                       0  \n",
       "2                       0  \n",
       "3                       1  \n",
       "4                       0  \n",
       "...                   ...  \n",
       "1335                    0  \n",
       "1336                    0  \n",
       "1337                    1  \n",
       "1338                    1  \n",
       "1339                    0  \n",
       "\n",
       "[1340 rows x 7 columns]"
      ]
     },
     "execution_count": 12,
     "metadata": {},
     "output_type": "execute_result"
    }
   ],
   "source": [
    "# One hot encoding on 'Position' column\n",
    "dummy =pd.get_dummies(baseball['Position'],columns='Position',prefix='Position')\n",
    "dummy"
   ]
  },
  {
   "cell_type": "code",
   "execution_count": 13,
   "metadata": {},
   "outputs": [],
   "source": [
    "baseball=pd.concat([baseball, dummy], axis=1)\n",
    "baseball.drop(['Position'],axis=1,inplace= True)"
   ]
  },
  {
   "cell_type": "code",
   "execution_count": 14,
   "metadata": {},
   "outputs": [
    {
     "data": {
      "text/html": [
       "<div>\n",
       "<style scoped>\n",
       "    .dataframe tbody tr th:only-of-type {\n",
       "        vertical-align: middle;\n",
       "    }\n",
       "\n",
       "    .dataframe tbody tr th {\n",
       "        vertical-align: top;\n",
       "    }\n",
       "\n",
       "    .dataframe thead th {\n",
       "        text-align: right;\n",
       "    }\n",
       "</style>\n",
       "<table border=\"1\" class=\"dataframe\">\n",
       "  <thead>\n",
       "    <tr style=\"text-align: right;\">\n",
       "      <th></th>\n",
       "      <th>Number_seasons</th>\n",
       "      <th>Games_played</th>\n",
       "      <th>At_bats</th>\n",
       "      <th>Runs</th>\n",
       "      <th>Hits</th>\n",
       "      <th>Doubles</th>\n",
       "      <th>Triples</th>\n",
       "      <th>Home_runs</th>\n",
       "      <th>RBIs</th>\n",
       "      <th>Walks</th>\n",
       "      <th>...</th>\n",
       "      <th>On_base_pct</th>\n",
       "      <th>Slugging_pct</th>\n",
       "      <th>Fielding_ave</th>\n",
       "      <th>Position_Catcher</th>\n",
       "      <th>Position_Designated_hitter</th>\n",
       "      <th>Position_First_base</th>\n",
       "      <th>Position_Outfield</th>\n",
       "      <th>Position_Second_base</th>\n",
       "      <th>Position_Shortstop</th>\n",
       "      <th>Position_Third_base</th>\n",
       "    </tr>\n",
       "  </thead>\n",
       "  <tbody>\n",
       "    <tr>\n",
       "      <td>0</td>\n",
       "      <td>23</td>\n",
       "      <td>3298</td>\n",
       "      <td>12364</td>\n",
       "      <td>2174.0</td>\n",
       "      <td>3771.0</td>\n",
       "      <td>624</td>\n",
       "      <td>98.000000</td>\n",
       "      <td>755</td>\n",
       "      <td>2297</td>\n",
       "      <td>1402.000000</td>\n",
       "      <td>...</td>\n",
       "      <td>0.377</td>\n",
       "      <td>0.555000</td>\n",
       "      <td>0.980</td>\n",
       "      <td>0</td>\n",
       "      <td>0</td>\n",
       "      <td>0</td>\n",
       "      <td>1</td>\n",
       "      <td>0</td>\n",
       "      <td>0</td>\n",
       "      <td>0</td>\n",
       "    </tr>\n",
       "    <tr>\n",
       "      <td>1</td>\n",
       "      <td>13</td>\n",
       "      <td>1165</td>\n",
       "      <td>4019</td>\n",
       "      <td>378.0</td>\n",
       "      <td>1022.0</td>\n",
       "      <td>163</td>\n",
       "      <td>19.000000</td>\n",
       "      <td>57</td>\n",
       "      <td>366</td>\n",
       "      <td>208.000000</td>\n",
       "      <td>...</td>\n",
       "      <td>0.294</td>\n",
       "      <td>0.347000</td>\n",
       "      <td>0.985</td>\n",
       "      <td>0</td>\n",
       "      <td>0</td>\n",
       "      <td>0</td>\n",
       "      <td>0</td>\n",
       "      <td>1</td>\n",
       "      <td>0</td>\n",
       "      <td>0</td>\n",
       "    </tr>\n",
       "    <tr>\n",
       "      <td>2</td>\n",
       "      <td>13</td>\n",
       "      <td>1424</td>\n",
       "      <td>5557</td>\n",
       "      <td>844.0</td>\n",
       "      <td>1588.0</td>\n",
       "      <td>249</td>\n",
       "      <td>48.000000</td>\n",
       "      <td>9</td>\n",
       "      <td>394</td>\n",
       "      <td>464.402878</td>\n",
       "      <td>...</td>\n",
       "      <td>0.343</td>\n",
       "      <td>0.353000</td>\n",
       "      <td>0.974</td>\n",
       "      <td>0</td>\n",
       "      <td>0</td>\n",
       "      <td>0</td>\n",
       "      <td>0</td>\n",
       "      <td>1</td>\n",
       "      <td>0</td>\n",
       "      <td>0</td>\n",
       "    </tr>\n",
       "    <tr>\n",
       "      <td>3</td>\n",
       "      <td>14</td>\n",
       "      <td>1281</td>\n",
       "      <td>4019</td>\n",
       "      <td>591.0</td>\n",
       "      <td>1082.0</td>\n",
       "      <td>188</td>\n",
       "      <td>47.542857</td>\n",
       "      <td>37</td>\n",
       "      <td>303</td>\n",
       "      <td>414.000000</td>\n",
       "      <td>...</td>\n",
       "      <td>0.340</td>\n",
       "      <td>0.368000</td>\n",
       "      <td>0.955</td>\n",
       "      <td>0</td>\n",
       "      <td>0</td>\n",
       "      <td>0</td>\n",
       "      <td>0</td>\n",
       "      <td>0</td>\n",
       "      <td>0</td>\n",
       "      <td>1</td>\n",
       "    </tr>\n",
       "    <tr>\n",
       "      <td>4</td>\n",
       "      <td>17</td>\n",
       "      <td>1959</td>\n",
       "      <td>6606</td>\n",
       "      <td>823.0</td>\n",
       "      <td>1832.0</td>\n",
       "      <td>295</td>\n",
       "      <td>35.000000</td>\n",
       "      <td>336</td>\n",
       "      <td>1122</td>\n",
       "      <td>594.000000</td>\n",
       "      <td>...</td>\n",
       "      <td>0.339</td>\n",
       "      <td>0.485000</td>\n",
       "      <td>0.994</td>\n",
       "      <td>0</td>\n",
       "      <td>0</td>\n",
       "      <td>1</td>\n",
       "      <td>0</td>\n",
       "      <td>0</td>\n",
       "      <td>0</td>\n",
       "      <td>0</td>\n",
       "    </tr>\n",
       "    <tr>\n",
       "      <td>...</td>\n",
       "      <td>...</td>\n",
       "      <td>...</td>\n",
       "      <td>...</td>\n",
       "      <td>...</td>\n",
       "      <td>...</td>\n",
       "      <td>...</td>\n",
       "      <td>...</td>\n",
       "      <td>...</td>\n",
       "      <td>...</td>\n",
       "      <td>...</td>\n",
       "      <td>...</td>\n",
       "      <td>...</td>\n",
       "      <td>...</td>\n",
       "      <td>...</td>\n",
       "      <td>...</td>\n",
       "      <td>...</td>\n",
       "      <td>...</td>\n",
       "      <td>...</td>\n",
       "      <td>...</td>\n",
       "      <td>...</td>\n",
       "      <td>...</td>\n",
       "    </tr>\n",
       "    <tr>\n",
       "      <td>1335</td>\n",
       "      <td>11</td>\n",
       "      <td>1234</td>\n",
       "      <td>4131</td>\n",
       "      <td>572.0</td>\n",
       "      <td>1093.0</td>\n",
       "      <td>159</td>\n",
       "      <td>22.000000</td>\n",
       "      <td>237</td>\n",
       "      <td>776</td>\n",
       "      <td>496.778252</td>\n",
       "      <td>...</td>\n",
       "      <td>0.331</td>\n",
       "      <td>0.486000</td>\n",
       "      <td>0.968</td>\n",
       "      <td>0</td>\n",
       "      <td>0</td>\n",
       "      <td>0</td>\n",
       "      <td>1</td>\n",
       "      <td>0</td>\n",
       "      <td>0</td>\n",
       "      <td>0</td>\n",
       "    </tr>\n",
       "    <tr>\n",
       "      <td>1336</td>\n",
       "      <td>19</td>\n",
       "      <td>1280</td>\n",
       "      <td>4546</td>\n",
       "      <td>617.0</td>\n",
       "      <td>1224.0</td>\n",
       "      <td>222</td>\n",
       "      <td>76.000000</td>\n",
       "      <td>26</td>\n",
       "      <td>620</td>\n",
       "      <td>390.000000</td>\n",
       "      <td>...</td>\n",
       "      <td>0.339</td>\n",
       "      <td>0.354012</td>\n",
       "      <td>0.952</td>\n",
       "      <td>1</td>\n",
       "      <td>0</td>\n",
       "      <td>0</td>\n",
       "      <td>0</td>\n",
       "      <td>0</td>\n",
       "      <td>0</td>\n",
       "      <td>0</td>\n",
       "    </tr>\n",
       "    <tr>\n",
       "      <td>1337</td>\n",
       "      <td>12</td>\n",
       "      <td>1095</td>\n",
       "      <td>3283</td>\n",
       "      <td>353.0</td>\n",
       "      <td>773.0</td>\n",
       "      <td>130</td>\n",
       "      <td>22.000000</td>\n",
       "      <td>91</td>\n",
       "      <td>352</td>\n",
       "      <td>246.000000</td>\n",
       "      <td>...</td>\n",
       "      <td>0.291</td>\n",
       "      <td>0.372000</td>\n",
       "      <td>0.941</td>\n",
       "      <td>0</td>\n",
       "      <td>0</td>\n",
       "      <td>0</td>\n",
       "      <td>0</td>\n",
       "      <td>0</td>\n",
       "      <td>0</td>\n",
       "      <td>1</td>\n",
       "    </tr>\n",
       "    <tr>\n",
       "      <td>1338</td>\n",
       "      <td>13</td>\n",
       "      <td>1456</td>\n",
       "      <td>5304</td>\n",
       "      <td>695.0</td>\n",
       "      <td>1566.0</td>\n",
       "      <td>275</td>\n",
       "      <td>105.000000</td>\n",
       "      <td>58</td>\n",
       "      <td>796</td>\n",
       "      <td>242.000000</td>\n",
       "      <td>...</td>\n",
       "      <td>0.331</td>\n",
       "      <td>0.419000</td>\n",
       "      <td>0.928</td>\n",
       "      <td>0</td>\n",
       "      <td>0</td>\n",
       "      <td>0</td>\n",
       "      <td>0</td>\n",
       "      <td>0</td>\n",
       "      <td>0</td>\n",
       "      <td>1</td>\n",
       "    </tr>\n",
       "    <tr>\n",
       "      <td>1339</td>\n",
       "      <td>13</td>\n",
       "      <td>1453</td>\n",
       "      <td>5144</td>\n",
       "      <td>681.0</td>\n",
       "      <td>1477.0</td>\n",
       "      <td>245</td>\n",
       "      <td>26.000000</td>\n",
       "      <td>207</td>\n",
       "      <td>792</td>\n",
       "      <td>533.000000</td>\n",
       "      <td>...</td>\n",
       "      <td>0.355</td>\n",
       "      <td>0.466000</td>\n",
       "      <td>0.981</td>\n",
       "      <td>0</td>\n",
       "      <td>0</td>\n",
       "      <td>0</td>\n",
       "      <td>1</td>\n",
       "      <td>0</td>\n",
       "      <td>0</td>\n",
       "      <td>0</td>\n",
       "    </tr>\n",
       "  </tbody>\n",
       "</table>\n",
       "<p>1340 rows × 22 columns</p>\n",
       "</div>"
      ],
      "text/plain": [
       "      Number_seasons  Games_played  At_bats    Runs    Hits  Doubles  \\\n",
       "0                 23          3298    12364  2174.0  3771.0      624   \n",
       "1                 13          1165     4019   378.0  1022.0      163   \n",
       "2                 13          1424     5557   844.0  1588.0      249   \n",
       "3                 14          1281     4019   591.0  1082.0      188   \n",
       "4                 17          1959     6606   823.0  1832.0      295   \n",
       "...              ...           ...      ...     ...     ...      ...   \n",
       "1335              11          1234     4131   572.0  1093.0      159   \n",
       "1336              19          1280     4546   617.0  1224.0      222   \n",
       "1337              12          1095     3283   353.0   773.0      130   \n",
       "1338              13          1456     5304   695.0  1566.0      275   \n",
       "1339              13          1453     5144   681.0  1477.0      245   \n",
       "\n",
       "         Triples  Home_runs  RBIs        Walks  ...  On_base_pct  \\\n",
       "0      98.000000        755  2297  1402.000000  ...        0.377   \n",
       "1      19.000000         57   366   208.000000  ...        0.294   \n",
       "2      48.000000          9   394   464.402878  ...        0.343   \n",
       "3      47.542857         37   303   414.000000  ...        0.340   \n",
       "4      35.000000        336  1122   594.000000  ...        0.339   \n",
       "...          ...        ...   ...          ...  ...          ...   \n",
       "1335   22.000000        237   776   496.778252  ...        0.331   \n",
       "1336   76.000000         26   620   390.000000  ...        0.339   \n",
       "1337   22.000000         91   352   246.000000  ...        0.291   \n",
       "1338  105.000000         58   796   242.000000  ...        0.331   \n",
       "1339   26.000000        207   792   533.000000  ...        0.355   \n",
       "\n",
       "      Slugging_pct  Fielding_ave  Position_Catcher  \\\n",
       "0         0.555000         0.980                 0   \n",
       "1         0.347000         0.985                 0   \n",
       "2         0.353000         0.974                 0   \n",
       "3         0.368000         0.955                 0   \n",
       "4         0.485000         0.994                 0   \n",
       "...            ...           ...               ...   \n",
       "1335      0.486000         0.968                 0   \n",
       "1336      0.354012         0.952                 1   \n",
       "1337      0.372000         0.941                 0   \n",
       "1338      0.419000         0.928                 0   \n",
       "1339      0.466000         0.981                 0   \n",
       "\n",
       "      Position_Designated_hitter  Position_First_base  Position_Outfield  \\\n",
       "0                              0                    0                  1   \n",
       "1                              0                    0                  0   \n",
       "2                              0                    0                  0   \n",
       "3                              0                    0                  0   \n",
       "4                              0                    1                  0   \n",
       "...                          ...                  ...                ...   \n",
       "1335                           0                    0                  1   \n",
       "1336                           0                    0                  0   \n",
       "1337                           0                    0                  0   \n",
       "1338                           0                    0                  0   \n",
       "1339                           0                    0                  1   \n",
       "\n",
       "      Position_Second_base  Position_Shortstop  Position_Third_base  \n",
       "0                        0                   0                    0  \n",
       "1                        1                   0                    0  \n",
       "2                        1                   0                    0  \n",
       "3                        0                   0                    1  \n",
       "4                        0                   0                    0  \n",
       "...                    ...                 ...                  ...  \n",
       "1335                     0                   0                    0  \n",
       "1336                     0                   0                    0  \n",
       "1337                     0                   0                    1  \n",
       "1338                     0                   0                    1  \n",
       "1339                     0                   0                    0  \n",
       "\n",
       "[1340 rows x 22 columns]"
      ]
     },
     "execution_count": 14,
     "metadata": {},
     "output_type": "execute_result"
    }
   ],
   "source": [
    "X = baseball.loc[:, baseball.columns != 'Hall_of_Fame']   #all columns except the Hall_of_Fame\n",
    "X"
   ]
  },
  {
   "cell_type": "code",
   "execution_count": 15,
   "metadata": {},
   "outputs": [
    {
     "data": {
      "text/html": [
       "<div>\n",
       "<style scoped>\n",
       "    .dataframe tbody tr th:only-of-type {\n",
       "        vertical-align: middle;\n",
       "    }\n",
       "\n",
       "    .dataframe tbody tr th {\n",
       "        vertical-align: top;\n",
       "    }\n",
       "\n",
       "    .dataframe thead th {\n",
       "        text-align: right;\n",
       "    }\n",
       "</style>\n",
       "<table border=\"1\" class=\"dataframe\">\n",
       "  <thead>\n",
       "    <tr style=\"text-align: right;\">\n",
       "      <th></th>\n",
       "      <th>Hall_of_Fame</th>\n",
       "    </tr>\n",
       "  </thead>\n",
       "  <tbody>\n",
       "    <tr>\n",
       "      <td>0</td>\n",
       "      <td>1</td>\n",
       "    </tr>\n",
       "    <tr>\n",
       "      <td>1</td>\n",
       "      <td>0</td>\n",
       "    </tr>\n",
       "    <tr>\n",
       "      <td>2</td>\n",
       "      <td>0</td>\n",
       "    </tr>\n",
       "    <tr>\n",
       "      <td>3</td>\n",
       "      <td>0</td>\n",
       "    </tr>\n",
       "    <tr>\n",
       "      <td>4</td>\n",
       "      <td>0</td>\n",
       "    </tr>\n",
       "    <tr>\n",
       "      <td>...</td>\n",
       "      <td>...</td>\n",
       "    </tr>\n",
       "    <tr>\n",
       "      <td>1335</td>\n",
       "      <td>0</td>\n",
       "    </tr>\n",
       "    <tr>\n",
       "      <td>1336</td>\n",
       "      <td>0</td>\n",
       "    </tr>\n",
       "    <tr>\n",
       "      <td>1337</td>\n",
       "      <td>0</td>\n",
       "    </tr>\n",
       "    <tr>\n",
       "      <td>1338</td>\n",
       "      <td>0</td>\n",
       "    </tr>\n",
       "    <tr>\n",
       "      <td>1339</td>\n",
       "      <td>0</td>\n",
       "    </tr>\n",
       "  </tbody>\n",
       "</table>\n",
       "<p>1340 rows × 1 columns</p>\n",
       "</div>"
      ],
      "text/plain": [
       "      Hall_of_Fame\n",
       "0                1\n",
       "1                0\n",
       "2                0\n",
       "3                0\n",
       "4                0\n",
       "...            ...\n",
       "1335             0\n",
       "1336             0\n",
       "1337             0\n",
       "1338             0\n",
       "1339             0\n",
       "\n",
       "[1340 rows x 1 columns]"
      ]
     },
     "execution_count": 15,
     "metadata": {},
     "output_type": "execute_result"
    }
   ],
   "source": [
    "y = baseball.iloc[:, baseball.columns == 'Hall_of_Fame']  #taking only 'Hall_of_Fame' column\n",
    "y"
   ]
  },
  {
   "cell_type": "code",
   "execution_count": 16,
   "metadata": {},
   "outputs": [
    {
     "data": {
      "text/plain": [
       "array([1, 0, 2], dtype=int64)"
      ]
     },
     "execution_count": 16,
     "metadata": {},
     "output_type": "execute_result"
    }
   ],
   "source": [
    "baseball['Hall_of_Fame'].unique()"
   ]
  },
  {
   "cell_type": "code",
   "execution_count": 17,
   "metadata": {},
   "outputs": [
    {
     "data": {
      "text/plain": [
       "0.14402985074626865"
      ]
     },
     "execution_count": 17,
     "metadata": {},
     "output_type": "execute_result"
    }
   ],
   "source": [
    "baseball['Hall_of_Fame'].sum()/baseball['Hall_of_Fame'].count()"
   ]
  },
  {
   "cell_type": "markdown",
   "metadata": {},
   "source": [
    "## Splitting Data"
   ]
  },
  {
   "cell_type": "code",
   "execution_count": 18,
   "metadata": {},
   "outputs": [],
   "source": [
    "from sklearn.preprocessing import MinMaxScaler,StandardScaler\n",
    "from sklearn.model_selection import train_test_split\n",
    "from sklearn import datasets, linear_model"
   ]
  },
  {
   "cell_type": "code",
   "execution_count": 19,
   "metadata": {},
   "outputs": [
    {
     "name": "stdout",
     "output_type": "stream",
     "text": [
      "(1005, 22) (1005, 1)\n",
      "(335, 22) (335, 1)\n"
     ]
    }
   ],
   "source": [
    "X_train_org, X_test_org, y_train, y_test = train_test_split(X, y, random_state = 0, shuffle=True,stratify=y,test_size = 0.25)\n",
    "print(X_train_org.shape, y_train.shape)\n",
    "print (X_test_org.shape, y_test.shape)\n",
    "\n",
    "\n",
    "scaler = MinMaxScaler()\n",
    "X_train = scaler.fit_transform(X_train_org)\n",
    "X_test = scaler.transform(X_test_org)"
   ]
  },
  {
   "cell_type": "markdown",
   "metadata": {},
   "source": [
    "We are using MinMaxScaler since there is skewness in the histogram plots."
   ]
  },
  {
   "cell_type": "code",
   "execution_count": 20,
   "metadata": {},
   "outputs": [
    {
     "data": {
      "text/plain": [
       "array([[0.        , 0.25511397, 0.21375263, ..., 0.        , 0.        ,\n",
       "        0.        ],\n",
       "       [0.13333333, 0.39099942, 0.41141946, ..., 1.        , 0.        ,\n",
       "        0.        ],\n",
       "       [0.33333333, 0.44301578, 0.42272299, ..., 0.        , 1.        ,\n",
       "        0.        ],\n",
       "       ...,\n",
       "       [0.33333333, 0.44155465, 0.3879429 , ..., 0.        , 0.        ,\n",
       "        0.        ],\n",
       "       [0.13333333, 0.27440094, 0.27106731, ..., 1.        , 0.        ,\n",
       "        0.        ],\n",
       "       [0.33333333, 0.38018703, 0.30983262, ..., 0.        , 0.        ,\n",
       "        0.        ]])"
      ]
     },
     "execution_count": 20,
     "metadata": {},
     "output_type": "execute_result"
    }
   ],
   "source": [
    "X_train"
   ]
  },
  {
   "cell_type": "code",
   "execution_count": 21,
   "metadata": {},
   "outputs": [
    {
     "data": {
      "text/plain": [
       "array([0, 0, 2, ..., 0, 0, 0], dtype=int64)"
      ]
     },
     "execution_count": 21,
     "metadata": {},
     "output_type": "execute_result"
    }
   ],
   "source": [
    "y_train=np.ravel(y_train, order = 'C')\n",
    "y_train"
   ]
  },
  {
   "cell_type": "markdown",
   "metadata": {},
   "source": [
    "## Hard voting classifier"
   ]
  },
  {
   "cell_type": "code",
   "execution_count": 22,
   "metadata": {},
   "outputs": [],
   "source": [
    "from sklearn.neighbors import KNeighborsClassifier\n",
    "from sklearn.ensemble import VotingClassifier\n",
    "from sklearn.linear_model import LogisticRegression\n",
    "from sklearn.svm import SVC"
   ]
  },
  {
   "cell_type": "code",
   "execution_count": 23,
   "metadata": {},
   "outputs": [
    {
     "name": "stdout",
     "output_type": "stream",
     "text": [
      "LogisticRegression 0.9432835820895522\n",
      "KNeighborsClassifier 0.9223880597014925\n",
      "SVC 0.9462686567164179\n",
      "VotingClassifier 0.9402985074626866\n"
     ]
    }
   ],
   "source": [
    "softmax_clf = LogisticRegression(random_state = 0, solver = 'lbfgs',multi_class='multinomial',C=100,max_iter= 1000)\n",
    "softmax_clf.fit(X_train, y_train)\n",
    "knn_clf = KNeighborsClassifier(6)\n",
    "knn_clf.fit(X_train, y_train)\n",
    "svm_clf = SVC(kernel='rbf',random_state=0,C= 100, gamma= 0.1,probability = True)\n",
    "svm_clf.fit(X_train, y_train)\n",
    "\n",
    "voting_clf = VotingClassifier(estimators=[('sm', softmax_clf), ('knn', knn_clf), ('svc', svm_clf)], voting='hard')\n",
    "voting_clf.fit(X_train, y_train)\n",
    "\n",
    "from sklearn.metrics import accuracy_score\n",
    "for clf in (softmax_clf, knn_clf, svm_clf, voting_clf):\n",
    "    clf.fit(X_train, y_train)\n",
    "    y_pred = clf.predict(X_test)\n",
    "    print(clf.__class__.__name__, accuracy_score(y_test, y_pred))"
   ]
  },
  {
   "cell_type": "code",
   "execution_count": 24,
   "metadata": {},
   "outputs": [
    {
     "name": "stdout",
     "output_type": "stream",
     "text": [
      "softmax-Train score: 0.9532\n",
      "softmax-Test score: 0.9433\n",
      "[[302   1   1]\n",
      " [  3   7   4]\n",
      " [  9   1   7]]\n",
      "              precision    recall  f1-score   support\n",
      "\n",
      "           0       0.96      0.99      0.98       304\n",
      "           1       0.78      0.50      0.61        14\n",
      "           2       0.58      0.41      0.48        17\n",
      "\n",
      "    accuracy                           0.94       335\n",
      "   macro avg       0.77      0.64      0.69       335\n",
      "weighted avg       0.93      0.94      0.94       335\n",
      "\n"
     ]
    }
   ],
   "source": [
    "from sklearn.metrics import classification_report, confusion_matrix\n",
    "\n",
    "print('softmax-Train score: {:.4f}'.format(softmax_clf.score(X_train, y_train)))\n",
    "print('softmax-Test score: {:.4f}'.format(softmax_clf.score(X_test, y_test)))\n",
    "\n",
    "y_soft_pred = softmax_clf.predict(X_test)\n",
    "\n",
    "print(confusion_matrix(y_test, y_soft_pred))\n",
    "print(classification_report(y_test, y_soft_pred))"
   ]
  },
  {
   "cell_type": "code",
   "execution_count": 25,
   "metadata": {},
   "outputs": [
    {
     "name": "stdout",
     "output_type": "stream",
     "text": [
      "knn-Train score: 0.9323\n",
      "knn-Test score: 0.9224\n",
      "[[303   1   0]\n",
      " [  9   1   4]\n",
      " [ 11   1   5]]\n",
      "              precision    recall  f1-score   support\n",
      "\n",
      "           0       0.94      1.00      0.97       304\n",
      "           1       0.33      0.07      0.12        14\n",
      "           2       0.56      0.29      0.38        17\n",
      "\n",
      "    accuracy                           0.92       335\n",
      "   macro avg       0.61      0.45      0.49       335\n",
      "weighted avg       0.89      0.92      0.90       335\n",
      "\n"
     ]
    }
   ],
   "source": [
    "from sklearn.metrics import classification_report, confusion_matrix\n",
    "\n",
    "print('knn-Train score: {:.4f}'.format(knn_clf.score(X_train, y_train)))\n",
    "print('knn-Test score: {:.4f}'.format(knn_clf.score(X_test, y_test)))\n",
    "\n",
    "y_knn_pred = knn_clf.predict(X_test)\n",
    "\n",
    "print(confusion_matrix(y_test, y_knn_pred))\n",
    "print(classification_report(y_test, y_knn_pred))"
   ]
  },
  {
   "cell_type": "code",
   "execution_count": 26,
   "metadata": {},
   "outputs": [
    {
     "name": "stdout",
     "output_type": "stream",
     "text": [
      "svc-Train score: 0.9672\n",
      "svc-Test score: 0.9463\n",
      "[[303   1   0]\n",
      " [  5   6   3]\n",
      " [  8   1   8]]\n",
      "              precision    recall  f1-score   support\n",
      "\n",
      "           0       0.96      1.00      0.98       304\n",
      "           1       0.75      0.43      0.55        14\n",
      "           2       0.73      0.47      0.57        17\n",
      "\n",
      "    accuracy                           0.95       335\n",
      "   macro avg       0.81      0.63      0.70       335\n",
      "weighted avg       0.94      0.95      0.94       335\n",
      "\n"
     ]
    }
   ],
   "source": [
    "from sklearn.metrics import classification_report, confusion_matrix\n",
    "\n",
    "print('svc-Train score: {:.4f}'.format(svm_clf.score(X_train, y_train)))\n",
    "print('svc-Test score: {:.4f}'.format(svm_clf.score(X_test, y_test)))\n",
    "\n",
    "y_svm_pred = svm_clf.predict(X_test)\n",
    "\n",
    "print(confusion_matrix(y_test, y_svm_pred))\n",
    "print(classification_report(y_test, y_svm_pred))"
   ]
  },
  {
   "cell_type": "code",
   "execution_count": 27,
   "metadata": {},
   "outputs": [
    {
     "name": "stdout",
     "output_type": "stream",
     "text": [
      "voting-Train score: 0.9562\n",
      "voting-Test score: 0.9403\n",
      "[[303   1   0]\n",
      " [  5   5   4]\n",
      " [  9   1   7]]\n",
      "              precision    recall  f1-score   support\n",
      "\n",
      "           0       0.96      1.00      0.98       304\n",
      "           1       0.71      0.36      0.48        14\n",
      "           2       0.64      0.41      0.50        17\n",
      "\n",
      "    accuracy                           0.94       335\n",
      "   macro avg       0.77      0.59      0.65       335\n",
      "weighted avg       0.93      0.94      0.93       335\n",
      "\n"
     ]
    }
   ],
   "source": [
    "from sklearn.metrics import classification_report, confusion_matrix\n",
    "\n",
    "print('voting-Train score: {:.4f}'.format(voting_clf.score(X_train, y_train)))\n",
    "print('voting-Test score: {:.4f}'.format(voting_clf.score(X_test, y_test)))\n",
    "\n",
    "y_voting_pred = voting_clf.predict(X_test)\n",
    "\n",
    "print(confusion_matrix(y_test, y_voting_pred))\n",
    "print(classification_report(y_test, y_voting_pred))"
   ]
  },
  {
   "cell_type": "markdown",
   "metadata": {},
   "source": [
    "## Soft voting classifier"
   ]
  },
  {
   "cell_type": "code",
   "execution_count": 28,
   "metadata": {},
   "outputs": [
    {
     "name": "stdout",
     "output_type": "stream",
     "text": [
      "LogisticRegression 0.9432835820895522\n",
      "KNeighborsClassifier 0.9223880597014925\n",
      "SVC 0.9462686567164179\n",
      "VotingClassifier 0.9432835820895522\n"
     ]
    }
   ],
   "source": [
    "softmax1_clf = LogisticRegression(random_state = 0, solver = 'lbfgs',multi_class='multinomial',C=100,max_iter= 1000)\n",
    "softmax1_clf.fit(X_train, y_train)\n",
    "knn1_clf = KNeighborsClassifier(6)\n",
    "knn1_clf.fit(X_train, y_train)\n",
    "svm1_clf = SVC(kernel='rbf',random_state=0,C= 100, gamma= 0.1,probability = True)\n",
    "svm1_clf.fit(X_train, y_train)\n",
    "\n",
    "voting1_clf = VotingClassifier(estimators=[('sm1', softmax1_clf), ('knn1', knn1_clf), ('svc1', svm1_clf)], voting='soft')\n",
    "voting1_clf.fit(X_train, y_train)\n",
    "\n",
    "from sklearn.metrics import accuracy_score\n",
    "for clf in (softmax1_clf, knn1_clf, svm1_clf, voting1_clf):\n",
    "    clf.fit(X_train, y_train)\n",
    "    y_pred1 = clf.predict(X_test)\n",
    "    print(clf.__class__.__name__, accuracy_score(y_test, y_pred1))\n"
   ]
  },
  {
   "cell_type": "code",
   "execution_count": 29,
   "metadata": {},
   "outputs": [
    {
     "name": "stdout",
     "output_type": "stream",
     "text": [
      "softmax-Train score: 0.9532\n",
      "softmax-Test score: 0.9433\n",
      "[[302   1   1]\n",
      " [  3   7   4]\n",
      " [  9   1   7]]\n",
      "              precision    recall  f1-score   support\n",
      "\n",
      "           0       0.96      0.99      0.98       304\n",
      "           1       0.78      0.50      0.61        14\n",
      "           2       0.58      0.41      0.48        17\n",
      "\n",
      "    accuracy                           0.94       335\n",
      "   macro avg       0.77      0.64      0.69       335\n",
      "weighted avg       0.93      0.94      0.94       335\n",
      "\n"
     ]
    }
   ],
   "source": [
    "from sklearn.metrics import classification_report, confusion_matrix\n",
    "\n",
    "print('softmax-Train score: {:.4f}'.format(softmax1_clf.score(X_train, y_train)))\n",
    "print('softmax-Test score: {:.4f}'.format(softmax1_clf.score(X_test, y_test)))\n",
    "\n",
    "y_soft_pred1 = softmax1_clf.predict(X_test)\n",
    "\n",
    "print(confusion_matrix(y_test, y_soft_pred1))\n",
    "print(classification_report(y_test, y_soft_pred1))"
   ]
  },
  {
   "cell_type": "code",
   "execution_count": 30,
   "metadata": {},
   "outputs": [
    {
     "name": "stdout",
     "output_type": "stream",
     "text": [
      "knn-Train score: 0.9323\n",
      "knn-Test score: 0.9224\n",
      "[[303   1   0]\n",
      " [  9   1   4]\n",
      " [ 11   1   5]]\n",
      "              precision    recall  f1-score   support\n",
      "\n",
      "           0       0.94      1.00      0.97       304\n",
      "           1       0.33      0.07      0.12        14\n",
      "           2       0.56      0.29      0.38        17\n",
      "\n",
      "    accuracy                           0.92       335\n",
      "   macro avg       0.61      0.45      0.49       335\n",
      "weighted avg       0.89      0.92      0.90       335\n",
      "\n"
     ]
    }
   ],
   "source": [
    "from sklearn.metrics import classification_report, confusion_matrix\n",
    "\n",
    "print('knn-Train score: {:.4f}'.format(knn1_clf.score(X_train, y_train)))\n",
    "print('knn-Test score: {:.4f}'.format(knn1_clf.score(X_test, y_test)))\n",
    "\n",
    "y_knn_pred1 = knn1_clf.predict(X_test)\n",
    "\n",
    "print(confusion_matrix(y_test, y_knn_pred1))\n",
    "print(classification_report(y_test, y_knn_pred1))"
   ]
  },
  {
   "cell_type": "code",
   "execution_count": 31,
   "metadata": {},
   "outputs": [
    {
     "name": "stdout",
     "output_type": "stream",
     "text": [
      "svc-Train score: 0.9672\n",
      "svc-Test score: 0.9463\n",
      "[[303   1   0]\n",
      " [  5   6   3]\n",
      " [  8   1   8]]\n",
      "              precision    recall  f1-score   support\n",
      "\n",
      "           0       0.96      1.00      0.98       304\n",
      "           1       0.75      0.43      0.55        14\n",
      "           2       0.73      0.47      0.57        17\n",
      "\n",
      "    accuracy                           0.95       335\n",
      "   macro avg       0.81      0.63      0.70       335\n",
      "weighted avg       0.94      0.95      0.94       335\n",
      "\n"
     ]
    }
   ],
   "source": [
    "from sklearn.metrics import classification_report, confusion_matrix\n",
    "\n",
    "print('svc-Train score: {:.4f}'.format(svm1_clf.score(X_train, y_train)))\n",
    "print('svc-Test score: {:.4f}'.format(svm1_clf.score(X_test, y_test)))\n",
    "\n",
    "y_svm_pred1 = svm1_clf.predict(X_test)\n",
    "\n",
    "print(confusion_matrix(y_test, y_svm_pred1))\n",
    "print(classification_report(y_test, y_svm_pred1))"
   ]
  },
  {
   "cell_type": "code",
   "execution_count": 32,
   "metadata": {},
   "outputs": [
    {
     "name": "stdout",
     "output_type": "stream",
     "text": [
      "voting-Train score: 0.9532\n",
      "voting-Test score: 0.9433\n",
      "[[303   1   0]\n",
      " [  4   6   4]\n",
      " [  8   2   7]]\n",
      "              precision    recall  f1-score   support\n",
      "\n",
      "           0       0.96      1.00      0.98       304\n",
      "           1       0.67      0.43      0.52        14\n",
      "           2       0.64      0.41      0.50        17\n",
      "\n",
      "    accuracy                           0.94       335\n",
      "   macro avg       0.75      0.61      0.67       335\n",
      "weighted avg       0.93      0.94      0.94       335\n",
      "\n"
     ]
    }
   ],
   "source": [
    "from sklearn.metrics import classification_report, confusion_matrix\n",
    "\n",
    "print('voting-Train score: {:.4f}'.format(voting1_clf.score(X_train, y_train)))\n",
    "print('voting-Test score: {:.4f}'.format(voting1_clf.score(X_test, y_test)))\n",
    "\n",
    "y_voting_pred1 = voting1_clf.predict(X_test)\n",
    "\n",
    "print(confusion_matrix(y_test, y_voting_pred1))\n",
    "print(classification_report(y_test, y_voting_pred1))"
   ]
  },
  {
   "cell_type": "markdown",
   "metadata": {},
   "source": [
    "## Bagging"
   ]
  },
  {
   "cell_type": "markdown",
   "metadata": {},
   "source": [
    "### Decision Tree Classifier"
   ]
  },
  {
   "cell_type": "code",
   "execution_count": 33,
   "metadata": {},
   "outputs": [
    {
     "data": {
      "text/plain": [
       "GridSearchCV(cv=10, error_score=nan,\n",
       "             estimator=BaggingClassifier(base_estimator=DecisionTreeClassifier(ccp_alpha=0.0,\n",
       "                                                                               class_weight=None,\n",
       "                                                                               criterion='gini',\n",
       "                                                                               max_depth=6,\n",
       "                                                                               max_features=6,\n",
       "                                                                               max_leaf_nodes=None,\n",
       "                                                                               min_impurity_decrease=0.0,\n",
       "                                                                               min_impurity_split=None,\n",
       "                                                                               min_samples_leaf=4,\n",
       "                                                                               min_samples_split=25,\n",
       "                                                                               min_weight_fraction_leaf=0.0,\n",
       "                                                                               presort='deprecated',\n",
       "                                                                               random_state=...\n",
       "                                         bootstrap=True,\n",
       "                                         bootstrap_features=False,\n",
       "                                         max_features=1.0, max_samples=1.0,\n",
       "                                         n_estimators=10, n_jobs=-1,\n",
       "                                         oob_score=False, random_state=0,\n",
       "                                         verbose=0, warm_start=False),\n",
       "             iid='deprecated', n_jobs=None,\n",
       "             param_grid={'max_samples': [100, 150, 200, 250, 300],\n",
       "                         'n_estimators': [40, 50, 70, 100, 250, 500]},\n",
       "             pre_dispatch='2*n_jobs', refit=True, return_train_score=False,\n",
       "             scoring=None, verbose=0)"
      ]
     },
     "execution_count": 33,
     "metadata": {},
     "output_type": "execute_result"
    }
   ],
   "source": [
    "from sklearn import tree\n",
    "from sklearn.tree import DecisionTreeClassifier\n",
    "from sklearn.model_selection import GridSearchCV\n",
    "from sklearn.ensemble import BaggingClassifier\n",
    "\n",
    "dt = DecisionTreeClassifier(random_state=0,max_depth=6 ,criterion='gini',max_features=6,min_samples_leaf=4,min_samples_split=25,splitter='best')\n",
    "dt_bc_parameters = {'max_samples': [100, 150, 200, 250, 300],\n",
    "                  'n_estimators': [40, 50, 70, 100, 250, 500]}\n",
    "                  \n",
    "dt_bc = BaggingClassifier(dt, bootstrap=True, n_jobs=-1, random_state=0)\n",
    "dt_grid = GridSearchCV(dt_bc, dt_bc_parameters,cv=10)\n",
    "dt_grid.fit(X_train, y_train)"
   ]
  },
  {
   "cell_type": "code",
   "execution_count": 34,
   "metadata": {},
   "outputs": [
    {
     "data": {
      "text/plain": [
       "BaggingClassifier(base_estimator=DecisionTreeClassifier(ccp_alpha=0.0,\n",
       "                                                        class_weight=None,\n",
       "                                                        criterion='gini',\n",
       "                                                        max_depth=6,\n",
       "                                                        max_features=6,\n",
       "                                                        max_leaf_nodes=None,\n",
       "                                                        min_impurity_decrease=0.0,\n",
       "                                                        min_impurity_split=None,\n",
       "                                                        min_samples_leaf=4,\n",
       "                                                        min_samples_split=25,\n",
       "                                                        min_weight_fraction_leaf=0.0,\n",
       "                                                        presort='deprecated',\n",
       "                                                        random_state=0,\n",
       "                                                        splitter='best'),\n",
       "                  bootstrap=True, bootstrap_features=False, max_features=1.0,\n",
       "                  max_samples=200, n_estimators=100, n_jobs=-1, oob_score=False,\n",
       "                  random_state=0, verbose=0, warm_start=False)"
      ]
     },
     "execution_count": 34,
     "metadata": {},
     "output_type": "execute_result"
    }
   ],
   "source": [
    "dt_grid.best_estimator_"
   ]
  },
  {
   "cell_type": "code",
   "execution_count": 35,
   "metadata": {},
   "outputs": [
    {
     "data": {
      "text/plain": [
       "0.9343465346534652"
      ]
     },
     "execution_count": 35,
     "metadata": {},
     "output_type": "execute_result"
    }
   ],
   "source": [
    "dt_grid.best_score_"
   ]
  },
  {
   "cell_type": "code",
   "execution_count": 36,
   "metadata": {},
   "outputs": [
    {
     "data": {
      "text/plain": [
       "{'max_samples': 200, 'n_estimators': 100}"
      ]
     },
     "execution_count": 36,
     "metadata": {},
     "output_type": "execute_result"
    }
   ],
   "source": [
    "dt_grid.best_params_"
   ]
  },
  {
   "cell_type": "markdown",
   "metadata": {},
   "source": [
    "## Using best parameters for Bagging on Decision tree classifier"
   ]
  },
  {
   "cell_type": "code",
   "execution_count": 37,
   "metadata": {},
   "outputs": [
    {
     "name": "stdout",
     "output_type": "stream",
     "text": [
      "Train score: 0.9323\n",
      "Test score: 0.9134\n"
     ]
    }
   ],
   "source": [
    "dt_test = DecisionTreeClassifier(random_state=0,max_depth=6 ,criterion='gini',max_features=6,min_samples_leaf=4,min_samples_split=25,splitter='best')\n",
    "dt_bctest = BaggingClassifier(dt_test, max_samples=200, n_estimators= 100, bootstrap=True, n_jobs=-1, random_state=0)\n",
    "dt_bctest.fit(X_train, y_train)\n",
    "\n",
    "print('Train score: {:.4f}'.format(dt_bctest.score(X_train, y_train)))\n",
    "print('Test score: {:.4f}'.format(dt_bctest.score(X_test, y_test)))"
   ]
  },
  {
   "cell_type": "code",
   "execution_count": 38,
   "metadata": {},
   "outputs": [
    {
     "name": "stdout",
     "output_type": "stream",
     "text": [
      "[[302   2   0]\n",
      " [ 10   4   0]\n",
      " [ 15   2   0]]\n",
      "              precision    recall  f1-score   support\n",
      "\n",
      "           0       0.92      0.99      0.96       304\n",
      "           1       0.50      0.29      0.36        14\n",
      "           2       0.00      0.00      0.00        17\n",
      "\n",
      "    accuracy                           0.91       335\n",
      "   macro avg       0.47      0.43      0.44       335\n",
      "weighted avg       0.86      0.91      0.88       335\n",
      "\n"
     ]
    },
    {
     "name": "stderr",
     "output_type": "stream",
     "text": [
      "C:\\Anaconda3\\lib\\site-packages\\sklearn\\metrics\\_classification.py:1272: UndefinedMetricWarning: Precision and F-score are ill-defined and being set to 0.0 in labels with no predicted samples. Use `zero_division` parameter to control this behavior.\n",
      "  _warn_prf(average, modifier, msg_start, len(result))\n"
     ]
    }
   ],
   "source": [
    "from sklearn.metrics import classification_report, confusion_matrix\n",
    "\n",
    "y_predict_dtbc = dt_bctest.predict(X_test)\n",
    "\n",
    "print(confusion_matrix(y_test, y_predict_dtbc))\n",
    "print(classification_report(y_test, y_predict_dtbc))"
   ]
  },
  {
   "cell_type": "code",
   "execution_count": 39,
   "metadata": {},
   "outputs": [
    {
     "name": "stdout",
     "output_type": "stream",
     "text": [
      "Decision Tree- mean cross valid score: 0.9343\n"
     ]
    }
   ],
   "source": [
    "from sklearn.model_selection import cross_val_score\n",
    "\n",
    "bag_score=cross_val_score(dt_bctest, X_train, y_train, cv=10, scoring='accuracy').mean()\n",
    "print('Decision Tree- mean cross valid score: {:.4f}'.format(bag_score))"
   ]
  },
  {
   "cell_type": "markdown",
   "metadata": {},
   "source": [
    "### Softmax Regression"
   ]
  },
  {
   "cell_type": "code",
   "execution_count": 40,
   "metadata": {},
   "outputs": [
    {
     "data": {
      "text/plain": [
       "GridSearchCV(cv=10, error_score=nan,\n",
       "             estimator=BaggingClassifier(base_estimator=LogisticRegression(C=100,\n",
       "                                                                           class_weight=None,\n",
       "                                                                           dual=False,\n",
       "                                                                           fit_intercept=True,\n",
       "                                                                           intercept_scaling=1,\n",
       "                                                                           l1_ratio=None,\n",
       "                                                                           max_iter=1000,\n",
       "                                                                           multi_class='multinomial',\n",
       "                                                                           n_jobs=None,\n",
       "                                                                           penalty='l2',\n",
       "                                                                           random_state=0,\n",
       "                                                                           solver='lbfgs',\n",
       "                                                                           tol=0.0001,\n",
       "                                                                           verbose=0,\n",
       "                                                                           warm_start=False),\n",
       "                                         bootstrap=True,\n",
       "                                         bootstrap_features=False,\n",
       "                                         max_features=1.0, max_samples=1.0,\n",
       "                                         n_estimators=10, n_jobs=-1,\n",
       "                                         oob_score=False, random_state=0,\n",
       "                                         verbose=0, warm_start=False),\n",
       "             iid='deprecated', n_jobs=None,\n",
       "             param_grid={'max_samples': [100, 150, 200, 250, 300],\n",
       "                         'n_estimators': [50, 70, 100, 250, 500]},\n",
       "             pre_dispatch='2*n_jobs', refit=True, return_train_score=False,\n",
       "             scoring=None, verbose=0)"
      ]
     },
     "execution_count": 40,
     "metadata": {},
     "output_type": "execute_result"
    }
   ],
   "source": [
    "bsomax = LogisticRegression(random_state = 0, solver = 'lbfgs',multi_class='multinomial',C=100,max_iter= 1000)\n",
    "som_bc_parameters = {'max_samples': [100, 150, 200, 250, 300],\n",
    "                  'n_estimators': [50, 70, 100, 250, 500]}\n",
    "                  \n",
    "som_bc = BaggingClassifier(bsomax, bootstrap=True, n_jobs=-1, random_state=0)\n",
    "sombc_grid = GridSearchCV(som_bc, som_bc_parameters,cv=10)\n",
    "sombc_grid.fit(X_train, y_train)"
   ]
  },
  {
   "cell_type": "code",
   "execution_count": 41,
   "metadata": {},
   "outputs": [
    {
     "data": {
      "text/plain": [
       "BaggingClassifier(base_estimator=LogisticRegression(C=100, class_weight=None,\n",
       "                                                    dual=False,\n",
       "                                                    fit_intercept=True,\n",
       "                                                    intercept_scaling=1,\n",
       "                                                    l1_ratio=None,\n",
       "                                                    max_iter=1000,\n",
       "                                                    multi_class='multinomial',\n",
       "                                                    n_jobs=None, penalty='l2',\n",
       "                                                    random_state=0,\n",
       "                                                    solver='lbfgs', tol=0.0001,\n",
       "                                                    verbose=0,\n",
       "                                                    warm_start=False),\n",
       "                  bootstrap=True, bootstrap_features=False, max_features=1.0,\n",
       "                  max_samples=250, n_estimators=250, n_jobs=-1, oob_score=False,\n",
       "                  random_state=0, verbose=0, warm_start=False)"
      ]
     },
     "execution_count": 41,
     "metadata": {},
     "output_type": "execute_result"
    }
   ],
   "source": [
    "sombc_grid.best_estimator_"
   ]
  },
  {
   "cell_type": "code",
   "execution_count": 42,
   "metadata": {},
   "outputs": [
    {
     "data": {
      "text/plain": [
       "0.9392772277227722"
      ]
     },
     "execution_count": 42,
     "metadata": {},
     "output_type": "execute_result"
    }
   ],
   "source": [
    "sombc_grid.best_score_"
   ]
  },
  {
   "cell_type": "code",
   "execution_count": 43,
   "metadata": {},
   "outputs": [
    {
     "data": {
      "text/plain": [
       "{'max_samples': 250, 'n_estimators': 250}"
      ]
     },
     "execution_count": 43,
     "metadata": {},
     "output_type": "execute_result"
    }
   ],
   "source": [
    "sombc_grid.best_params_"
   ]
  },
  {
   "cell_type": "markdown",
   "metadata": {},
   "source": [
    "## Using best parameters for Bagging on Softmax Regression"
   ]
  },
  {
   "cell_type": "code",
   "execution_count": 44,
   "metadata": {},
   "outputs": [
    {
     "name": "stdout",
     "output_type": "stream",
     "text": [
      "Train score: 0.9433\n",
      "Test score: 0.9373\n"
     ]
    }
   ],
   "source": [
    "bsomax_test = LogisticRegression(random_state = 0, solver = 'lbfgs',multi_class='multinomial',C=100,max_iter= 1000)\n",
    "som_bctest = BaggingClassifier(bsomax_test, max_samples=250, n_estimators= 250, bootstrap=True, n_jobs=-1, random_state=0)\n",
    "som_bctest.fit(X_train, y_train)\n",
    "\n",
    "print('Train score: {:.4f}'.format(som_bctest.score(X_train, y_train)))\n",
    "print('Test score: {:.4f}'.format(som_bctest.score(X_test, y_test)))"
   ]
  },
  {
   "cell_type": "code",
   "execution_count": 45,
   "metadata": {},
   "outputs": [
    {
     "name": "stdout",
     "output_type": "stream",
     "text": [
      "[[302   2   0]\n",
      " [  5   3   6]\n",
      " [  8   0   9]]\n",
      "              precision    recall  f1-score   support\n",
      "\n",
      "           0       0.96      0.99      0.98       304\n",
      "           1       0.60      0.21      0.32        14\n",
      "           2       0.60      0.53      0.56        17\n",
      "\n",
      "    accuracy                           0.94       335\n",
      "   macro avg       0.72      0.58      0.62       335\n",
      "weighted avg       0.93      0.94      0.93       335\n",
      "\n"
     ]
    }
   ],
   "source": [
    "from sklearn.metrics import classification_report, confusion_matrix\n",
    "\n",
    "y_predict_somb = som_bctest.predict(X_test)\n",
    "\n",
    "print(confusion_matrix(y_test, y_predict_somb))\n",
    "print(classification_report(y_test, y_predict_somb))"
   ]
  },
  {
   "cell_type": "code",
   "execution_count": 46,
   "metadata": {},
   "outputs": [
    {
     "name": "stdout",
     "output_type": "stream",
     "text": [
      "softmax regression- mean cross valid score: 0.9393\n"
     ]
    }
   ],
   "source": [
    "somb_score=cross_val_score(som_bctest, X_train, y_train, cv=10, scoring='accuracy').mean()\n",
    "print('softmax regression- mean cross valid score: {:.4f}'.format(somb_score))"
   ]
  },
  {
   "cell_type": "markdown",
   "metadata": {},
   "source": [
    "## Pasting"
   ]
  },
  {
   "cell_type": "markdown",
   "metadata": {},
   "source": [
    "### Decision Tree Classifier"
   ]
  },
  {
   "cell_type": "code",
   "execution_count": 47,
   "metadata": {},
   "outputs": [
    {
     "data": {
      "text/plain": [
       "GridSearchCV(cv=10, error_score=nan,\n",
       "             estimator=BaggingClassifier(base_estimator=DecisionTreeClassifier(ccp_alpha=0.0,\n",
       "                                                                               class_weight=None,\n",
       "                                                                               criterion='gini',\n",
       "                                                                               max_depth=6,\n",
       "                                                                               max_features=6,\n",
       "                                                                               max_leaf_nodes=None,\n",
       "                                                                               min_impurity_decrease=0.0,\n",
       "                                                                               min_impurity_split=None,\n",
       "                                                                               min_samples_leaf=4,\n",
       "                                                                               min_samples_split=25,\n",
       "                                                                               min_weight_fraction_leaf=0.0,\n",
       "                                                                               presort='deprecated',\n",
       "                                                                               random_state=...\n",
       "                                         bootstrap=False,\n",
       "                                         bootstrap_features=False,\n",
       "                                         max_features=1.0, max_samples=1.0,\n",
       "                                         n_estimators=10, n_jobs=-1,\n",
       "                                         oob_score=False, random_state=0,\n",
       "                                         verbose=0, warm_start=False),\n",
       "             iid='deprecated', n_jobs=None,\n",
       "             param_grid={'max_samples': [100, 150, 200, 250, 300],\n",
       "                         'n_estimators': [40, 50, 70, 100, 250, 500]},\n",
       "             pre_dispatch='2*n_jobs', refit=True, return_train_score=False,\n",
       "             scoring=None, verbose=0)"
      ]
     },
     "execution_count": 47,
     "metadata": {},
     "output_type": "execute_result"
    }
   ],
   "source": [
    "pdt = DecisionTreeClassifier(random_state=0,max_depth=6 ,criterion='gini',max_features=6,min_samples_leaf=4,min_samples_split=25,splitter='best')\n",
    "dt_ps_parameters = {'max_samples': [100, 150, 200, 250, 300],\n",
    "                  'n_estimators': [40, 50, 70, 100, 250, 500]}\n",
    "                  \n",
    "dt_ps = BaggingClassifier(pdt, bootstrap=False, n_jobs=-1, random_state=0)\n",
    "dtps_grid = GridSearchCV(dt_ps, dt_ps_parameters,cv=10)\n",
    "dtps_grid.fit(X_train, y_train)"
   ]
  },
  {
   "cell_type": "code",
   "execution_count": 48,
   "metadata": {},
   "outputs": [
    {
     "data": {
      "text/plain": [
       "BaggingClassifier(base_estimator=DecisionTreeClassifier(ccp_alpha=0.0,\n",
       "                                                        class_weight=None,\n",
       "                                                        criterion='gini',\n",
       "                                                        max_depth=6,\n",
       "                                                        max_features=6,\n",
       "                                                        max_leaf_nodes=None,\n",
       "                                                        min_impurity_decrease=0.0,\n",
       "                                                        min_impurity_split=None,\n",
       "                                                        min_samples_leaf=4,\n",
       "                                                        min_samples_split=25,\n",
       "                                                        min_weight_fraction_leaf=0.0,\n",
       "                                                        presort='deprecated',\n",
       "                                                        random_state=0,\n",
       "                                                        splitter='best'),\n",
       "                  bootstrap=False, bootstrap_features=False, max_features=1.0,\n",
       "                  max_samples=200, n_estimators=40, n_jobs=-1, oob_score=False,\n",
       "                  random_state=0, verbose=0, warm_start=False)"
      ]
     },
     "execution_count": 48,
     "metadata": {},
     "output_type": "execute_result"
    }
   ],
   "source": [
    "dtps_grid.best_estimator_"
   ]
  },
  {
   "cell_type": "code",
   "execution_count": 49,
   "metadata": {},
   "outputs": [
    {
     "data": {
      "text/plain": [
       "0.9333366336633663"
      ]
     },
     "execution_count": 49,
     "metadata": {},
     "output_type": "execute_result"
    }
   ],
   "source": [
    "dtps_grid.best_score_"
   ]
  },
  {
   "cell_type": "code",
   "execution_count": 50,
   "metadata": {},
   "outputs": [
    {
     "data": {
      "text/plain": [
       "{'max_samples': 200, 'n_estimators': 40}"
      ]
     },
     "execution_count": 50,
     "metadata": {},
     "output_type": "execute_result"
    }
   ],
   "source": [
    "dtps_grid.best_params_"
   ]
  },
  {
   "cell_type": "markdown",
   "metadata": {},
   "source": [
    "## Using best parameters for Pasting on Decision tree classifier"
   ]
  },
  {
   "cell_type": "code",
   "execution_count": 51,
   "metadata": {},
   "outputs": [
    {
     "name": "stdout",
     "output_type": "stream",
     "text": [
      "Train score: 0.9373\n",
      "Test score: 0.9194\n"
     ]
    }
   ],
   "source": [
    "pdt_test = DecisionTreeClassifier(random_state=0,max_depth=6 ,criterion='gini',max_features=6,min_samples_leaf=4,min_samples_split=25,splitter='best')\n",
    "dt_pstest = BaggingClassifier(pdt_test, max_samples=200, n_estimators= 40, bootstrap=False, n_jobs=-1, random_state=0)\n",
    "dt_pstest.fit(X_train, y_train)\n",
    "\n",
    "print('Train score: {:.4f}'.format(dt_pstest.score(X_train, y_train)))\n",
    "print('Test score: {:.4f}'.format(dt_pstest.score(X_test, y_test)))"
   ]
  },
  {
   "cell_type": "code",
   "execution_count": 52,
   "metadata": {},
   "outputs": [
    {
     "name": "stdout",
     "output_type": "stream",
     "text": [
      "[[303   1   0]\n",
      " [  9   4   1]\n",
      " [ 13   3   1]]\n",
      "              precision    recall  f1-score   support\n",
      "\n",
      "           0       0.93      1.00      0.96       304\n",
      "           1       0.50      0.29      0.36        14\n",
      "           2       0.50      0.06      0.11        17\n",
      "\n",
      "    accuracy                           0.92       335\n",
      "   macro avg       0.64      0.45      0.48       335\n",
      "weighted avg       0.89      0.92      0.89       335\n",
      "\n"
     ]
    }
   ],
   "source": [
    "from sklearn.metrics import classification_report, confusion_matrix\n",
    "\n",
    "y_predict_dtps = dt_pstest.predict(X_test)\n",
    "\n",
    "print(confusion_matrix(y_test, y_predict_dtps))\n",
    "print(classification_report(y_test, y_predict_dtps))"
   ]
  },
  {
   "cell_type": "code",
   "execution_count": 53,
   "metadata": {},
   "outputs": [
    {
     "name": "stdout",
     "output_type": "stream",
     "text": [
      "Decision Tree- mean cross valid score: 0.9333\n"
     ]
    }
   ],
   "source": [
    "from sklearn.model_selection import cross_val_score\n",
    "\n",
    "past_score=cross_val_score(dt_pstest, X_train, y_train, cv=10, scoring='accuracy').mean()\n",
    "print('Decision Tree- mean cross valid score: {:.4f}'.format(past_score))"
   ]
  },
  {
   "cell_type": "markdown",
   "metadata": {},
   "source": [
    "### Softmax Regression"
   ]
  },
  {
   "cell_type": "code",
   "execution_count": 54,
   "metadata": {},
   "outputs": [
    {
     "data": {
      "text/plain": [
       "GridSearchCV(cv=10, error_score=nan,\n",
       "             estimator=BaggingClassifier(base_estimator=LogisticRegression(C=100,\n",
       "                                                                           class_weight=None,\n",
       "                                                                           dual=False,\n",
       "                                                                           fit_intercept=True,\n",
       "                                                                           intercept_scaling=1,\n",
       "                                                                           l1_ratio=None,\n",
       "                                                                           max_iter=1000,\n",
       "                                                                           multi_class='multinomial',\n",
       "                                                                           n_jobs=None,\n",
       "                                                                           penalty='l2',\n",
       "                                                                           random_state=0,\n",
       "                                                                           solver='lbfgs',\n",
       "                                                                           tol=0.0001,\n",
       "                                                                           verbose=0,\n",
       "                                                                           warm_start=False),\n",
       "                                         bootstrap=False,\n",
       "                                         bootstrap_features=False,\n",
       "                                         max_features=1.0, max_samples=1.0,\n",
       "                                         n_estimators=10, n_jobs=-1,\n",
       "                                         oob_score=False, random_state=0,\n",
       "                                         verbose=0, warm_start=False),\n",
       "             iid='deprecated', n_jobs=None,\n",
       "             param_grid={'max_samples': [100, 150, 200, 250, 300],\n",
       "                         'n_estimators': [40, 50, 70, 100, 250, 500]},\n",
       "             pre_dispatch='2*n_jobs', refit=True, return_train_score=False,\n",
       "             scoring=None, verbose=0)"
      ]
     },
     "execution_count": 54,
     "metadata": {},
     "output_type": "execute_result"
    }
   ],
   "source": [
    "somax = LogisticRegression(random_state = 0, solver = 'lbfgs',multi_class='multinomial',C=100,max_iter= 1000)\n",
    "som_ps_parameters = {'max_samples': [100, 150, 200, 250, 300],\n",
    "                  'n_estimators': [40, 50, 70, 100, 250, 500]}\n",
    "                  \n",
    "som_ps = BaggingClassifier(somax, bootstrap=False, n_jobs=-1, random_state=0)\n",
    "somps_grid = GridSearchCV(som_ps, som_ps_parameters,cv=10)\n",
    "somps_grid.fit(X_train, y_train)"
   ]
  },
  {
   "cell_type": "code",
   "execution_count": 55,
   "metadata": {},
   "outputs": [
    {
     "data": {
      "text/plain": [
       "BaggingClassifier(base_estimator=LogisticRegression(C=100, class_weight=None,\n",
       "                                                    dual=False,\n",
       "                                                    fit_intercept=True,\n",
       "                                                    intercept_scaling=1,\n",
       "                                                    l1_ratio=None,\n",
       "                                                    max_iter=1000,\n",
       "                                                    multi_class='multinomial',\n",
       "                                                    n_jobs=None, penalty='l2',\n",
       "                                                    random_state=0,\n",
       "                                                    solver='lbfgs', tol=0.0001,\n",
       "                                                    verbose=0,\n",
       "                                                    warm_start=False),\n",
       "                  bootstrap=False, bootstrap_features=False, max_features=1.0,\n",
       "                  max_samples=300, n_estimators=70, n_jobs=-1, oob_score=False,\n",
       "                  random_state=0, verbose=0, warm_start=False)"
      ]
     },
     "execution_count": 55,
     "metadata": {},
     "output_type": "execute_result"
    }
   ],
   "source": [
    "somps_grid.best_estimator_"
   ]
  },
  {
   "cell_type": "code",
   "execution_count": 56,
   "metadata": {},
   "outputs": [
    {
     "data": {
      "text/plain": [
       "0.9402772277227722"
      ]
     },
     "execution_count": 56,
     "metadata": {},
     "output_type": "execute_result"
    }
   ],
   "source": [
    "somps_grid.best_score_"
   ]
  },
  {
   "cell_type": "code",
   "execution_count": 57,
   "metadata": {},
   "outputs": [
    {
     "data": {
      "text/plain": [
       "{'max_samples': 300, 'n_estimators': 70}"
      ]
     },
     "execution_count": 57,
     "metadata": {},
     "output_type": "execute_result"
    }
   ],
   "source": [
    "somps_grid.best_params_"
   ]
  },
  {
   "cell_type": "markdown",
   "metadata": {},
   "source": [
    "## Using best parameters for Pasting on Softmax Regression"
   ]
  },
  {
   "cell_type": "code",
   "execution_count": 58,
   "metadata": {},
   "outputs": [
    {
     "name": "stdout",
     "output_type": "stream",
     "text": [
      "Train score: 0.9483\n",
      "Test score: 0.9403\n"
     ]
    }
   ],
   "source": [
    "somax_test = LogisticRegression(random_state = 0, solver = 'lbfgs',multi_class='multinomial',C=100,max_iter= 1000)\n",
    "som_pstest = BaggingClassifier(somax_test, max_samples=300, n_estimators= 70, bootstrap=False, n_jobs=-1, random_state=0)\n",
    "som_pstest.fit(X_train, y_train)\n",
    "\n",
    "print('Train score: {:.4f}'.format(som_pstest.score(X_train, y_train)))\n",
    "print('Test score: {:.4f}'.format(som_pstest.score(X_test, y_test)))"
   ]
  },
  {
   "cell_type": "code",
   "execution_count": 59,
   "metadata": {},
   "outputs": [
    {
     "name": "stdout",
     "output_type": "stream",
     "text": [
      "[[302   2   0]\n",
      " [  3   4   7]\n",
      " [  8   0   9]]\n",
      "              precision    recall  f1-score   support\n",
      "\n",
      "           0       0.96      0.99      0.98       304\n",
      "           1       0.67      0.29      0.40        14\n",
      "           2       0.56      0.53      0.55        17\n",
      "\n",
      "    accuracy                           0.94       335\n",
      "   macro avg       0.73      0.60      0.64       335\n",
      "weighted avg       0.93      0.94      0.93       335\n",
      "\n"
     ]
    }
   ],
   "source": [
    "from sklearn.metrics import classification_report, confusion_matrix\n",
    "\n",
    "y_predict_som = som_pstest.predict(X_test)\n",
    "\n",
    "print(confusion_matrix(y_test, y_predict_som))\n",
    "print(classification_report(y_test, y_predict_som))"
   ]
  },
  {
   "cell_type": "code",
   "execution_count": 60,
   "metadata": {},
   "outputs": [
    {
     "name": "stdout",
     "output_type": "stream",
     "text": [
      "softmax regression- mean cross valid score: 0.9403\n"
     ]
    }
   ],
   "source": [
    "som_score=cross_val_score(som_pstest, X_train, y_train, cv=10, scoring='accuracy').mean()\n",
    "print('softmax regression- mean cross valid score: {:.4f}'.format(som_score))"
   ]
  },
  {
   "cell_type": "markdown",
   "metadata": {},
   "source": [
    "## Adaboosting"
   ]
  },
  {
   "cell_type": "markdown",
   "metadata": {},
   "source": [
    "### Decision Tree Classifier"
   ]
  },
  {
   "cell_type": "code",
   "execution_count": 61,
   "metadata": {},
   "outputs": [
    {
     "data": {
      "text/plain": [
       "GridSearchCV(cv=10, error_score=nan,\n",
       "             estimator=AdaBoostClassifier(algorithm='SAMME.R',\n",
       "                                          base_estimator=DecisionTreeClassifier(ccp_alpha=0.0,\n",
       "                                                                                class_weight=None,\n",
       "                                                                                criterion='gini',\n",
       "                                                                                max_depth=6,\n",
       "                                                                                max_features=6,\n",
       "                                                                                max_leaf_nodes=None,\n",
       "                                                                                min_impurity_decrease=0.0,\n",
       "                                                                                min_impurity_split=None,\n",
       "                                                                                min_samples_leaf=4,\n",
       "                                                                                min_samples_split=25,\n",
       "                                                                                min_weight_fraction_leaf=0.0,\n",
       "                                                                                presort='deprecated',\n",
       "                                                                                random_state=0,\n",
       "                                                                                splitter='best'),\n",
       "                                          learning_rate=1.0, n_estimators=50,\n",
       "                                          random_state=0),\n",
       "             iid='deprecated', n_jobs=None,\n",
       "             param_grid={'learning_rate': [0.001, 0.01, 0.1, 0.2],\n",
       "                         'n_estimators': [50, 70, 100, 250, 500]},\n",
       "             pre_dispatch='2*n_jobs', refit=True, return_train_score=False,\n",
       "             scoring=None, verbose=0)"
      ]
     },
     "execution_count": 61,
     "metadata": {},
     "output_type": "execute_result"
    }
   ],
   "source": [
    "from sklearn.ensemble import AdaBoostClassifier\n",
    "\n",
    "abdt = DecisionTreeClassifier(random_state=0,max_depth=6 ,criterion='gini',max_features=6,min_samples_leaf=4,min_samples_split=25,splitter='best')\n",
    "ab_parameters = {'learning_rate': [0.001, 0.01, 0.1, 0.2],\n",
    "                  'n_estimators': [50, 70, 100, 250, 500]}\n",
    "                  \n",
    "adab = AdaBoostClassifier(abdt, algorithm=\"SAMME.R\", random_state=0)\n",
    "adab_grid = GridSearchCV(adab, ab_parameters,cv=10)\n",
    "adab_grid.fit(X_train, y_train)"
   ]
  },
  {
   "cell_type": "code",
   "execution_count": 62,
   "metadata": {},
   "outputs": [
    {
     "data": {
      "text/plain": [
       "AdaBoostClassifier(algorithm='SAMME.R',\n",
       "                   base_estimator=DecisionTreeClassifier(ccp_alpha=0.0,\n",
       "                                                         class_weight=None,\n",
       "                                                         criterion='gini',\n",
       "                                                         max_depth=6,\n",
       "                                                         max_features=6,\n",
       "                                                         max_leaf_nodes=None,\n",
       "                                                         min_impurity_decrease=0.0,\n",
       "                                                         min_impurity_split=None,\n",
       "                                                         min_samples_leaf=4,\n",
       "                                                         min_samples_split=25,\n",
       "                                                         min_weight_fraction_leaf=0.0,\n",
       "                                                         presort='deprecated',\n",
       "                                                         random_state=0,\n",
       "                                                         splitter='best'),\n",
       "                   learning_rate=0.001, n_estimators=50, random_state=0)"
      ]
     },
     "execution_count": 62,
     "metadata": {},
     "output_type": "execute_result"
    }
   ],
   "source": [
    "adab_grid.best_estimator_"
   ]
  },
  {
   "cell_type": "code",
   "execution_count": 63,
   "metadata": {},
   "outputs": [
    {
     "data": {
      "text/plain": [
       "0.9403069306930693"
      ]
     },
     "execution_count": 63,
     "metadata": {},
     "output_type": "execute_result"
    }
   ],
   "source": [
    "adab_grid.best_score_"
   ]
  },
  {
   "cell_type": "code",
   "execution_count": 64,
   "metadata": {},
   "outputs": [
    {
     "data": {
      "text/plain": [
       "{'learning_rate': 0.001, 'n_estimators': 50}"
      ]
     },
     "execution_count": 64,
     "metadata": {},
     "output_type": "execute_result"
    }
   ],
   "source": [
    "adab_grid.best_params_"
   ]
  },
  {
   "cell_type": "markdown",
   "metadata": {},
   "source": [
    "## Using best parameters for Adaboosting on Decision Tree Classifier"
   ]
  },
  {
   "cell_type": "code",
   "execution_count": 65,
   "metadata": {},
   "outputs": [
    {
     "name": "stdout",
     "output_type": "stream",
     "text": [
      "Train score: 0.9990\n",
      "Test score: 0.9343\n"
     ]
    }
   ],
   "source": [
    "abdt_test = DecisionTreeClassifier(random_state=0,max_depth=6 ,criterion='gini',max_features=6,min_samples_leaf=4,min_samples_split=25,splitter='best')\n",
    "adab_test = AdaBoostClassifier(abdt_test,learning_rate= 0.001, n_estimators= 50, algorithm=\"SAMME.R\", random_state=0)\n",
    "adab_test.fit(X_train, y_train)\n",
    "\n",
    "print('Train score: {:.4f}'.format(adab_test.score(X_train, y_train)))\n",
    "print('Test score: {:.4f}'.format(adab_test.score(X_test, y_test)))"
   ]
  },
  {
   "cell_type": "code",
   "execution_count": 66,
   "metadata": {},
   "outputs": [
    {
     "name": "stdout",
     "output_type": "stream",
     "text": [
      "[[299   1   4]\n",
      " [  7   5   2]\n",
      " [  8   0   9]]\n",
      "              precision    recall  f1-score   support\n",
      "\n",
      "           0       0.95      0.98      0.97       304\n",
      "           1       0.83      0.36      0.50        14\n",
      "           2       0.60      0.53      0.56        17\n",
      "\n",
      "    accuracy                           0.93       335\n",
      "   macro avg       0.80      0.62      0.68       335\n",
      "weighted avg       0.93      0.93      0.93       335\n",
      "\n"
     ]
    }
   ],
   "source": [
    "from sklearn.metrics import classification_report, confusion_matrix\n",
    "\n",
    "y_predict_dtab = adab_test.predict(X_test)\n",
    "\n",
    "print(confusion_matrix(y_test, y_predict_dtab))\n",
    "print(classification_report(y_test, y_predict_dtab))"
   ]
  },
  {
   "cell_type": "code",
   "execution_count": 67,
   "metadata": {},
   "outputs": [
    {
     "name": "stdout",
     "output_type": "stream",
     "text": [
      "Decision Tree- mean cross valid score: 0.9333\n"
     ]
    }
   ],
   "source": [
    "from sklearn.model_selection import cross_val_score\n",
    "\n",
    "adab_score=cross_val_score(adab_test, X_train, y_train, cv=10, scoring='accuracy').mean()\n",
    "print('Decision Tree- mean cross valid score: {:.4f}'.format(adab_score))"
   ]
  },
  {
   "cell_type": "markdown",
   "metadata": {},
   "source": [
    "## Softmax Regression"
   ]
  },
  {
   "cell_type": "code",
   "execution_count": 68,
   "metadata": {},
   "outputs": [
    {
     "data": {
      "text/plain": [
       "GridSearchCV(cv=10, error_score=nan,\n",
       "             estimator=AdaBoostClassifier(algorithm='SAMME.R',\n",
       "                                          base_estimator=LogisticRegression(C=100,\n",
       "                                                                            class_weight=None,\n",
       "                                                                            dual=False,\n",
       "                                                                            fit_intercept=True,\n",
       "                                                                            intercept_scaling=1,\n",
       "                                                                            l1_ratio=None,\n",
       "                                                                            max_iter=1000,\n",
       "                                                                            multi_class='multinomial',\n",
       "                                                                            n_jobs=None,\n",
       "                                                                            penalty='l2',\n",
       "                                                                            random_state=0,\n",
       "                                                                            solver='lbfgs',\n",
       "                                                                            tol=0.0001,\n",
       "                                                                            verbose=0,\n",
       "                                                                            warm_start=False),\n",
       "                                          learning_rate=1.0, n_estimators=50,\n",
       "                                          random_state=0),\n",
       "             iid='deprecated', n_jobs=None,\n",
       "             param_grid={'learning_rate': [0.05, 0.01, 0.1, 0.2],\n",
       "                         'n_estimators': [50, 70, 100, 250, 500]},\n",
       "             pre_dispatch='2*n_jobs', refit=True, return_train_score=False,\n",
       "             scoring=None, verbose=0)"
      ]
     },
     "execution_count": 68,
     "metadata": {},
     "output_type": "execute_result"
    }
   ],
   "source": [
    "from sklearn.linear_model import LogisticRegression\n",
    "\n",
    "sof = LogisticRegression(random_state = 0, solver = 'lbfgs',multi_class='multinomial',C=100,max_iter= 1000)\n",
    "sof_parameters = {'learning_rate': [0.05, 0.01, 0.1, 0.2],\n",
    "                  'n_estimators': [50, 70, 100, 250, 500]}\n",
    "                  \n",
    "sof_ada = AdaBoostClassifier(sof, algorithm=\"SAMME.R\", random_state=0)\n",
    "sof_grid = GridSearchCV(sof_ada, sof_parameters,cv=10)\n",
    "sof_grid.fit(X_train, y_train)"
   ]
  },
  {
   "cell_type": "code",
   "execution_count": 69,
   "metadata": {},
   "outputs": [
    {
     "data": {
      "text/plain": [
       "AdaBoostClassifier(algorithm='SAMME.R',\n",
       "                   base_estimator=LogisticRegression(C=100, class_weight=None,\n",
       "                                                     dual=False,\n",
       "                                                     fit_intercept=True,\n",
       "                                                     intercept_scaling=1,\n",
       "                                                     l1_ratio=None,\n",
       "                                                     max_iter=1000,\n",
       "                                                     multi_class='multinomial',\n",
       "                                                     n_jobs=None, penalty='l2',\n",
       "                                                     random_state=0,\n",
       "                                                     solver='lbfgs', tol=0.0001,\n",
       "                                                     verbose=0,\n",
       "                                                     warm_start=False),\n",
       "                   learning_rate=0.1, n_estimators=70, random_state=0)"
      ]
     },
     "execution_count": 69,
     "metadata": {},
     "output_type": "execute_result"
    }
   ],
   "source": [
    "sof_grid.best_estimator_"
   ]
  },
  {
   "cell_type": "code",
   "execution_count": 70,
   "metadata": {},
   "outputs": [
    {
     "data": {
      "text/plain": [
       "0.9412772277227722"
      ]
     },
     "execution_count": 70,
     "metadata": {},
     "output_type": "execute_result"
    }
   ],
   "source": [
    "sof_grid.best_score_"
   ]
  },
  {
   "cell_type": "code",
   "execution_count": 71,
   "metadata": {},
   "outputs": [
    {
     "data": {
      "text/plain": [
       "{'learning_rate': 0.1, 'n_estimators': 70}"
      ]
     },
     "execution_count": 71,
     "metadata": {},
     "output_type": "execute_result"
    }
   ],
   "source": [
    "sof_grid.best_params_"
   ]
  },
  {
   "cell_type": "markdown",
   "metadata": {},
   "source": [
    "## Using best parameters for Adaboosting on Softmax Regression"
   ]
  },
  {
   "cell_type": "code",
   "execution_count": 72,
   "metadata": {},
   "outputs": [
    {
     "name": "stdout",
     "output_type": "stream",
     "text": [
      "Train score: 0.9433\n",
      "Test score: 0.9284\n"
     ]
    }
   ],
   "source": [
    "sof_test = LogisticRegression(random_state = 0, solver = 'lbfgs',multi_class='multinomial',C=100,max_iter= 1000)\n",
    "asof_test = AdaBoostClassifier(sof_test,learning_rate= 0.1, n_estimators= 70, algorithm=\"SAMME.R\", random_state=0)\n",
    "asof_test.fit(X_train, y_train)\n",
    "\n",
    "print('Train score: {:.4f}'.format(asof_test.score(X_train, y_train)))\n",
    "print('Test score: {:.4f}'.format(asof_test.score(X_test, y_test)))"
   ]
  },
  {
   "cell_type": "code",
   "execution_count": 73,
   "metadata": {},
   "outputs": [
    {
     "name": "stdout",
     "output_type": "stream",
     "text": [
      "[[300   1   3]\n",
      " [  3   4   7]\n",
      " [  8   2   7]]\n",
      "              precision    recall  f1-score   support\n",
      "\n",
      "           0       0.96      0.99      0.98       304\n",
      "           1       0.57      0.29      0.38        14\n",
      "           2       0.41      0.41      0.41        17\n",
      "\n",
      "    accuracy                           0.93       335\n",
      "   macro avg       0.65      0.56      0.59       335\n",
      "weighted avg       0.92      0.93      0.92       335\n",
      "\n"
     ]
    }
   ],
   "source": [
    "from sklearn.metrics import classification_report, confusion_matrix\n",
    "\n",
    "y_predict_sof = asof_test.predict(X_test)\n",
    "\n",
    "print(confusion_matrix(y_test, y_predict_sof))\n",
    "print(classification_report(y_test, y_predict_sof))"
   ]
  },
  {
   "cell_type": "code",
   "execution_count": 74,
   "metadata": {},
   "outputs": [
    {
     "name": "stdout",
     "output_type": "stream",
     "text": [
      "Softmax Regression- mean cross valid score: 0.9413\n"
     ]
    }
   ],
   "source": [
    "from sklearn.model_selection import cross_val_score\n",
    "\n",
    "asof_score=cross_val_score(asof_test, X_train, y_train, cv=10, scoring='accuracy').mean()\n",
    "print('Softmax Regression- mean cross valid score: {:.4f}'.format(asof_score))"
   ]
  },
  {
   "cell_type": "markdown",
   "metadata": {},
   "source": [
    "## Gradient Boosting"
   ]
  },
  {
   "cell_type": "code",
   "execution_count": 75,
   "metadata": {},
   "outputs": [
    {
     "data": {
      "text/plain": [
       "GridSearchCV(cv=10, error_score=nan,\n",
       "             estimator=GradientBoostingClassifier(ccp_alpha=0.0,\n",
       "                                                  criterion='friedman_mse',\n",
       "                                                  init=None, learning_rate=0.1,\n",
       "                                                  loss='deviance', max_depth=3,\n",
       "                                                  max_features=None,\n",
       "                                                  max_leaf_nodes=None,\n",
       "                                                  min_impurity_decrease=0.0,\n",
       "                                                  min_impurity_split=None,\n",
       "                                                  min_samples_leaf=1,\n",
       "                                                  min_samples_split=2,\n",
       "                                                  min_weight_fraction_leaf=0.0,\n",
       "                                                  n_estimators=100,\n",
       "                                                  n_iter_no_change=None,\n",
       "                                                  presort='deprecated',\n",
       "                                                  random_state=0, subsample=1.0,\n",
       "                                                  tol=0.0001,\n",
       "                                                  validation_fraction=0.1,\n",
       "                                                  verbose=0, warm_start=False),\n",
       "             iid='deprecated', n_jobs=None,\n",
       "             param_grid={'max_depth': [5, 7, 9, 11],\n",
       "                         'min_samples_split': [400, 600, 800],\n",
       "                         'n_estimators': [40, 70, 100, 200]},\n",
       "             pre_dispatch='2*n_jobs', refit=True, return_train_score=False,\n",
       "             scoring=None, verbose=0)"
      ]
     },
     "execution_count": 75,
     "metadata": {},
     "output_type": "execute_result"
    }
   ],
   "source": [
    "from sklearn.ensemble import GradientBoostingClassifier\n",
    "\n",
    "gbrt_parameters = {'n_estimators' : [40, 70, 100, 200],\n",
    "                   'max_depth': [5, 7, 9, 11], \n",
    "                   'min_samples_split': [400, 600, 800]}\n",
    "                  \n",
    "gbrt = GradientBoostingClassifier(random_state=0)\n",
    "gbrt_grid = GridSearchCV(gbrt, gbrt_parameters,cv=10)\n",
    "gbrt_grid.fit(X_train, y_train)"
   ]
  },
  {
   "cell_type": "code",
   "execution_count": 76,
   "metadata": {},
   "outputs": [
    {
     "data": {
      "text/plain": [
       "GradientBoostingClassifier(ccp_alpha=0.0, criterion='friedman_mse', init=None,\n",
       "                           learning_rate=0.1, loss='deviance', max_depth=5,\n",
       "                           max_features=None, max_leaf_nodes=None,\n",
       "                           min_impurity_decrease=0.0, min_impurity_split=None,\n",
       "                           min_samples_leaf=1, min_samples_split=600,\n",
       "                           min_weight_fraction_leaf=0.0, n_estimators=40,\n",
       "                           n_iter_no_change=None, presort='deprecated',\n",
       "                           random_state=0, subsample=1.0, tol=0.0001,\n",
       "                           validation_fraction=0.1, verbose=0,\n",
       "                           warm_start=False)"
      ]
     },
     "execution_count": 76,
     "metadata": {},
     "output_type": "execute_result"
    }
   ],
   "source": [
    "gbrt_grid.best_estimator_"
   ]
  },
  {
   "cell_type": "code",
   "execution_count": 77,
   "metadata": {},
   "outputs": [
    {
     "data": {
      "text/plain": [
       "0.9363168316831683"
      ]
     },
     "execution_count": 77,
     "metadata": {},
     "output_type": "execute_result"
    }
   ],
   "source": [
    "gbrt_grid.best_score_"
   ]
  },
  {
   "cell_type": "code",
   "execution_count": 78,
   "metadata": {},
   "outputs": [
    {
     "data": {
      "text/plain": [
       "{'max_depth': 5, 'min_samples_split': 600, 'n_estimators': 40}"
      ]
     },
     "execution_count": 78,
     "metadata": {},
     "output_type": "execute_result"
    }
   ],
   "source": [
    "gbrt_grid.best_params_"
   ]
  },
  {
   "cell_type": "markdown",
   "metadata": {},
   "source": [
    "## Using best parameters for Gradient boosting"
   ]
  },
  {
   "cell_type": "code",
   "execution_count": 79,
   "metadata": {},
   "outputs": [
    {
     "name": "stdout",
     "output_type": "stream",
     "text": [
      "Train score: 0.9781\n",
      "Test score: 0.9403\n"
     ]
    }
   ],
   "source": [
    "gbrt_test = GradientBoostingClassifier(random_state=0,max_depth= 5, min_samples_split=600, n_estimators= 40)\n",
    "gbrt_test.fit(X_train, y_train)\n",
    "\n",
    "print('Train score: {:.4f}'.format(gbrt_test.score(X_train, y_train)))\n",
    "print('Test score: {:.4f}'.format(gbrt_test.score(X_test, y_test)))"
   ]
  },
  {
   "cell_type": "code",
   "execution_count": 80,
   "metadata": {},
   "outputs": [
    {
     "name": "stdout",
     "output_type": "stream",
     "text": [
      "[[301   1   2]\n",
      " [  4   8   2]\n",
      " [  9   2   6]]\n",
      "              precision    recall  f1-score   support\n",
      "\n",
      "           0       0.96      0.99      0.97       304\n",
      "           1       0.73      0.57      0.64        14\n",
      "           2       0.60      0.35      0.44        17\n",
      "\n",
      "    accuracy                           0.94       335\n",
      "   macro avg       0.76      0.64      0.69       335\n",
      "weighted avg       0.93      0.94      0.93       335\n",
      "\n"
     ]
    }
   ],
   "source": [
    "from sklearn.metrics import classification_report, confusion_matrix\n",
    "\n",
    "y_predict_gb = gbrt_test.predict(X_test)\n",
    "\n",
    "print(confusion_matrix(y_test, y_predict_gb))\n",
    "print(classification_report(y_test, y_predict_gb))"
   ]
  },
  {
   "cell_type": "code",
   "execution_count": 81,
   "metadata": {},
   "outputs": [
    {
     "name": "stdout",
     "output_type": "stream",
     "text": [
      "Gradient boosting- mean cross valid score: 0.9363\n"
     ]
    }
   ],
   "source": [
    "from sklearn.model_selection import cross_val_score\n",
    "\n",
    "gb_score=cross_val_score(gbrt_test, X_train, y_train, cv=10, scoring='accuracy').mean()\n",
    "print('Gradient boosting- mean cross valid score: {:.4f}'.format(gb_score))"
   ]
  },
  {
   "cell_type": "markdown",
   "metadata": {},
   "source": [
    "## Applying PCA"
   ]
  },
  {
   "cell_type": "code",
   "execution_count": 82,
   "metadata": {},
   "outputs": [],
   "source": [
    "from sklearn.decomposition import PCA\n",
    "\n",
    "pca = PCA(n_components=0.95)\n",
    "X_trn = pca.fit_transform(X_train)\n",
    "X_tst = pca.transform(X_test)"
   ]
  },
  {
   "cell_type": "code",
   "execution_count": 83,
   "metadata": {},
   "outputs": [
    {
     "data": {
      "text/plain": [
       "8"
      ]
     },
     "execution_count": 83,
     "metadata": {},
     "output_type": "execute_result"
    }
   ],
   "source": [
    "pca.n_components_"
   ]
  },
  {
   "cell_type": "code",
   "execution_count": 84,
   "metadata": {},
   "outputs": [
    {
     "data": {
      "text/plain": [
       "0.9529895257257057"
      ]
     },
     "execution_count": 84,
     "metadata": {},
     "output_type": "execute_result"
    }
   ],
   "source": [
    "np.sum(pca.explained_variance_ratio_)"
   ]
  },
  {
   "cell_type": "code",
   "execution_count": 85,
   "metadata": {},
   "outputs": [
    {
     "data": {
      "image/png": "[encoded data removed]",
      "text/plain": [
       "<Figure size 432x288 with 1 Axes>"
      ]
     },
     "metadata": {
      "needs_background": "light"
     },
     "output_type": "display_data"
    }
   ],
   "source": [
    "pca = PCA().fit(X_train)\n",
    "plt.plot(np.cumsum(pca.explained_variance_ratio_))\n",
    "plt.xlabel('number of components')\n",
    "plt.ylabel('cumulative explained variance');"
   ]
  },
  {
   "cell_type": "markdown",
   "metadata": {},
   "source": [
    "## K Neighbors Classifier"
   ]
  },
  {
   "cell_type": "code",
   "execution_count": 86,
   "metadata": {},
   "outputs": [
    {
     "data": {
      "text/plain": [
       "GridSearchCV(cv=10, error_score=nan,\n",
       "             estimator=KNeighborsClassifier(algorithm='auto', leaf_size=30,\n",
       "                                            metric='minkowski',\n",
       "                                            metric_params=None, n_jobs=None,\n",
       "                                            n_neighbors=5, p=2,\n",
       "                                            weights='uniform'),\n",
       "             iid='deprecated', n_jobs=None,\n",
       "             param_grid={'n_neighbors': array([ 1,  2,  3,  4,  5,  6,  7,  8,  9, 10, 11, 12, 13, 14, 15, 16, 17,\n",
       "       18, 19, 20, 21, 22, 23, 24, 25, 26, 27, 28, 29, 30, 31, 32, 33, 34,\n",
       "       35, 36, 37, 38, 39])},\n",
       "             pre_dispatch='2*n_jobs', refit=True, return_train_score=False,\n",
       "             scoring=None, verbose=0)"
      ]
     },
     "execution_count": 86,
     "metadata": {},
     "output_type": "execute_result"
    }
   ],
   "source": [
    "from sklearn.neighbors import KNeighborsClassifier\n",
    "from sklearn.model_selection import GridSearchCV\n",
    "\n",
    "knn = KNeighborsClassifier()\n",
    "knn_parameters = {'n_neighbors':np.arange(1,40,1)}\n",
    "knn_grid = GridSearchCV(knn, knn_parameters,cv=10)\n",
    "knn_grid.fit(X_trn, y_train)"
   ]
  },
  {
   "cell_type": "code",
   "execution_count": 87,
   "metadata": {},
   "outputs": [
    {
     "data": {
      "text/plain": [
       "KNeighborsClassifier(algorithm='auto', leaf_size=30, metric='minkowski',\n",
       "                     metric_params=None, n_jobs=None, n_neighbors=5, p=2,\n",
       "                     weights='uniform')"
      ]
     },
     "execution_count": 87,
     "metadata": {},
     "output_type": "execute_result"
    }
   ],
   "source": [
    "knn_grid.best_estimator_"
   ]
  },
  {
   "cell_type": "code",
   "execution_count": 88,
   "metadata": {},
   "outputs": [
    {
     "data": {
      "text/plain": [
       "0.9253168316831684"
      ]
     },
     "execution_count": 88,
     "metadata": {},
     "output_type": "execute_result"
    }
   ],
   "source": [
    "knn_grid.best_score_"
   ]
  },
  {
   "cell_type": "code",
   "execution_count": 89,
   "metadata": {},
   "outputs": [
    {
     "data": {
      "text/plain": [
       "{'n_neighbors': 5}"
      ]
     },
     "execution_count": 89,
     "metadata": {},
     "output_type": "execute_result"
    }
   ],
   "source": [
    "knn_grid.best_params_"
   ]
  },
  {
   "cell_type": "markdown",
   "metadata": {},
   "source": [
    "## Using the best parameter for KNN Classifier"
   ]
  },
  {
   "cell_type": "code",
   "execution_count": 90,
   "metadata": {},
   "outputs": [
    {
     "name": "stdout",
     "output_type": "stream",
     "text": [
      "Train score: 0.9423\n",
      "Test score: 0.9224\n"
     ]
    }
   ],
   "source": [
    "knn_test = KNeighborsClassifier(5)\n",
    "knn_test.fit(X_trn, y_train)\n",
    "print('Train score: {:.4f}'.format(knn_test.score(X_trn, y_train)))\n",
    "print('Test score: {:.4f}'.format(knn_test.score(X_tst, y_test)))"
   ]
  },
  {
   "cell_type": "code",
   "execution_count": 91,
   "metadata": {},
   "outputs": [
    {
     "name": "stdout",
     "output_type": "stream",
     "text": [
      "[[303   1   0]\n",
      " [  9   2   3]\n",
      " [  9   4   4]]\n",
      "              precision    recall  f1-score   support\n",
      "\n",
      "           0       0.94      1.00      0.97       304\n",
      "           1       0.29      0.14      0.19        14\n",
      "           2       0.57      0.24      0.33        17\n",
      "\n",
      "    accuracy                           0.92       335\n",
      "   macro avg       0.60      0.46      0.50       335\n",
      "weighted avg       0.90      0.92      0.90       335\n",
      "\n"
     ]
    }
   ],
   "source": [
    "from sklearn.metrics import classification_report, confusion_matrix\n",
    "\n",
    "y_predictknn = knn_test.predict(X_tst)\n",
    "\n",
    "print(confusion_matrix(y_test, y_predictknn))\n",
    "print(classification_report(y_test, y_predictknn))"
   ]
  },
  {
   "cell_type": "markdown",
   "metadata": {},
   "source": [
    "## Logistic Regression"
   ]
  },
  {
   "cell_type": "code",
   "execution_count": 92,
   "metadata": {},
   "outputs": [
    {
     "data": {
      "text/plain": [
       "GridSearchCV(cv=10, error_score=nan,\n",
       "             estimator=LogisticRegression(C=1.0, class_weight=None, dual=False,\n",
       "                                          fit_intercept=True,\n",
       "                                          intercept_scaling=1, l1_ratio=None,\n",
       "                                          max_iter=100, multi_class='auto',\n",
       "                                          n_jobs=None, penalty='l2',\n",
       "                                          random_state=0, solver='liblinear',\n",
       "                                          tol=0.0001, verbose=0,\n",
       "                                          warm_start=False),\n",
       "             iid='deprecated', n_jobs=None,\n",
       "             param_grid={'C': [0.01, 0.1, 1, 10, 100], 'penalty': ('l1', 'l2')},\n",
       "             pre_dispatch='2*n_jobs', refit=True, return_train_score=False,\n",
       "             scoring=None, verbose=0)"
      ]
     },
     "execution_count": 92,
     "metadata": {},
     "output_type": "execute_result"
    }
   ],
   "source": [
    "from sklearn.linear_model import LogisticRegression\n",
    "\n",
    "logreg = LogisticRegression(random_state = 0, solver = 'liblinear',multi_class='auto') \n",
    "logreg_parameters = {'penalty':('l1', 'l2'), 'C':[0.01, 0.1, 1, 10, 100]}\n",
    "logreg_grid = GridSearchCV(logreg, logreg_parameters,cv=10)\n",
    "logreg_grid.fit(X_trn, y_train)"
   ]
  },
  {
   "cell_type": "code",
   "execution_count": 93,
   "metadata": {},
   "outputs": [
    {
     "data": {
      "text/plain": [
       "{'mean_fit_time': array([0.00169537, 0.00139616, 0.00239334, 0.00209429, 0.00368981,\n",
       "        0.00239735, 0.00508647, 0.00279176, 0.00528486, 0.00309341]),\n",
       " 'std_fit_time': array([0.00089732, 0.00048873, 0.00048859, 0.00029929, 0.0004573 ,\n",
       "        0.00049353, 0.00029907, 0.00039929, 0.00045692, 0.00029871]),\n",
       " 'mean_score_time': array([0.00000000e+00, 3.98898125e-04, 0.00000000e+00, 3.98874283e-04,\n",
       "        0.00000000e+00, 3.99184227e-04, 1.99556351e-04, 1.99556351e-04,\n",
       "        1.99127197e-04, 9.95635986e-05]),\n",
       " 'std_score_time': array([0.        , 0.00048855, 0.        , 0.00048852, 0.        ,\n",
       "        0.0004889 , 0.00039911, 0.00039911, 0.00039826, 0.00029869]),\n",
       " 'param_C': masked_array(data=[0.01, 0.01, 0.1, 0.1, 1, 1, 10, 10, 100, 100],\n",
       "              mask=[False, False, False, False, False, False, False, False,\n",
       "                    False, False],\n",
       "        fill_value='?',\n",
       "             dtype=object),\n",
       " 'param_penalty': masked_array(data=['l1', 'l2', 'l1', 'l2', 'l1', 'l2', 'l1', 'l2', 'l1',\n",
       "                    'l2'],\n",
       "              mask=[False, False, False, False, False, False, False, False,\n",
       "                    False, False],\n",
       "        fill_value='?',\n",
       "             dtype=object),\n",
       " 'params': [{'C': 0.01, 'penalty': 'l1'},\n",
       "  {'C': 0.01, 'penalty': 'l2'},\n",
       "  {'C': 0.1, 'penalty': 'l1'},\n",
       "  {'C': 0.1, 'penalty': 'l2'},\n",
       "  {'C': 1, 'penalty': 'l1'},\n",
       "  {'C': 1, 'penalty': 'l2'},\n",
       "  {'C': 10, 'penalty': 'l1'},\n",
       "  {'C': 10, 'penalty': 'l2'},\n",
       "  {'C': 100, 'penalty': 'l1'},\n",
       "  {'C': 100, 'penalty': 'l2'}],\n",
       " 'split0_test_score': array([0.91089109, 0.91089109, 0.92079208, 0.92079208, 0.94059406,\n",
       "        0.94059406, 0.93069307, 0.93069307, 0.93069307, 0.93069307]),\n",
       " 'split1_test_score': array([0.9009901 , 0.9009901 , 0.91089109, 0.91089109, 0.92079208,\n",
       "        0.91089109, 0.92079208, 0.92079208, 0.92079208, 0.92079208]),\n",
       " 'split2_test_score': array([0.9009901 , 0.9009901 , 0.91089109, 0.91089109, 0.94059406,\n",
       "        0.95049505, 0.94059406, 0.94059406, 0.94059406, 0.94059406]),\n",
       " 'split3_test_score': array([0.9009901 , 0.9009901 , 0.91089109, 0.91089109, 0.93069307,\n",
       "        0.91089109, 0.93069307, 0.93069307, 0.93069307, 0.93069307]),\n",
       " 'split4_test_score': array([0.9009901 , 0.9009901 , 0.9009901 , 0.9009901 , 0.93069307,\n",
       "        0.93069307, 0.94059406, 0.94059406, 0.94059406, 0.94059406]),\n",
       " 'split5_test_score': array([0.91, 0.91, 0.93, 0.93, 0.93, 0.93, 0.93, 0.93, 0.93, 0.93]),\n",
       " 'split6_test_score': array([0.91, 0.91, 0.92, 0.92, 0.94, 0.92, 0.94, 0.94, 0.94, 0.94]),\n",
       " 'split7_test_score': array([0.91, 0.91, 0.91, 0.92, 0.94, 0.94, 0.94, 0.94, 0.94, 0.94]),\n",
       " 'split8_test_score': array([0.91, 0.91, 0.91, 0.91, 0.91, 0.9 , 0.91, 0.91, 0.91, 0.91]),\n",
       " 'split9_test_score': array([0.91, 0.91, 0.92, 0.92, 0.94, 0.94, 0.93, 0.94, 0.94, 0.94]),\n",
       " 'mean_test_score': array([0.90648515, 0.90648515, 0.91444554, 0.91544554, 0.93233663,\n",
       "        0.92735644, 0.93133663, 0.93233663, 0.93233663, 0.93233663]),\n",
       " 'std_test_score': array([0.00449406, 0.00449406, 0.00776145, 0.00776846, 0.00977556,\n",
       "        0.0154699 , 0.00944642, 0.00977556, 0.00977556, 0.00977556]),\n",
       " 'rank_test_score': array([9, 9, 8, 7, 1, 6, 5, 1, 1, 1])}"
      ]
     },
     "execution_count": 93,
     "metadata": {},
     "output_type": "execute_result"
    }
   ],
   "source": [
    "logreg_grid.cv_results_"
   ]
  },
  {
   "cell_type": "code",
   "execution_count": 94,
   "metadata": {},
   "outputs": [
    {
     "data": {
      "text/plain": [
       "LogisticRegression(C=1, class_weight=None, dual=False, fit_intercept=True,\n",
       "                   intercept_scaling=1, l1_ratio=None, max_iter=100,\n",
       "                   multi_class='auto', n_jobs=None, penalty='l1',\n",
       "                   random_state=0, solver='liblinear', tol=0.0001, verbose=0,\n",
       "                   warm_start=False)"
      ]
     },
     "execution_count": 94,
     "metadata": {},
     "output_type": "execute_result"
    }
   ],
   "source": [
    "logreg_grid.best_estimator_"
   ]
  },
  {
   "cell_type": "code",
   "execution_count": 95,
   "metadata": {},
   "outputs": [
    {
     "data": {
      "text/plain": [
       "0.9323366336633663"
      ]
     },
     "execution_count": 95,
     "metadata": {},
     "output_type": "execute_result"
    }
   ],
   "source": [
    "logreg_grid.best_score_"
   ]
  },
  {
   "cell_type": "code",
   "execution_count": 96,
   "metadata": {},
   "outputs": [
    {
     "data": {
      "text/plain": [
       "{'C': 1, 'penalty': 'l1'}"
      ]
     },
     "execution_count": 96,
     "metadata": {},
     "output_type": "execute_result"
    }
   ],
   "source": [
    "logreg_grid.best_params_"
   ]
  },
  {
   "cell_type": "markdown",
   "metadata": {},
   "source": [
    "## Using best parameter for Logistic Regression"
   ]
  },
  {
   "cell_type": "code",
   "execution_count": 97,
   "metadata": {},
   "outputs": [
    {
     "name": "stdout",
     "output_type": "stream",
     "text": [
      "Train score: 0.9363\n",
      "Test score: 0.9284\n"
     ]
    }
   ],
   "source": [
    "logreg_test = LogisticRegression(random_state = 0, solver = 'liblinear',multi_class='auto',C=1,penalty='l1')\n",
    "logreg_test.fit(X_trn, y_train)\n",
    "print('Train score: {:.4f}'.format(logreg_test.score(X_trn, y_train)))\n",
    "print('Test score: {:.4f}'.format(logreg_test.score(X_tst, y_test)))"
   ]
  },
  {
   "cell_type": "code",
   "execution_count": 98,
   "metadata": {},
   "outputs": [
    {
     "name": "stdout",
     "output_type": "stream",
     "text": [
      "[[303   1   0]\n",
      " [  6   3   5]\n",
      " [ 12   0   5]]\n",
      "              precision    recall  f1-score   support\n",
      "\n",
      "           0       0.94      1.00      0.97       304\n",
      "           1       0.75      0.21      0.33        14\n",
      "           2       0.50      0.29      0.37        17\n",
      "\n",
      "    accuracy                           0.93       335\n",
      "   macro avg       0.73      0.50      0.56       335\n",
      "weighted avg       0.91      0.93      0.91       335\n",
      "\n"
     ]
    }
   ],
   "source": [
    "from sklearn.metrics import classification_report, confusion_matrix\n",
    "\n",
    "y_predict_logreg = logreg_test.predict(X_tst)\n",
    "\n",
    "print(confusion_matrix(y_test, y_predict_logreg))\n",
    "print(classification_report(y_test, y_predict_logreg))"
   ]
  },
  {
   "cell_type": "markdown",
   "metadata": {},
   "source": [
    "For multi-class classification, Softmax regression gives the best results compared to logistic regression.\n",
    "\n",
    "Logistic Regression gives better results for binary classification but not for multi-class classification. "
   ]
  },
  {
   "cell_type": "markdown",
   "metadata": {},
   "source": [
    "## Softmax Regression"
   ]
  },
  {
   "cell_type": "code",
   "execution_count": 99,
   "metadata": {},
   "outputs": [
    {
     "data": {
      "text/plain": [
       "GridSearchCV(cv=10, error_score=nan,\n",
       "             estimator=LogisticRegression(C=1.0, class_weight=None, dual=False,\n",
       "                                          fit_intercept=True,\n",
       "                                          intercept_scaling=1, l1_ratio=None,\n",
       "                                          max_iter=100,\n",
       "                                          multi_class='multinomial',\n",
       "                                          n_jobs=None, penalty='l2',\n",
       "                                          random_state=0, solver='lbfgs',\n",
       "                                          tol=0.0001, verbose=0,\n",
       "                                          warm_start=False),\n",
       "             iid='deprecated', n_jobs=None,\n",
       "             param_grid={'C': [0.01, 0.1, 1, 10, 100],\n",
       "                         'max_iter': array([ 1000.        ,  3162.27766017, 10000.        ])},\n",
       "             pre_dispatch='2*n_jobs', refit=True, return_train_score=False,\n",
       "             scoring=None, verbose=0)"
      ]
     },
     "execution_count": 99,
     "metadata": {},
     "output_type": "execute_result"
    }
   ],
   "source": [
    "from sklearn.linear_model import LogisticRegression\n",
    "\n",
    "softmax = LogisticRegression(random_state=0,solver = 'lbfgs',multi_class='multinomial')\n",
    "softmax_parameters = { 'C':[0.01, 0.1, 1, 10, 100], 'max_iter' : np.logspace(3,4,3)}\n",
    "softmax_grid = GridSearchCV(softmax, softmax_parameters,cv=10)\n",
    "softmax_grid.fit(X_trn, y_train)"
   ]
  },
  {
   "cell_type": "code",
   "execution_count": 100,
   "metadata": {},
   "outputs": [
    {
     "data": {
      "text/plain": [
       "{'mean_fit_time': array([0.00538719, 0.00508986, 0.00438473, 0.0054858 , 0.00568554,\n",
       "        0.00528233, 0.00897496, 0.01017377, 0.00917587, 0.01086922,\n",
       "        0.01097171, 0.01127312, 0.01306562, 0.01186669, 0.01226723]),\n",
       " 'std_fit_time': array([0.0012783 , 0.00053642, 0.00048679, 0.00049739, 0.00045534,\n",
       "        0.00045038, 0.00063156, 0.00153273, 0.00058962, 0.00070181,\n",
       "        0.00061978, 0.000779  , 0.00249761, 0.00094467, 0.00089685]),\n",
       " 'mean_score_time': array([1.99508667e-04, 9.97781754e-05, 1.98864937e-04, 9.98020172e-05,\n",
       "        0.00000000e+00, 1.00064278e-04, 2.99167633e-04, 1.98984146e-04,\n",
       "        1.99079514e-04, 1.99770927e-04, 9.97543335e-05, 1.96218491e-04,\n",
       "        3.98993492e-04, 9.99212265e-05, 2.99763680e-04]),\n",
       " 'std_score_time': array([0.00039902, 0.00029933, 0.00039773, 0.00029941, 0.        ,\n",
       "        0.00030019, 0.00045699, 0.00039824, 0.00039816, 0.00039954,\n",
       "        0.00029926, 0.00039249, 0.00048867, 0.00029976, 0.00045791]),\n",
       " 'param_C': masked_array(data=[0.01, 0.01, 0.01, 0.1, 0.1, 0.1, 1, 1, 1, 10, 10, 10,\n",
       "                    100, 100, 100],\n",
       "              mask=[False, False, False, False, False, False, False, False,\n",
       "                    False, False, False, False, False, False, False],\n",
       "        fill_value='?',\n",
       "             dtype=object),\n",
       " 'param_max_iter': masked_array(data=[1000.0, 3162.2776601683795, 10000.0, 1000.0,\n",
       "                    3162.2776601683795, 10000.0, 1000.0,\n",
       "                    3162.2776601683795, 10000.0, 1000.0,\n",
       "                    3162.2776601683795, 10000.0, 1000.0,\n",
       "                    3162.2776601683795, 10000.0],\n",
       "              mask=[False, False, False, False, False, False, False, False,\n",
       "                    False, False, False, False, False, False, False],\n",
       "        fill_value='?',\n",
       "             dtype=object),\n",
       " 'params': [{'C': 0.01, 'max_iter': 1000.0},\n",
       "  {'C': 0.01, 'max_iter': 3162.2776601683795},\n",
       "  {'C': 0.01, 'max_iter': 10000.0},\n",
       "  {'C': 0.1, 'max_iter': 1000.0},\n",
       "  {'C': 0.1, 'max_iter': 3162.2776601683795},\n",
       "  {'C': 0.1, 'max_iter': 10000.0},\n",
       "  {'C': 1, 'max_iter': 1000.0},\n",
       "  {'C': 1, 'max_iter': 3162.2776601683795},\n",
       "  {'C': 1, 'max_iter': 10000.0},\n",
       "  {'C': 10, 'max_iter': 1000.0},\n",
       "  {'C': 10, 'max_iter': 3162.2776601683795},\n",
       "  {'C': 10, 'max_iter': 10000.0},\n",
       "  {'C': 100, 'max_iter': 1000.0},\n",
       "  {'C': 100, 'max_iter': 3162.2776601683795},\n",
       "  {'C': 100, 'max_iter': 10000.0}],\n",
       " 'split0_test_score': array([0.91089109, 0.91089109, 0.91089109, 0.93069307, 0.93069307,\n",
       "        0.93069307, 0.93069307, 0.93069307, 0.93069307, 0.93069307,\n",
       "        0.93069307, 0.93069307, 0.92079208, 0.92079208, 0.92079208]),\n",
       " 'split1_test_score': array([0.9009901 , 0.9009901 , 0.9009901 , 0.91089109, 0.91089109,\n",
       "        0.91089109, 0.92079208, 0.92079208, 0.92079208, 0.93069307,\n",
       "        0.93069307, 0.93069307, 0.92079208, 0.92079208, 0.92079208]),\n",
       " 'split2_test_score': array([0.9009901 , 0.9009901 , 0.9009901 , 0.91089109, 0.91089109,\n",
       "        0.91089109, 0.95049505, 0.95049505, 0.95049505, 0.96039604,\n",
       "        0.96039604, 0.96039604, 0.96039604, 0.96039604, 0.96039604]),\n",
       " 'split3_test_score': array([0.9009901 , 0.9009901 , 0.9009901 , 0.91089109, 0.91089109,\n",
       "        0.91089109, 0.94059406, 0.94059406, 0.94059406, 0.93069307,\n",
       "        0.93069307, 0.93069307, 0.93069307, 0.93069307, 0.93069307]),\n",
       " 'split4_test_score': array([0.9009901 , 0.9009901 , 0.9009901 , 0.91089109, 0.91089109,\n",
       "        0.91089109, 0.94059406, 0.94059406, 0.94059406, 0.94059406,\n",
       "        0.94059406, 0.94059406, 0.95049505, 0.95049505, 0.95049505]),\n",
       " 'split5_test_score': array([0.91, 0.91, 0.91, 0.93, 0.93, 0.93, 0.93, 0.93, 0.93, 0.93, 0.93,\n",
       "        0.93, 0.93, 0.93, 0.93]),\n",
       " 'split6_test_score': array([0.91, 0.91, 0.91, 0.92, 0.92, 0.92, 0.92, 0.92, 0.92, 0.94, 0.94,\n",
       "        0.94, 0.94, 0.94, 0.94]),\n",
       " 'split7_test_score': array([0.91, 0.91, 0.91, 0.93, 0.93, 0.93, 0.94, 0.94, 0.94, 0.93, 0.93,\n",
       "        0.93, 0.92, 0.92, 0.92]),\n",
       " 'split8_test_score': array([0.91, 0.91, 0.91, 0.92, 0.92, 0.92, 0.91, 0.91, 0.91, 0.9 , 0.9 ,\n",
       "        0.9 , 0.91, 0.91, 0.91]),\n",
       " 'split9_test_score': array([0.91, 0.91, 0.91, 0.92, 0.92, 0.92, 0.95, 0.95, 0.95, 0.96, 0.96,\n",
       "        0.96, 0.96, 0.96, 0.96]),\n",
       " 'mean_test_score': array([0.90648515, 0.90648515, 0.90648515, 0.91942574, 0.91942574,\n",
       "        0.91942574, 0.93331683, 0.93331683, 0.93331683, 0.93530693,\n",
       "        0.93530693, 0.93530693, 0.93431683, 0.93431683, 0.93431683]),\n",
       " 'std_test_score': array([0.00449406, 0.00449406, 0.00449406, 0.00801831, 0.00801831,\n",
       "        0.00801831, 0.01272701, 0.01272701, 0.01272701, 0.01629711,\n",
       "        0.01629711, 0.01629711, 0.01681567, 0.01681567, 0.01681567]),\n",
       " 'rank_test_score': array([13, 13, 13, 10, 10, 10,  7,  7,  7,  1,  1,  1,  4,  4,  4])}"
      ]
     },
     "execution_count": 100,
     "metadata": {},
     "output_type": "execute_result"
    }
   ],
   "source": [
    "softmax_grid.cv_results_"
   ]
  },
  {
   "cell_type": "code",
   "execution_count": 101,
   "metadata": {},
   "outputs": [
    {
     "data": {
      "text/plain": [
       "LogisticRegression(C=10, class_weight=None, dual=False, fit_intercept=True,\n",
       "                   intercept_scaling=1, l1_ratio=None, max_iter=1000.0,\n",
       "                   multi_class='multinomial', n_jobs=None, penalty='l2',\n",
       "                   random_state=0, solver='lbfgs', tol=0.0001, verbose=0,\n",
       "                   warm_start=False)"
      ]
     },
     "execution_count": 101,
     "metadata": {},
     "output_type": "execute_result"
    }
   ],
   "source": [
    "softmax_grid.best_estimator_"
   ]
  },
  {
   "cell_type": "code",
   "execution_count": 102,
   "metadata": {},
   "outputs": [
    {
     "data": {
      "text/plain": [
       "0.9353069306930692"
      ]
     },
     "execution_count": 102,
     "metadata": {},
     "output_type": "execute_result"
    }
   ],
   "source": [
    "softmax_grid.best_score_"
   ]
  },
  {
   "cell_type": "code",
   "execution_count": 103,
   "metadata": {},
   "outputs": [
    {
     "data": {
      "text/plain": [
       "{'C': 10, 'max_iter': 1000.0}"
      ]
     },
     "execution_count": 103,
     "metadata": {},
     "output_type": "execute_result"
    }
   ],
   "source": [
    "softmax_grid.best_params_"
   ]
  },
  {
   "cell_type": "markdown",
   "metadata": {},
   "source": [
    "## Using best parameter for Softmax Regression"
   ]
  },
  {
   "cell_type": "code",
   "execution_count": 104,
   "metadata": {},
   "outputs": [
    {
     "name": "stdout",
     "output_type": "stream",
     "text": [
      "Train score: 0.9373\n",
      "Test score: 0.9403\n"
     ]
    }
   ],
   "source": [
    "softmax_test = LogisticRegression(random_state = 0, solver = 'lbfgs',multi_class='multinomial',C=10,max_iter= 1000)\n",
    "softmax_test.fit(X_trn, y_train)\n",
    "print('Train score: {:.4f}'.format(softmax_test.score(X_trn, y_train)))\n",
    "print('Test score: {:.4f}'.format(softmax_test.score(X_tst, y_test)))"
   ]
  },
  {
   "cell_type": "code",
   "execution_count": 105,
   "metadata": {},
   "outputs": [
    {
     "name": "stdout",
     "output_type": "stream",
     "text": [
      "[[303   1   0]\n",
      " [  5   4   5]\n",
      " [  9   0   8]]\n",
      "              precision    recall  f1-score   support\n",
      "\n",
      "           0       0.96      1.00      0.98       304\n",
      "           1       0.80      0.29      0.42        14\n",
      "           2       0.62      0.47      0.53        17\n",
      "\n",
      "    accuracy                           0.94       335\n",
      "   macro avg       0.79      0.58      0.64       335\n",
      "weighted avg       0.93      0.94      0.93       335\n",
      "\n"
     ]
    }
   ],
   "source": [
    "from sklearn.metrics import classification_report, confusion_matrix\n",
    "\n",
    "y_predict_softmax = softmax_test.predict(X_tst)\n",
    "\n",
    "print(confusion_matrix(y_test, y_predict_softmax))\n",
    "print(classification_report(y_test, y_predict_softmax))"
   ]
  },
  {
   "cell_type": "markdown",
   "metadata": {},
   "source": [
    "# SVC\n",
    "## Linear SVM"
   ]
  },
  {
   "cell_type": "code",
   "execution_count": 106,
   "metadata": {},
   "outputs": [],
   "source": [
    "from sklearn.svm import LinearSVC\n",
    "from sklearn.model_selection import GridSearchCV"
   ]
  },
  {
   "cell_type": "code",
   "execution_count": 107,
   "metadata": {},
   "outputs": [
    {
     "name": "stderr",
     "output_type": "stream",
     "text": [
      "C:\\Anaconda3\\lib\\site-packages\\sklearn\\model_selection\\_search.py:823: FutureWarning: The parameter 'iid' is deprecated in 0.22 and will be removed in 0.24.\n",
      "  \"removed in 0.24.\", FutureWarning\n"
     ]
    },
    {
     "data": {
      "text/plain": [
       "GridSearchCV(cv=10, error_score=nan,\n",
       "             estimator=LinearSVC(C=1.0, class_weight=None, dual=False,\n",
       "                                 fit_intercept=True, intercept_scaling=1,\n",
       "                                 loss='squared_hinge', max_iter=1000,\n",
       "                                 multi_class='ovr', penalty='l2',\n",
       "                                 random_state=0, tol=0.0001, verbose=0),\n",
       "             iid=True, n_jobs=None,\n",
       "             param_grid={'C': [0.001, 0.01, 0.1, 1, 10, 100],\n",
       "                         'penalty': ('l1', 'l2')},\n",
       "             pre_dispatch='2*n_jobs', refit=True, return_train_score=False,\n",
       "             scoring=None, verbose=0)"
      ]
     },
     "execution_count": 107,
     "metadata": {},
     "output_type": "execute_result"
    }
   ],
   "source": [
    "lins = LinearSVC(random_state = 0, dual=False)\n",
    "lins_parameters = {'penalty':('l1', 'l2'), 'C':[0.001,0.01,0.1,1,10,100] }\n",
    "lins_grid = GridSearchCV(lins, lins_parameters,cv=10,iid=True)\n",
    "lins_grid.fit(X_trn, y_train)"
   ]
  },
  {
   "cell_type": "code",
   "execution_count": 108,
   "metadata": {},
   "outputs": [
    {
     "data": {
      "text/plain": [
       "LinearSVC(C=1, class_weight=None, dual=False, fit_intercept=True,\n",
       "          intercept_scaling=1, loss='squared_hinge', max_iter=1000,\n",
       "          multi_class='ovr', penalty='l1', random_state=0, tol=0.0001,\n",
       "          verbose=0)"
      ]
     },
     "execution_count": 108,
     "metadata": {},
     "output_type": "execute_result"
    }
   ],
   "source": [
    "lins_grid.best_estimator_"
   ]
  },
  {
   "cell_type": "code",
   "execution_count": 109,
   "metadata": {},
   "outputs": [
    {
     "data": {
      "text/plain": [
       "0.9293532338308458"
      ]
     },
     "execution_count": 109,
     "metadata": {},
     "output_type": "execute_result"
    }
   ],
   "source": [
    "lins_grid.best_score_"
   ]
  },
  {
   "cell_type": "code",
   "execution_count": 110,
   "metadata": {},
   "outputs": [
    {
     "data": {
      "text/plain": [
       "{'C': 1, 'penalty': 'l1'}"
      ]
     },
     "execution_count": 110,
     "metadata": {},
     "output_type": "execute_result"
    }
   ],
   "source": [
    "lins_grid.best_params_"
   ]
  },
  {
   "cell_type": "markdown",
   "metadata": {},
   "source": [
    "## Using best estimator for Linear SVM"
   ]
  },
  {
   "cell_type": "code",
   "execution_count": 111,
   "metadata": {},
   "outputs": [
    {
     "name": "stdout",
     "output_type": "stream",
     "text": [
      "Train score: 0.9353\n",
      "Test score: 0.9254\n"
     ]
    }
   ],
   "source": [
    "lins_test = LinearSVC(random_state = 0,dual=False,C= 1, penalty= 'l1')\n",
    "lins_test.fit(X_trn, y_train)\n",
    "print('Train score: {:.4f}'.format(lins_test.score(X_trn, y_train)))\n",
    "print('Test score: {:.4f}'.format(lins_test.score(X_tst, y_test)))"
   ]
  },
  {
   "cell_type": "code",
   "execution_count": 112,
   "metadata": {},
   "outputs": [
    {
     "name": "stdout",
     "output_type": "stream",
     "text": [
      "[[303   1   0]\n",
      " [  7   4   3]\n",
      " [ 11   3   3]]\n",
      "              precision    recall  f1-score   support\n",
      "\n",
      "           0       0.94      1.00      0.97       304\n",
      "           1       0.50      0.29      0.36        14\n",
      "           2       0.50      0.18      0.26        17\n",
      "\n",
      "    accuracy                           0.93       335\n",
      "   macro avg       0.65      0.49      0.53       335\n",
      "weighted avg       0.90      0.93      0.91       335\n",
      "\n"
     ]
    }
   ],
   "source": [
    "from sklearn.metrics import classification_report, confusion_matrix\n",
    "\n",
    "y_predict_lins = lins_test.predict(X_tst)\n",
    "\n",
    "print(confusion_matrix(y_test, y_predict_lins))\n",
    "print(classification_report(y_test, y_predict_lins))"
   ]
  },
  {
   "cell_type": "markdown",
   "metadata": {},
   "source": [
    "## SVM using Linear Kernel"
   ]
  },
  {
   "cell_type": "code",
   "execution_count": 113,
   "metadata": {},
   "outputs": [
    {
     "data": {
      "text/plain": [
       "GridSearchCV(cv=10, error_score=nan,\n",
       "             estimator=SVC(C=1.0, break_ties=False, cache_size=200,\n",
       "                           class_weight=None, coef0=0.0,\n",
       "                           decision_function_shape='ovr', degree=3,\n",
       "                           gamma='scale', kernel='linear', max_iter=-1,\n",
       "                           probability=False, random_state=0, shrinking=True,\n",
       "                           tol=0.001, verbose=False),\n",
       "             iid='deprecated', n_jobs=None,\n",
       "             param_grid={'C': [0.001, 0.01, 0.1, 1, 10],\n",
       "                         'gamma': [0.001, 0.01, 0.1, 1, 10]},\n",
       "             pre_dispatch='2*n_jobs', refit=True, return_train_score=False,\n",
       "             scoring=None, verbose=0)"
      ]
     },
     "execution_count": 113,
     "metadata": {},
     "output_type": "execute_result"
    }
   ],
   "source": [
    "from sklearn.svm import SVC\n",
    "\n",
    "svm=SVC(kernel='linear',random_state=0)\n",
    "svm_parameters = {'gamma': [0.001, 0.01, 0.1, 1, 10], 'C': [0.001, 0.01, 0.1, 1, 10]}\n",
    "svm_grid = GridSearchCV(svm, svm_parameters,cv=10)\n",
    "svm_grid.fit(X_trn, y_train)"
   ]
  },
  {
   "cell_type": "code",
   "execution_count": 114,
   "metadata": {},
   "outputs": [
    {
     "data": {
      "text/plain": [
       "SVC(C=10, break_ties=False, cache_size=200, class_weight=None, coef0=0.0,\n",
       "    decision_function_shape='ovr', degree=3, gamma=0.001, kernel='linear',\n",
       "    max_iter=-1, probability=False, random_state=0, shrinking=True, tol=0.001,\n",
       "    verbose=False)"
      ]
     },
     "execution_count": 114,
     "metadata": {},
     "output_type": "execute_result"
    }
   ],
   "source": [
    "svm_grid.best_estimator_"
   ]
  },
  {
   "cell_type": "code",
   "execution_count": 115,
   "metadata": {},
   "outputs": [
    {
     "data": {
      "text/plain": [
       "0.9293663366336633"
      ]
     },
     "execution_count": 115,
     "metadata": {},
     "output_type": "execute_result"
    }
   ],
   "source": [
    "svm_grid.best_score_"
   ]
  },
  {
   "cell_type": "code",
   "execution_count": 116,
   "metadata": {},
   "outputs": [
    {
     "data": {
      "text/plain": [
       "{'C': 10, 'gamma': 0.001}"
      ]
     },
     "execution_count": 116,
     "metadata": {},
     "output_type": "execute_result"
    }
   ],
   "source": [
    "svm_grid.best_params_"
   ]
  },
  {
   "cell_type": "markdown",
   "metadata": {},
   "source": [
    "## Using best parameters for Linear kernel svm"
   ]
  },
  {
   "cell_type": "code",
   "execution_count": 117,
   "metadata": {},
   "outputs": [
    {
     "name": "stdout",
     "output_type": "stream",
     "text": [
      "Train score: 0.9393\n",
      "Test score: 0.9403\n"
     ]
    }
   ],
   "source": [
    "svm_test = SVC(kernel='linear',random_state=0,C= 10, gamma= 0.001)\n",
    "svm_test.fit(X_trn, y_train)\n",
    "print('Train score: {:.4f}'.format(svm_test.score(X_trn, y_train)))\n",
    "print('Test score: {:.4f}'.format(svm_test.score(X_tst, y_test)))"
   ]
  },
  {
   "cell_type": "code",
   "execution_count": 118,
   "metadata": {},
   "outputs": [
    {
     "name": "stdout",
     "output_type": "stream",
     "text": [
      "[[303   1   0]\n",
      " [  5   5   4]\n",
      " [  9   1   7]]\n",
      "              precision    recall  f1-score   support\n",
      "\n",
      "           0       0.96      1.00      0.98       304\n",
      "           1       0.71      0.36      0.48        14\n",
      "           2       0.64      0.41      0.50        17\n",
      "\n",
      "    accuracy                           0.94       335\n",
      "   macro avg       0.77      0.59      0.65       335\n",
      "weighted avg       0.93      0.94      0.93       335\n",
      "\n"
     ]
    }
   ],
   "source": [
    "from sklearn.metrics import classification_report, confusion_matrix\n",
    "\n",
    "y_predict_svm = svm_test.predict(X_tst)\n",
    "\n",
    "print(confusion_matrix(y_test, y_predict_svm))\n",
    "print(classification_report(y_test, y_predict_svm))"
   ]
  },
  {
   "cell_type": "markdown",
   "metadata": {},
   "source": [
    "## SVM using RBF kernel"
   ]
  },
  {
   "cell_type": "code",
   "execution_count": 119,
   "metadata": {},
   "outputs": [
    {
     "data": {
      "text/plain": [
       "GridSearchCV(cv=10, error_score=nan,\n",
       "             estimator=SVC(C=1.0, break_ties=False, cache_size=200,\n",
       "                           class_weight=None, coef0=0.0,\n",
       "                           decision_function_shape='ovr', degree=3,\n",
       "                           gamma='auto', kernel='rbf', max_iter=-1,\n",
       "                           probability=False, random_state=0, shrinking=True,\n",
       "                           tol=0.001, verbose=False),\n",
       "             iid='deprecated', n_jobs=None,\n",
       "             param_grid={'C': [0.001, 0.01, 0.1, 1, 10, 100],\n",
       "                         'gamma': [0.001, 0.01, 0.1, 1, 10, 100]},\n",
       "             pre_dispatch='2*n_jobs', refit=True, return_train_score=False,\n",
       "             scoring=None, verbose=0)"
      ]
     },
     "execution_count": 119,
     "metadata": {},
     "output_type": "execute_result"
    }
   ],
   "source": [
    "from sklearn.svm import SVC\n",
    "\n",
    "rbf=SVC(kernel='rbf',random_state=0,gamma='auto')\n",
    "rbf_parameters = {'gamma': [0.001, 0.01, 0.1, 1, 10, 100], 'C': [0.001, 0.01, 0.1, 1, 10, 100]}\n",
    "rbf_grid = GridSearchCV(rbf, rbf_parameters,cv=10)\n",
    "rbf_grid.fit(X_trn, y_train)"
   ]
  },
  {
   "cell_type": "code",
   "execution_count": 120,
   "metadata": {},
   "outputs": [
    {
     "data": {
      "text/plain": [
       "SVC(C=100, break_ties=False, cache_size=200, class_weight=None, coef0=0.0,\n",
       "    decision_function_shape='ovr', degree=3, gamma=0.1, kernel='rbf',\n",
       "    max_iter=-1, probability=False, random_state=0, shrinking=True, tol=0.001,\n",
       "    verbose=False)"
      ]
     },
     "execution_count": 120,
     "metadata": {},
     "output_type": "execute_result"
    }
   ],
   "source": [
    "rbf_grid.best_estimator_"
   ]
  },
  {
   "cell_type": "code",
   "execution_count": 121,
   "metadata": {},
   "outputs": [
    {
     "data": {
      "text/plain": [
       "0.9343069306930692"
      ]
     },
     "execution_count": 121,
     "metadata": {},
     "output_type": "execute_result"
    }
   ],
   "source": [
    "rbf_grid.best_score_"
   ]
  },
  {
   "cell_type": "code",
   "execution_count": 122,
   "metadata": {},
   "outputs": [
    {
     "data": {
      "text/plain": [
       "{'C': 100, 'gamma': 0.1}"
      ]
     },
     "execution_count": 122,
     "metadata": {},
     "output_type": "execute_result"
    }
   ],
   "source": [
    "rbf_grid.best_params_"
   ]
  },
  {
   "cell_type": "markdown",
   "metadata": {},
   "source": [
    "## Using best parameters for RBF kernel svm"
   ]
  },
  {
   "cell_type": "code",
   "execution_count": 123,
   "metadata": {},
   "outputs": [
    {
     "name": "stdout",
     "output_type": "stream",
     "text": [
      "Train score: 0.9493\n",
      "Test score: 0.9373\n"
     ]
    }
   ],
   "source": [
    "rbf_test = SVC(kernel='rbf',random_state=0,C= 100, gamma= 0.1)\n",
    "rbf_test.fit(X_trn, y_train)\n",
    "print('Train score: {:.4f}'.format(rbf_test.score(X_trn, y_train)))\n",
    "print('Test score: {:.4f}'.format(rbf_test.score(X_tst, y_test)))"
   ]
  },
  {
   "cell_type": "code",
   "execution_count": 124,
   "metadata": {},
   "outputs": [
    {
     "name": "stdout",
     "output_type": "stream",
     "text": [
      "[[303   1   0]\n",
      " [  7   5   2]\n",
      " [ 10   1   6]]\n",
      "              precision    recall  f1-score   support\n",
      "\n",
      "           0       0.95      1.00      0.97       304\n",
      "           1       0.71      0.36      0.48        14\n",
      "           2       0.75      0.35      0.48        17\n",
      "\n",
      "    accuracy                           0.94       335\n",
      "   macro avg       0.80      0.57      0.64       335\n",
      "weighted avg       0.93      0.94      0.93       335\n",
      "\n"
     ]
    }
   ],
   "source": [
    "from sklearn.metrics import classification_report, confusion_matrix\n",
    "\n",
    "y_predict_rbf = rbf_test.predict(X_tst)\n",
    "\n",
    "print(confusion_matrix(y_test, y_predict_rbf))\n",
    "print(classification_report(y_test, y_predict_rbf))"
   ]
  },
  {
   "cell_type": "markdown",
   "metadata": {},
   "source": [
    "## SVM using Poly kernel"
   ]
  },
  {
   "cell_type": "code",
   "execution_count": 125,
   "metadata": {
    "scrolled": true
   },
   "outputs": [
    {
     "data": {
      "text/plain": [
       "GridSearchCV(cv=10, error_score=nan,\n",
       "             estimator=SVC(C=1.0, break_ties=False, cache_size=200,\n",
       "                           class_weight=None, coef0=0.0,\n",
       "                           decision_function_shape='ovr', degree=3,\n",
       "                           gamma='auto', kernel='poly', max_iter=-1,\n",
       "                           probability=False, random_state=0, shrinking=True,\n",
       "                           tol=0.001, verbose=False),\n",
       "             iid='deprecated', n_jobs=None,\n",
       "             param_grid={'C': [0.01, 0.01, 0.1, 1, 10],\n",
       "                         'degree': [1, 2, 3, 4, 5],\n",
       "                         'gamma': [0.001, 0.01, 0.1, 1, 10]},\n",
       "             pre_dispatch='2*n_jobs', refit=True, return_train_score=False,\n",
       "             scoring=None, verbose=0)"
      ]
     },
     "execution_count": 125,
     "metadata": {},
     "output_type": "execute_result"
    }
   ],
   "source": [
    "from sklearn.svm import SVC\n",
    "\n",
    "poly=SVC(kernel='poly',random_state=0,gamma='auto')\n",
    "poly_parameters = {'gamma': [0.001, 0.01, 0.1, 1, 10], 'C': [0.01, 0.01, 0.1, 1, 10],'degree':[1, 2, 3, 4, 5]}\n",
    "poly_grid = GridSearchCV(poly, poly_parameters,cv=10)\n",
    "poly_grid.fit(X_trn, y_train)"
   ]
  },
  {
   "cell_type": "code",
   "execution_count": 126,
   "metadata": {},
   "outputs": [
    {
     "data": {
      "text/plain": [
       "SVC(C=10, break_ties=False, cache_size=200, class_weight=None, coef0=0.0,\n",
       "    decision_function_shape='ovr', degree=1, gamma=10, kernel='poly',\n",
       "    max_iter=-1, probability=False, random_state=0, shrinking=True, tol=0.001,\n",
       "    verbose=False)"
      ]
     },
     "execution_count": 126,
     "metadata": {},
     "output_type": "execute_result"
    }
   ],
   "source": [
    "poly_grid.best_estimator_"
   ]
  },
  {
   "cell_type": "code",
   "execution_count": 127,
   "metadata": {},
   "outputs": [
    {
     "data": {
      "text/plain": [
       "0.9323366336633663"
      ]
     },
     "execution_count": 127,
     "metadata": {},
     "output_type": "execute_result"
    }
   ],
   "source": [
    "poly_grid.best_score_"
   ]
  },
  {
   "cell_type": "code",
   "execution_count": 128,
   "metadata": {},
   "outputs": [
    {
     "data": {
      "text/plain": [
       "{'C': 10, 'degree': 1, 'gamma': 10}"
      ]
     },
     "execution_count": 128,
     "metadata": {},
     "output_type": "execute_result"
    }
   ],
   "source": [
    "poly_grid.best_params_"
   ]
  },
  {
   "cell_type": "markdown",
   "metadata": {},
   "source": [
    "## Using best parameters for poly kernel svm"
   ]
  },
  {
   "cell_type": "code",
   "execution_count": 129,
   "metadata": {},
   "outputs": [
    {
     "name": "stdout",
     "output_type": "stream",
     "text": [
      "Train score: 0.9403\n",
      "Test score: 0.9433\n"
     ]
    }
   ],
   "source": [
    "poly_test = SVC(kernel='poly',random_state=0,C= 10, gamma= 10,degree=1)\n",
    "poly_test.fit(X_trn, y_train)\n",
    "print('Train score: {:.4f}'.format(poly_test.score(X_trn, y_train)))\n",
    "print('Test score: {:.4f}'.format(poly_test.score(X_tst, y_test)))"
   ]
  },
  {
   "cell_type": "code",
   "execution_count": 130,
   "metadata": {},
   "outputs": [
    {
     "name": "stdout",
     "output_type": "stream",
     "text": [
      "[[303   1   0]\n",
      " [  5   6   3]\n",
      " [  9   1   7]]\n",
      "              precision    recall  f1-score   support\n",
      "\n",
      "           0       0.96      1.00      0.98       304\n",
      "           1       0.75      0.43      0.55        14\n",
      "           2       0.70      0.41      0.52        17\n",
      "\n",
      "    accuracy                           0.94       335\n",
      "   macro avg       0.80      0.61      0.68       335\n",
      "weighted avg       0.93      0.94      0.93       335\n",
      "\n"
     ]
    }
   ],
   "source": [
    "from sklearn.metrics import classification_report, confusion_matrix\n",
    "\n",
    "y_predict_poly = poly_test.predict(X_tst)\n",
    "\n",
    "print(confusion_matrix(y_test, y_predict_poly))\n",
    "print(classification_report(y_test, y_predict_poly))"
   ]
  },
  {
   "cell_type": "markdown",
   "metadata": {},
   "source": [
    "## Decision Tree Classifier"
   ]
  },
  {
   "cell_type": "code",
   "execution_count": 131,
   "metadata": {},
   "outputs": [
    {
     "data": {
      "text/plain": [
       "GridSearchCV(cv=10, error_score=nan,\n",
       "             estimator=DecisionTreeClassifier(ccp_alpha=0.0, class_weight=None,\n",
       "                                              criterion='gini', max_depth=None,\n",
       "                                              max_features=None,\n",
       "                                              max_leaf_nodes=None,\n",
       "                                              min_impurity_decrease=0.0,\n",
       "                                              min_impurity_split=None,\n",
       "                                              min_samples_leaf=1,\n",
       "                                              min_samples_split=2,\n",
       "                                              min_weight_fraction_leaf=0.0,\n",
       "                                              presort='deprecated',\n",
       "                                              random_state=0, splitter='best'),\n",
       "             iid='deprecated', n_jobs=None,\n",
       "             param_grid={'criterion': ['gini', 'entropy'],\n",
       "                         'max_depth': [1, 2, 3, 4, 5, 6, 7],\n",
       "                         'max_features': [1, 2, 3, 4, 5, 6],\n",
       "                         'min_samples_leaf': [1, 2, 3, 4, 5, 6],\n",
       "                         'min_samples_split': [5, 10, 15, 20, 25],\n",
       "                         'splitter': ['best', 'random']},\n",
       "             pre_dispatch='2*n_jobs', refit=True, return_train_score=False,\n",
       "             scoring=None, verbose=0)"
      ]
     },
     "execution_count": 131,
     "metadata": {},
     "output_type": "execute_result"
    }
   ],
   "source": [
    "from sklearn import tree\n",
    "from sklearn.tree import DecisionTreeClassifier\n",
    "from sklearn.model_selection import GridSearchCV\n",
    "\n",
    "dtc = DecisionTreeClassifier(random_state=0)\n",
    "dtc_parameters = {'criterion': ['gini', 'entropy'],\n",
    "                  'splitter': ['best', 'random'],\n",
    "                  'max_depth': [1, 2, 3, 4, 5, 6, 7],\n",
    "                  'max_features': [1, 2, 3, 4, 5, 6],\n",
    "                  'min_samples_split':[5, 10, 15, 20, 25],\n",
    "                  'min_samples_leaf':[1, 2, 3, 4, 5, 6]}\n",
    "dtc_grid = GridSearchCV(dtc, dtc_parameters,cv=10)\n",
    "dtc_grid.fit(X_trn, y_train)"
   ]
  },
  {
   "cell_type": "code",
   "execution_count": 132,
   "metadata": {},
   "outputs": [
    {
     "data": {
      "text/plain": [
       "DecisionTreeClassifier(ccp_alpha=0.0, class_weight=None, criterion='gini',\n",
       "                       max_depth=7, max_features=5, max_leaf_nodes=None,\n",
       "                       min_impurity_decrease=0.0, min_impurity_split=None,\n",
       "                       min_samples_leaf=1, min_samples_split=5,\n",
       "                       min_weight_fraction_leaf=0.0, presort='deprecated',\n",
       "                       random_state=0, splitter='best')"
      ]
     },
     "execution_count": 132,
     "metadata": {},
     "output_type": "execute_result"
    }
   ],
   "source": [
    "dtc_grid.best_estimator_"
   ]
  },
  {
   "cell_type": "code",
   "execution_count": 133,
   "metadata": {},
   "outputs": [
    {
     "data": {
      "text/plain": [
       "0.9313168316831684"
      ]
     },
     "execution_count": 133,
     "metadata": {},
     "output_type": "execute_result"
    }
   ],
   "source": [
    "dtc_grid.best_score_"
   ]
  },
  {
   "cell_type": "code",
   "execution_count": 134,
   "metadata": {},
   "outputs": [
    {
     "data": {
      "text/plain": [
       "{'criterion': 'gini',\n",
       " 'max_depth': 7,\n",
       " 'max_features': 5,\n",
       " 'min_samples_leaf': 1,\n",
       " 'min_samples_split': 5,\n",
       " 'splitter': 'best'}"
      ]
     },
     "execution_count": 134,
     "metadata": {},
     "output_type": "execute_result"
    }
   ],
   "source": [
    "dtc_grid.best_params_"
   ]
  },
  {
   "cell_type": "markdown",
   "metadata": {},
   "source": [
    "## Using best parameters for Decision tree classifier"
   ]
  },
  {
   "cell_type": "code",
   "execution_count": 135,
   "metadata": {},
   "outputs": [
    {
     "data": {
      "image/png": "[encoded data removed]",
      "text/plain": [
       "<Figure size 1440x360 with 1 Axes>"
      ]
     },
     "metadata": {
      "needs_background": "light"
     },
     "output_type": "display_data"
    }
   ],
   "source": [
    "dtc_test = DecisionTreeClassifier(random_state=0,max_depth=7 ,criterion='gini',max_features=5,min_samples_leaf=1,min_samples_split=5,splitter='best')\n",
    "dtc_test.fit(X_trn, y_train)\n",
    "\n",
    "plt.figure(figsize = (20,5))\n",
    "tree.plot_tree(dtc_test,precision=4,impurity=True,filled=True)\n",
    "plt.show()"
   ]
  },
  {
   "cell_type": "code",
   "execution_count": 136,
   "metadata": {},
   "outputs": [
    {
     "name": "stdout",
     "output_type": "stream",
     "text": [
      "Train score: 0.9721\n",
      "Test score: 0.9254\n"
     ]
    }
   ],
   "source": [
    "print('Train score: {:.4f}'.format(dtc_test.score(X_trn, y_train)))\n",
    "print('Test score: {:.4f}'.format(dtc_test.score(X_tst, y_test)))"
   ]
  },
  {
   "cell_type": "code",
   "execution_count": 137,
   "metadata": {},
   "outputs": [
    {
     "name": "stdout",
     "output_type": "stream",
     "text": [
      "[[297   2   5]\n",
      " [  5   6   3]\n",
      " [  8   2   7]]\n",
      "              precision    recall  f1-score   support\n",
      "\n",
      "           0       0.96      0.98      0.97       304\n",
      "           1       0.60      0.43      0.50        14\n",
      "           2       0.47      0.41      0.44        17\n",
      "\n",
      "    accuracy                           0.93       335\n",
      "   macro avg       0.67      0.61      0.63       335\n",
      "weighted avg       0.92      0.93      0.92       335\n",
      "\n"
     ]
    }
   ],
   "source": [
    "from sklearn.metrics import classification_report, confusion_matrix\n",
    "\n",
    "y_predict_dtc = dtc_test.predict(X_tst)\n",
    "\n",
    "print(confusion_matrix(y_test, y_predict_dtc))\n",
    "print(classification_report(y_test, y_predict_dtc))"
   ]
  },
  {
   "cell_type": "markdown",
   "metadata": {},
   "source": [
    "## Does PCA give better results?"
   ]
  },
  {
   "cell_type": "markdown",
   "metadata": {},
   "source": [
    "#### Project1 test-scores:\n",
    "\n",
    "1. knn- Test score: 0.9224\n",
    "2. logistic- Test score: 0.9433\n",
    "3. softmax- Test score: 0.9433\n",
    "4. linearSVC- Test score: 0.9403\n",
    "5. linear kernel SVC- Test score: 0.9403\n",
    "6. rbf-kernel-SVC- Test score: 0.9463\n",
    "7. poly-kernel-SVC- Test score: 0.9433\n",
    "8. Decision Tree- Test score: 0.9134"
   ]
  },
  {
   "cell_type": "code",
   "execution_count": 138,
   "metadata": {},
   "outputs": [
    {
     "name": "stdout",
     "output_type": "stream",
     "text": [
      "knn- Test score: 0.9224\n",
      "logistic- Test score: 0.9284\n",
      "softmax- Test score: 0.9403\n",
      "linearSVC- Test score: 0.9254\n",
      "linear kernel SVC- Test score: 0.9403\n",
      "rbf-kernel-SVC- Test score: 0.9373\n",
      "poly-kernel-SVC- Test score: 0.9433\n",
      "Decision Tree- Test score: 0.9254\n"
     ]
    }
   ],
   "source": [
    "print('knn- Test score: {:.4f}'.format(knn_test.score(X_tst, y_test)))\n",
    "print('logistic- Test score: {:.4f}'.format(logreg_test.score(X_tst, y_test)))\n",
    "print('softmax- Test score: {:.4f}'.format(softmax_test.score(X_tst, y_test)))\n",
    "print('linearSVC- Test score: {:.4f}'.format(lins_test.score(X_tst, y_test)))\n",
    "print('linear kernel SVC- Test score: {:.4f}'.format(svm_test.score(X_tst, y_test)))\n",
    "print('rbf-kernel-SVC- Test score: {:.4f}'.format(rbf_test.score(X_tst, y_test)))\n",
    "print('poly-kernel-SVC- Test score: {:.4f}'.format(poly_test.score(X_tst, y_test)))\n",
    "print('Decision Tree- Test score: {:.4f}'.format(dtc_test.score(X_tst, y_test)))"
   ]
  },
  {
   "cell_type": "markdown",
   "metadata": {},
   "source": [
    "Previously the best model is RBF kernel SVC but now after applying PCA, the best model is Poly kernel SVC."
   ]
  },
  {
   "cell_type": "markdown",
   "metadata": {},
   "source": [
    "On application of PCA, computation became relatively faster."
   ]
  },
  {
   "cell_type": "markdown",
   "metadata": {},
   "source": [
    "#### On application of PCA, the results (accuracies) of\n",
    "1. Knn, linear kernel SVC and poly kernel SVC remained same.\n",
    "2. Logistic, Softmax, linearSVC, rbf kernel SVC are decreased.\n",
    "3. Decision tree is improved."
   ]
  },
  {
   "cell_type": "markdown",
   "metadata": {},
   "source": [
    "## Deep Learning models"
   ]
  },
  {
   "cell_type": "markdown",
   "metadata": {},
   "source": [
    "## Applying Grid Search on Keras Classifier using 'adam' optimizer"
   ]
  },
  {
   "cell_type": "code",
   "execution_count": 139,
   "metadata": {},
   "outputs": [
    {
     "name": "stderr",
     "output_type": "stream",
     "text": [
      "Using TensorFlow backend.\n"
     ]
    }
   ],
   "source": [
    "import numpy as np\n",
    "from sklearn.model_selection import GridSearchCV\n",
    "from keras.models import Sequential\n",
    "from keras.layers import Dense\n",
    "from keras.wrappers.scikit_learn import KerasClassifier,KerasRegressor"
   ]
  },
  {
   "cell_type": "code",
   "execution_count": 140,
   "metadata": {},
   "outputs": [],
   "source": [
    "def create_model():\n",
    "    #create model\n",
    "    model = Sequential()\n",
    "    model.add(Dense(30, input_dim=22, activation='relu'))\n",
    "    model.add(Dense(15, activation='relu'))\n",
    "    model.add(Dense(3, activation='softmax'))\n",
    "    #compile model\n",
    "    model.compile(loss='categorical_crossentropy', optimizer='adam', metrics=['accuracy'])\n",
    "    return model"
   ]
  },
  {
   "cell_type": "code",
   "execution_count": 141,
   "metadata": {},
   "outputs": [],
   "source": [
    "seed = 10\n",
    "np.random.seed(10)"
   ]
  },
  {
   "cell_type": "code",
   "execution_count": 142,
   "metadata": {},
   "outputs": [],
   "source": [
    "model = KerasClassifier(build_fn = create_model, verbose = 0)\n",
    "\n",
    "param_grid = {'batch_size':[10,20,30,40] , 'epochs':[10, 50, 100]}\n",
    "grid_search = GridSearchCV(estimator= model, param_grid = param_grid, cv = 10)"
   ]
  },
  {
   "cell_type": "code",
   "execution_count": 143,
   "metadata": {},
   "outputs": [],
   "source": [
    "from keras.utils import to_categorical\n",
    "train_labels = to_categorical(y_train)\n",
    "\n",
    "grid_search_result = grid_search.fit(X_train, train_labels)"
   ]
  },
  {
   "cell_type": "code",
   "execution_count": 144,
   "metadata": {},
   "outputs": [
    {
     "data": {
      "text/plain": [
       "{'batch_size': 20, 'epochs': 100}"
      ]
     },
     "execution_count": 144,
     "metadata": {},
     "output_type": "execute_result"
    }
   ],
   "source": [
    "grid_search_result.best_params_"
   ]
  },
  {
   "cell_type": "markdown",
   "metadata": {},
   "source": [
    "## Using best parameters for Keras Classifier using 'adam' optimizer"
   ]
  },
  {
   "cell_type": "code",
   "execution_count": 145,
   "metadata": {},
   "outputs": [],
   "source": [
    "# create model\n",
    "dn = Sequential()\n",
    "dn.add(Dense(30, input_dim=22, activation='relu'))\n",
    "dn.add(Dense(15, activation='relu'))\n",
    "dn.add(Dense(3, activation='softmax'))"
   ]
  },
  {
   "cell_type": "code",
   "execution_count": 146,
   "metadata": {},
   "outputs": [],
   "source": [
    "# Compile model\n",
    "dn.compile(loss='categorical_crossentropy', optimizer='adam', metrics=['accuracy'])"
   ]
  },
  {
   "cell_type": "code",
   "execution_count": 147,
   "metadata": {},
   "outputs": [
    {
     "name": "stdout",
     "output_type": "stream",
     "text": [
      "Epoch 1/100\n",
      "1005/1005 [==============================] - 0s 132us/step - loss: 0.7571 - accuracy: 0.8050\n",
      "Epoch 2/100\n",
      "1005/1005 [==============================] - 0s 51us/step - loss: 0.4431 - accuracy: 0.9065\n",
      "Epoch 3/100\n",
      "1005/1005 [==============================] - 0s 58us/step - loss: 0.3967 - accuracy: 0.9065\n",
      "Epoch 4/100\n",
      "1005/1005 [==============================] - 0s 61us/step - loss: 0.3583 - accuracy: 0.9065\n",
      "Epoch 5/100\n",
      "1005/1005 [==============================] - 0s 60us/step - loss: 0.3234 - accuracy: 0.9065\n",
      "Epoch 6/100\n",
      "1005/1005 [==============================] - 0s 59us/step - loss: 0.2937 - accuracy: 0.9065\n",
      "Epoch 7/100\n",
      "1005/1005 [==============================] - 0s 56us/step - loss: 0.2684 - accuracy: 0.9085\n",
      "Epoch 8/100\n",
      "1005/1005 [==============================] - 0s 68us/step - loss: 0.2523 - accuracy: 0.9154\n",
      "Epoch 9/100\n",
      "1005/1005 [==============================] - 0s 50us/step - loss: 0.2371 - accuracy: 0.9214\n",
      "Epoch 10/100\n",
      "1005/1005 [==============================] - 0s 70us/step - loss: 0.2270 - accuracy: 0.9244\n",
      "Epoch 11/100\n",
      "1005/1005 [==============================] - 0s 56us/step - loss: 0.2212 - accuracy: 0.9214\n",
      "Epoch 12/100\n",
      "1005/1005 [==============================] - 0s 52us/step - loss: 0.2120 - accuracy: 0.9323\n",
      "Epoch 13/100\n",
      "1005/1005 [==============================] - 0s 62us/step - loss: 0.2104 - accuracy: 0.9254\n",
      "Epoch 14/100\n",
      "1005/1005 [==============================] - 0s 65us/step - loss: 0.2004 - accuracy: 0.9343\n",
      "Epoch 15/100\n",
      "1005/1005 [==============================] - 0s 62us/step - loss: 0.1958 - accuracy: 0.9373\n",
      "Epoch 16/100\n",
      "1005/1005 [==============================] - 0s 59us/step - loss: 0.1923 - accuracy: 0.9343\n",
      "Epoch 17/100\n",
      "1005/1005 [==============================] - 0s 64us/step - loss: 0.1897 - accuracy: 0.9333\n",
      "Epoch 18/100\n",
      "1005/1005 [==============================] - 0s 54us/step - loss: 0.1876 - accuracy: 0.9373\n",
      "Epoch 19/100\n",
      "1005/1005 [==============================] - 0s 57us/step - loss: 0.1846 - accuracy: 0.9393\n",
      "Epoch 20/100\n",
      "1005/1005 [==============================] - 0s 54us/step - loss: 0.1804 - accuracy: 0.9373\n",
      "Epoch 21/100\n",
      "1005/1005 [==============================] - 0s 59us/step - loss: 0.1792 - accuracy: 0.9353\n",
      "Epoch 22/100\n",
      "1005/1005 [==============================] - 0s 60us/step - loss: 0.1771 - accuracy: 0.9393\n",
      "Epoch 23/100\n",
      "1005/1005 [==============================] - 0s 57us/step - loss: 0.1707 - accuracy: 0.9343\n",
      "Epoch 24/100\n",
      "1005/1005 [==============================] - 0s 59us/step - loss: 0.1771 - accuracy: 0.9363\n",
      "Epoch 25/100\n",
      "1005/1005 [==============================] - 0s 58us/step - loss: 0.1702 - accuracy: 0.9373\n",
      "Epoch 26/100\n",
      "1005/1005 [==============================] - 0s 64us/step - loss: 0.1696 - accuracy: 0.9373\n",
      "Epoch 27/100\n",
      "1005/1005 [==============================] - 0s 58us/step - loss: 0.1713 - accuracy: 0.9383\n",
      "Epoch 28/100\n",
      "1005/1005 [==============================] - 0s 52us/step - loss: 0.1678 - accuracy: 0.9373\n",
      "Epoch 29/100\n",
      "1005/1005 [==============================] - 0s 52us/step - loss: 0.1667 - accuracy: 0.9383\n",
      "Epoch 30/100\n",
      "1005/1005 [==============================] - 0s 54us/step - loss: 0.1628 - accuracy: 0.9363\n",
      "Epoch 31/100\n",
      "1005/1005 [==============================] - 0s 52us/step - loss: 0.1636 - accuracy: 0.9413\n",
      "Epoch 32/100\n",
      "1005/1005 [==============================] - 0s 51us/step - loss: 0.1616 - accuracy: 0.9333\n",
      "Epoch 33/100\n",
      "1005/1005 [==============================] - 0s 54us/step - loss: 0.1592 - accuracy: 0.9403\n",
      "Epoch 34/100\n",
      "1005/1005 [==============================] - 0s 55us/step - loss: 0.1609 - accuracy: 0.9393\n",
      "Epoch 35/100\n",
      "1005/1005 [==============================] - 0s 59us/step - loss: 0.1637 - accuracy: 0.9343\n",
      "Epoch 36/100\n",
      "1005/1005 [==============================] - 0s 60us/step - loss: 0.1565 - accuracy: 0.9383\n",
      "Epoch 37/100\n",
      "1005/1005 [==============================] - 0s 60us/step - loss: 0.1572 - accuracy: 0.9423\n",
      "Epoch 38/100\n",
      "1005/1005 [==============================] - 0s 62us/step - loss: 0.1567 - accuracy: 0.9393\n",
      "Epoch 39/100\n",
      "1005/1005 [==============================] - 0s 63us/step - loss: 0.1584 - accuracy: 0.9403\n",
      "Epoch 40/100\n",
      "1005/1005 [==============================] - 0s 57us/step - loss: 0.1535 - accuracy: 0.9363\n",
      "Epoch 41/100\n",
      "1005/1005 [==============================] - 0s 55us/step - loss: 0.1583 - accuracy: 0.9403\n",
      "Epoch 42/100\n",
      "1005/1005 [==============================] - 0s 53us/step - loss: 0.1546 - accuracy: 0.9453\n",
      "Epoch 43/100\n",
      "1005/1005 [==============================] - 0s 65us/step - loss: 0.1564 - accuracy: 0.9383\n",
      "Epoch 44/100\n",
      "1005/1005 [==============================] - 0s 69us/step - loss: 0.1509 - accuracy: 0.9403\n",
      "Epoch 45/100\n",
      "1005/1005 [==============================] - 0s 64us/step - loss: 0.1512 - accuracy: 0.9383\n",
      "Epoch 46/100\n",
      "1005/1005 [==============================] - 0s 59us/step - loss: 0.1514 - accuracy: 0.9423\n",
      "Epoch 47/100\n",
      "1005/1005 [==============================] - 0s 60us/step - loss: 0.1493 - accuracy: 0.9453\n",
      "Epoch 48/100\n",
      "1005/1005 [==============================] - 0s 56us/step - loss: 0.1498 - accuracy: 0.9433\n",
      "Epoch 49/100\n",
      "1005/1005 [==============================] - 0s 50us/step - loss: 0.1487 - accuracy: 0.9393\n",
      "Epoch 50/100\n",
      "1005/1005 [==============================] - 0s 57us/step - loss: 0.1534 - accuracy: 0.9413\n",
      "Epoch 51/100\n",
      "1005/1005 [==============================] - 0s 51us/step - loss: 0.1471 - accuracy: 0.9393\n",
      "Epoch 52/100\n",
      "1005/1005 [==============================] - 0s 56us/step - loss: 0.1487 - accuracy: 0.9423\n",
      "Epoch 53/100\n",
      "1005/1005 [==============================] - 0s 55us/step - loss: 0.1538 - accuracy: 0.9393\n",
      "Epoch 54/100\n",
      "1005/1005 [==============================] - 0s 60us/step - loss: 0.1447 - accuracy: 0.9363\n",
      "Epoch 55/100\n",
      "1005/1005 [==============================] - 0s 61us/step - loss: 0.1434 - accuracy: 0.9473\n",
      "Epoch 56/100\n",
      "1005/1005 [==============================] - 0s 64us/step - loss: 0.1447 - accuracy: 0.9453\n",
      "Epoch 57/100\n",
      "1005/1005 [==============================] - 0s 59us/step - loss: 0.1463 - accuracy: 0.9433\n",
      "Epoch 58/100\n",
      "1005/1005 [==============================] - 0s 57us/step - loss: 0.1455 - accuracy: 0.9433\n",
      "Epoch 59/100\n",
      "1005/1005 [==============================] - 0s 57us/step - loss: 0.1479 - accuracy: 0.9443\n",
      "Epoch 60/100\n",
      "1005/1005 [==============================] - 0s 69us/step - loss: 0.1412 - accuracy: 0.9433\n",
      "Epoch 61/100\n",
      "1005/1005 [==============================] - 0s 65us/step - loss: 0.1409 - accuracy: 0.9423\n",
      "Epoch 62/100\n",
      "1005/1005 [==============================] - 0s 63us/step - loss: 0.1465 - accuracy: 0.9413\n",
      "Epoch 63/100\n",
      "1005/1005 [==============================] - 0s 60us/step - loss: 0.1421 - accuracy: 0.9473\n",
      "Epoch 64/100\n",
      "1005/1005 [==============================] - 0s 52us/step - loss: 0.1441 - accuracy: 0.9393\n",
      "Epoch 65/100\n",
      "1005/1005 [==============================] - 0s 57us/step - loss: 0.1387 - accuracy: 0.9443\n",
      "Epoch 66/100\n",
      "1005/1005 [==============================] - 0s 51us/step - loss: 0.1373 - accuracy: 0.9453\n",
      "Epoch 67/100\n",
      "1005/1005 [==============================] - 0s 55us/step - loss: 0.1408 - accuracy: 0.9443\n",
      "Epoch 68/100\n",
      "1005/1005 [==============================] - 0s 56us/step - loss: 0.1391 - accuracy: 0.9473\n",
      "Epoch 69/100\n",
      "1005/1005 [==============================] - 0s 55us/step - loss: 0.1381 - accuracy: 0.9413\n",
      "Epoch 70/100\n",
      "1005/1005 [==============================] - 0s 58us/step - loss: 0.1365 - accuracy: 0.9443\n",
      "Epoch 71/100\n",
      "1005/1005 [==============================] - 0s 62us/step - loss: 0.1367 - accuracy: 0.9463\n",
      "Epoch 72/100\n",
      "1005/1005 [==============================] - 0s 64us/step - loss: 0.1362 - accuracy: 0.9443\n",
      "Epoch 73/100\n",
      "1005/1005 [==============================] - 0s 64us/step - loss: 0.1362 - accuracy: 0.9423\n",
      "Epoch 74/100\n",
      "1005/1005 [==============================] - 0s 62us/step - loss: 0.1337 - accuracy: 0.9423\n",
      "Epoch 75/100\n",
      "1005/1005 [==============================] - 0s 62us/step - loss: 0.1335 - accuracy: 0.9473\n",
      "Epoch 76/100\n",
      "1005/1005 [==============================] - 0s 60us/step - loss: 0.1322 - accuracy: 0.9473\n",
      "Epoch 77/100\n",
      "1005/1005 [==============================] - 0s 55us/step - loss: 0.1319 - accuracy: 0.9473\n",
      "Epoch 78/100\n",
      "1005/1005 [==============================] - 0s 51us/step - loss: 0.1301 - accuracy: 0.9443\n",
      "Epoch 79/100\n",
      "1005/1005 [==============================] - 0s 59us/step - loss: 0.1337 - accuracy: 0.9463\n",
      "Epoch 80/100\n",
      "1005/1005 [==============================] - 0s 65us/step - loss: 0.1327 - accuracy: 0.9483\n",
      "Epoch 81/100\n",
      "1005/1005 [==============================] - 0s 65us/step - loss: 0.1330 - accuracy: 0.9493\n",
      "Epoch 82/100\n",
      "1005/1005 [==============================] - 0s 61us/step - loss: 0.1315 - accuracy: 0.9502\n",
      "Epoch 83/100\n",
      "1005/1005 [==============================] - 0s 51us/step - loss: 0.1292 - accuracy: 0.9493\n",
      "Epoch 84/100\n",
      "1005/1005 [==============================] - 0s 51us/step - loss: 0.1272 - accuracy: 0.9502\n",
      "Epoch 85/100\n",
      "1005/1005 [==============================] - 0s 48us/step - loss: 0.1269 - accuracy: 0.9483\n",
      "Epoch 86/100\n",
      "1005/1005 [==============================] - 0s 48us/step - loss: 0.1307 - accuracy: 0.9483\n",
      "Epoch 87/100\n",
      "1005/1005 [==============================] - 0s 47us/step - loss: 0.1340 - accuracy: 0.9443\n",
      "Epoch 88/100\n",
      "1005/1005 [==============================] - 0s 51us/step - loss: 0.1258 - accuracy: 0.9532\n",
      "Epoch 89/100\n",
      "1005/1005 [==============================] - 0s 57us/step - loss: 0.1276 - accuracy: 0.9493\n",
      "Epoch 90/100\n",
      "1005/1005 [==============================] - 0s 61us/step - loss: 0.1254 - accuracy: 0.9502\n",
      "Epoch 91/100\n",
      "1005/1005 [==============================] - 0s 60us/step - loss: 0.1270 - accuracy: 0.9483\n",
      "Epoch 92/100\n",
      "1005/1005 [==============================] - 0s 51us/step - loss: 0.1252 - accuracy: 0.9463\n",
      "Epoch 93/100\n",
      "1005/1005 [==============================] - 0s 53us/step - loss: 0.1242 - accuracy: 0.9512\n",
      "Epoch 94/100\n",
      "1005/1005 [==============================] - 0s 59us/step - loss: 0.1260 - accuracy: 0.9502\n",
      "Epoch 95/100\n",
      "1005/1005 [==============================] - 0s 51us/step - loss: 0.1269 - accuracy: 0.9493\n",
      "Epoch 96/100\n",
      "1005/1005 [==============================] - 0s 51us/step - loss: 0.1225 - accuracy: 0.9502\n",
      "Epoch 97/100\n",
      "1005/1005 [==============================] - 0s 49us/step - loss: 0.1196 - accuracy: 0.9542\n",
      "Epoch 98/100\n",
      "1005/1005 [==============================] - 0s 48us/step - loss: 0.1214 - accuracy: 0.9522\n",
      "Epoch 99/100\n",
      "1005/1005 [==============================] - 0s 58us/step - loss: 0.1208 - accuracy: 0.9552\n",
      "Epoch 100/100\n",
      "1005/1005 [==============================] - 0s 58us/step - loss: 0.1206 - accuracy: 0.9512\n"
     ]
    },
    {
     "data": {
      "text/plain": [
       "<keras.callbacks.callbacks.History at 0x2378b8c5a48>"
      ]
     },
     "execution_count": 147,
     "metadata": {},
     "output_type": "execute_result"
    }
   ],
   "source": [
    "# Fit model\n",
    "dn.fit(X_train, train_labels, epochs = 100, batch_size = 20)"
   ]
  },
  {
   "cell_type": "code",
   "execution_count": 148,
   "metadata": {},
   "outputs": [
    {
     "name": "stdout",
     "output_type": "stream",
     "text": [
      "335/335 [==============================] - 0s 89us/step\n",
      "\n",
      "accuracy: 94.93%\n"
     ]
    }
   ],
   "source": [
    "# Evaluate model\n",
    "from keras.utils import to_categorical\n",
    "test_labels = to_categorical(y_test)\n",
    "\n",
    "scores= dn.evaluate(X_test, test_labels)\n",
    "print(\"\\n%s: %.2f%%\" % (dn.metrics_names[1], scores[1]*100))"
   ]
  },
  {
   "cell_type": "code",
   "execution_count": 149,
   "metadata": {},
   "outputs": [
    {
     "data": {
      "text/plain": [
       "array([0, 0, 0, 0, 0, 0, 0, 0, 0, 0, 0, 0, 0, 0, 0, 0, 0, 0, 0, 0, 0, 0,\n",
       "       0, 0, 0, 0, 0, 0, 0, 0, 0, 0, 0, 0, 0, 0, 0, 0, 0, 0, 0, 0, 0, 0,\n",
       "       0, 0, 0, 0, 1, 0, 0, 0, 0, 0, 0, 0, 0, 0, 0, 0, 0, 0, 0, 0, 2, 0,\n",
       "       0, 2, 2, 0, 0, 0, 0, 0, 0, 0, 2, 0, 0, 0, 0, 0, 0, 2, 0, 0, 0, 0,\n",
       "       0, 0, 1, 0, 0, 0, 0, 0, 0, 0, 2, 0, 0, 0, 0, 0, 2, 1, 0, 0, 0, 0,\n",
       "       0, 0, 0, 0, 0, 2, 0, 0, 0, 0, 0, 0, 0, 0, 0, 0, 0, 0, 0, 0, 0, 0,\n",
       "       0, 0, 0, 0, 0, 0, 0, 0, 0, 0, 0, 0, 0, 0, 0, 0, 2, 0, 0, 0, 0, 0,\n",
       "       0, 0, 0, 0, 0, 0, 0, 0, 0, 0, 0, 0, 0, 0, 0, 0, 0, 0, 0, 1, 0, 0,\n",
       "       0, 0, 0, 0, 0, 0, 0, 0, 0, 0, 0, 0, 0, 0, 0, 0, 0, 0, 0, 0, 0, 0,\n",
       "       0, 0, 0, 0, 0, 0, 0, 0, 0, 0, 0, 0, 0, 0, 0, 0, 0, 0, 0, 0, 0, 0,\n",
       "       0, 0, 0, 0, 0, 0, 0, 0, 0, 0, 0, 0, 0, 0, 0, 0, 0, 0, 0, 0, 0, 0,\n",
       "       0, 0, 0, 0, 0, 1, 2, 1, 0, 0, 0, 2, 0, 0, 0, 0, 0, 2, 0, 0, 0, 0,\n",
       "       0, 0, 0, 0, 0, 0, 0, 0, 0, 0, 0, 0, 0, 0, 0, 0, 0, 0, 0, 0, 0, 0,\n",
       "       0, 0, 0, 0, 2, 0, 0, 0, 0, 0, 0, 0, 0, 0, 0, 0, 0, 0, 0, 0, 0, 0,\n",
       "       0, 0, 0, 0, 0, 0, 0, 0, 0, 0, 0, 0, 0, 0, 0, 0, 0, 0, 0, 0, 0, 0,\n",
       "       0, 0, 0, 0, 0], dtype=int64)"
      ]
     },
     "execution_count": 149,
     "metadata": {},
     "output_type": "execute_result"
    }
   ],
   "source": [
    "# Predict\n",
    "y_predict_dn = dn.predict_classes(X_test)\n",
    "y_predict_dn"
   ]
  },
  {
   "cell_type": "code",
   "execution_count": 150,
   "metadata": {},
   "outputs": [
    {
     "name": "stdout",
     "output_type": "stream",
     "text": [
      "[[304   0   0]\n",
      " [  5   5   4]\n",
      " [  7   1   9]]\n",
      "              precision    recall  f1-score   support\n",
      "\n",
      "           0       0.96      1.00      0.98       304\n",
      "           1       0.83      0.36      0.50        14\n",
      "           2       0.69      0.53      0.60        17\n",
      "\n",
      "    accuracy                           0.95       335\n",
      "   macro avg       0.83      0.63      0.69       335\n",
      "weighted avg       0.94      0.95      0.94       335\n",
      "\n"
     ]
    }
   ],
   "source": [
    "print(confusion_matrix(y_test, y_predict_dn))\n",
    "print(classification_report(y_test, y_predict_dn))"
   ]
  },
  {
   "cell_type": "markdown",
   "metadata": {},
   "source": [
    "## Applying Grid Search on Keras Classifier using 'sgd' optimizer"
   ]
  },
  {
   "cell_type": "code",
   "execution_count": 151,
   "metadata": {},
   "outputs": [],
   "source": [
    "def create_smodel():\n",
    "    #create model\n",
    "    smodel = Sequential()\n",
    "    smodel.add(Dense(30, input_dim=22, activation='relu'))\n",
    "    smodel.add(Dense(15, activation='relu'))\n",
    "    smodel.add(Dense(3, activation='softmax'))\n",
    "    #compile model\n",
    "    smodel.compile(loss='categorical_crossentropy', optimizer='sgd', metrics=['accuracy'])\n",
    "    return smodel"
   ]
  },
  {
   "cell_type": "code",
   "execution_count": 152,
   "metadata": {},
   "outputs": [],
   "source": [
    "seed = 10\n",
    "np.random.seed(10)"
   ]
  },
  {
   "cell_type": "code",
   "execution_count": 153,
   "metadata": {},
   "outputs": [],
   "source": [
    "smodel = KerasClassifier(build_fn = create_smodel, verbose = 0)\n",
    "\n",
    "sparam_grid = {'batch_size':[10,20,30,40] , 'epochs':[10, 50, 100]}\n",
    "sgrid_search = GridSearchCV(estimator= smodel, param_grid = sparam_grid, cv = 10)"
   ]
  },
  {
   "cell_type": "code",
   "execution_count": 154,
   "metadata": {},
   "outputs": [],
   "source": [
    "grid_search_sgd = sgrid_search.fit(X_train, train_labels)"
   ]
  },
  {
   "cell_type": "code",
   "execution_count": 155,
   "metadata": {},
   "outputs": [
    {
     "data": {
      "text/plain": [
       "{'batch_size': 10, 'epochs': 100}"
      ]
     },
     "execution_count": 155,
     "metadata": {},
     "output_type": "execute_result"
    }
   ],
   "source": [
    "grid_search_sgd.best_params_"
   ]
  },
  {
   "cell_type": "markdown",
   "metadata": {},
   "source": [
    "## Using best parameters for Keras Classifier using 'sgd' optimizer"
   ]
  },
  {
   "cell_type": "code",
   "execution_count": 156,
   "metadata": {},
   "outputs": [],
   "source": [
    "# create model\n",
    "sdn = Sequential()\n",
    "sdn.add(Dense(30, input_dim=22, activation='relu'))\n",
    "sdn.add(Dense(15, activation='relu'))\n",
    "sdn.add(Dense(3, activation='softmax'))"
   ]
  },
  {
   "cell_type": "code",
   "execution_count": 157,
   "metadata": {},
   "outputs": [],
   "source": [
    "# Compile model\n",
    "sdn.compile(loss='categorical_crossentropy', optimizer='sgd', metrics=['accuracy'])"
   ]
  },
  {
   "cell_type": "code",
   "execution_count": 158,
   "metadata": {},
   "outputs": [
    {
     "name": "stdout",
     "output_type": "stream",
     "text": [
      "Epoch 1/100\n",
      "1005/1005 [==============================] - 0s 85us/step - loss: 0.8503 - accuracy: 0.8189\n",
      "Epoch 2/100\n",
      "1005/1005 [==============================] - 0s 49us/step - loss: 0.5406 - accuracy: 0.9065\n",
      "Epoch 3/100\n",
      "1005/1005 [==============================] - 0s 51us/step - loss: 0.4350 - accuracy: 0.9065\n",
      "Epoch 4/100\n",
      "1005/1005 [==============================] - 0s 51us/step - loss: 0.4074 - accuracy: 0.9065\n",
      "Epoch 5/100\n",
      "1005/1005 [==============================] - 0s 50us/step - loss: 0.3981 - accuracy: 0.9065\n",
      "Epoch 6/100\n",
      "1005/1005 [==============================] - 0s 51us/step - loss: 0.3921 - accuracy: 0.9065\n",
      "Epoch 7/100\n",
      "1005/1005 [==============================] - 0s 50us/step - loss: 0.3863 - accuracy: 0.9065\n",
      "Epoch 8/100\n",
      "1005/1005 [==============================] - 0s 52us/step - loss: 0.3809 - accuracy: 0.9065\n",
      "Epoch 9/100\n",
      "1005/1005 [==============================] - 0s 50us/step - loss: 0.3752 - accuracy: 0.9065\n",
      "Epoch 10/100\n",
      "1005/1005 [==============================] - 0s 56us/step - loss: 0.3695 - accuracy: 0.9065\n",
      "Epoch 11/100\n",
      "1005/1005 [==============================] - 0s 53us/step - loss: 0.3637 - accuracy: 0.9065\n",
      "Epoch 12/100\n",
      "1005/1005 [==============================] - 0s 57us/step - loss: 0.3581 - accuracy: 0.9065\n",
      "Epoch 13/100\n",
      "1005/1005 [==============================] - 0s 55us/step - loss: 0.3524 - accuracy: 0.9065\n",
      "Epoch 14/100\n",
      "1005/1005 [==============================] - 0s 50us/step - loss: 0.3469 - accuracy: 0.9065\n",
      "Epoch 15/100\n",
      "1005/1005 [==============================] - 0s 57us/step - loss: 0.3410 - accuracy: 0.9065\n",
      "Epoch 16/100\n",
      "1005/1005 [==============================] - 0s 55us/step - loss: 0.3350 - accuracy: 0.9065\n",
      "Epoch 17/100\n",
      "1005/1005 [==============================] - 0s 57us/step - loss: 0.3289 - accuracy: 0.9065\n",
      "Epoch 18/100\n",
      "1005/1005 [==============================] - 0s 65us/step - loss: 0.3233 - accuracy: 0.9065\n",
      "Epoch 19/100\n",
      "1005/1005 [==============================] - 0s 65us/step - loss: 0.3174 - accuracy: 0.9065\n",
      "Epoch 20/100\n",
      "1005/1005 [==============================] - 0s 57us/step - loss: 0.3117 - accuracy: 0.9065\n",
      "Epoch 21/100\n",
      "1005/1005 [==============================] - 0s 53us/step - loss: 0.3061 - accuracy: 0.9065\n",
      "Epoch 22/100\n",
      "1005/1005 [==============================] - 0s 51us/step - loss: 0.3012 - accuracy: 0.9065\n",
      "Epoch 23/100\n",
      "1005/1005 [==============================] - 0s 47us/step - loss: 0.2967 - accuracy: 0.9065\n",
      "Epoch 24/100\n",
      "1005/1005 [==============================] - 0s 48us/step - loss: 0.2924 - accuracy: 0.9065\n",
      "Epoch 25/100\n",
      "1005/1005 [==============================] - 0s 42us/step - loss: 0.2877 - accuracy: 0.9065\n",
      "Epoch 26/100\n",
      "1005/1005 [==============================] - 0s 50us/step - loss: 0.2837 - accuracy: 0.9065\n",
      "Epoch 27/100\n",
      "1005/1005 [==============================] - 0s 49us/step - loss: 0.2795 - accuracy: 0.9065\n",
      "Epoch 28/100\n",
      "1005/1005 [==============================] - 0s 59us/step - loss: 0.2756 - accuracy: 0.9065\n",
      "Epoch 29/100\n",
      "1005/1005 [==============================] - 0s 63us/step - loss: 0.2718 - accuracy: 0.9065\n",
      "Epoch 30/100\n",
      "1005/1005 [==============================] - 0s 50us/step - loss: 0.2683 - accuracy: 0.9065\n",
      "Epoch 31/100\n",
      "1005/1005 [==============================] - 0s 51us/step - loss: 0.2649 - accuracy: 0.9065\n",
      "Epoch 32/100\n",
      "1005/1005 [==============================] - 0s 52us/step - loss: 0.2614 - accuracy: 0.9065\n",
      "Epoch 33/100\n",
      "1005/1005 [==============================] - 0s 49us/step - loss: 0.2585 - accuracy: 0.9075\n",
      "Epoch 34/100\n",
      "1005/1005 [==============================] - 0s 56us/step - loss: 0.2552 - accuracy: 0.9085\n",
      "Epoch 35/100\n",
      "1005/1005 [==============================] - 0s 49us/step - loss: 0.2529 - accuracy: 0.9095\n",
      "Epoch 36/100\n",
      "1005/1005 [==============================] - 0s 49us/step - loss: 0.2499 - accuracy: 0.9114\n",
      "Epoch 37/100\n",
      "1005/1005 [==============================] - 0s 50us/step - loss: 0.2474 - accuracy: 0.9144\n",
      "Epoch 38/100\n",
      "1005/1005 [==============================] - 0s 52us/step - loss: 0.2450 - accuracy: 0.9144\n",
      "Epoch 39/100\n",
      "1005/1005 [==============================] - 0s 49us/step - loss: 0.2427 - accuracy: 0.9164\n",
      "Epoch 40/100\n",
      "1005/1005 [==============================] - 0s 48us/step - loss: 0.2406 - accuracy: 0.9154\n",
      "Epoch 41/100\n",
      "1005/1005 [==============================] - 0s 48us/step - loss: 0.2383 - accuracy: 0.9164\n",
      "Epoch 42/100\n",
      "1005/1005 [==============================] - 0s 51us/step - loss: 0.2367 - accuracy: 0.9204\n",
      "Epoch 43/100\n",
      "1005/1005 [==============================] - 0s 49us/step - loss: 0.2343 - accuracy: 0.9184\n",
      "Epoch 44/100\n",
      "1005/1005 [==============================] - 0s 55us/step - loss: 0.2329 - accuracy: 0.9214\n",
      "Epoch 45/100\n",
      "1005/1005 [==============================] - 0s 51us/step - loss: 0.2315 - accuracy: 0.9184\n",
      "Epoch 46/100\n",
      "1005/1005 [==============================] - 0s 46us/step - loss: 0.2296 - accuracy: 0.9224\n",
      "Epoch 47/100\n",
      "1005/1005 [==============================] - 0s 49us/step - loss: 0.2279 - accuracy: 0.9244\n",
      "Epoch 48/100\n",
      "1005/1005 [==============================] - 0s 54us/step - loss: 0.2261 - accuracy: 0.9244\n",
      "Epoch 49/100\n",
      "1005/1005 [==============================] - 0s 42us/step - loss: 0.2249 - accuracy: 0.9254\n",
      "Epoch 50/100\n",
      "1005/1005 [==============================] - 0s 47us/step - loss: 0.2235 - accuracy: 0.9254\n",
      "Epoch 51/100\n",
      "1005/1005 [==============================] - 0s 42us/step - loss: 0.2227 - accuracy: 0.9264\n",
      "Epoch 52/100\n",
      "1005/1005 [==============================] - 0s 43us/step - loss: 0.2202 - accuracy: 0.9294\n",
      "Epoch 53/100\n",
      "1005/1005 [==============================] - 0s 43us/step - loss: 0.2199 - accuracy: 0.9224\n",
      "Epoch 54/100\n",
      "1005/1005 [==============================] - 0s 47us/step - loss: 0.2181 - accuracy: 0.9274\n",
      "Epoch 55/100\n",
      "1005/1005 [==============================] - 0s 46us/step - loss: 0.2170 - accuracy: 0.9284\n",
      "Epoch 56/100\n",
      "1005/1005 [==============================] - 0s 45us/step - loss: 0.2157 - accuracy: 0.9294\n",
      "Epoch 57/100\n",
      "1005/1005 [==============================] - 0s 45us/step - loss: 0.2148 - accuracy: 0.9294\n",
      "Epoch 58/100\n",
      "1005/1005 [==============================] - 0s 41us/step - loss: 0.2141 - accuracy: 0.9264\n",
      "Epoch 59/100\n",
      "1005/1005 [==============================] - 0s 46us/step - loss: 0.2132 - accuracy: 0.9264\n",
      "Epoch 60/100\n",
      "1005/1005 [==============================] - 0s 45us/step - loss: 0.2117 - accuracy: 0.9303\n",
      "Epoch 61/100\n",
      "1005/1005 [==============================] - 0s 48us/step - loss: 0.2113 - accuracy: 0.9284\n",
      "Epoch 62/100\n",
      "1005/1005 [==============================] - 0s 47us/step - loss: 0.2102 - accuracy: 0.9284\n",
      "Epoch 63/100\n",
      "1005/1005 [==============================] - 0s 48us/step - loss: 0.2089 - accuracy: 0.9294\n",
      "Epoch 64/100\n",
      "1005/1005 [==============================] - 0s 52us/step - loss: 0.2093 - accuracy: 0.9294\n",
      "Epoch 65/100\n",
      "1005/1005 [==============================] - 0s 48us/step - loss: 0.2073 - accuracy: 0.9284\n",
      "Epoch 66/100\n",
      "1005/1005 [==============================] - 0s 48us/step - loss: 0.2065 - accuracy: 0.9284\n",
      "Epoch 67/100\n",
      "1005/1005 [==============================] - 0s 49us/step - loss: 0.2055 - accuracy: 0.9284\n",
      "Epoch 68/100\n",
      "1005/1005 [==============================] - 0s 49us/step - loss: 0.2058 - accuracy: 0.9284\n",
      "Epoch 69/100\n",
      "1005/1005 [==============================] - 0s 50us/step - loss: 0.2043 - accuracy: 0.9294\n",
      "Epoch 70/100\n",
      "1005/1005 [==============================] - 0s 45us/step - loss: 0.2030 - accuracy: 0.9294\n",
      "Epoch 71/100\n",
      "1005/1005 [==============================] - 0s 48us/step - loss: 0.2030 - accuracy: 0.9284\n",
      "Epoch 72/100\n",
      "1005/1005 [==============================] - 0s 48us/step - loss: 0.2019 - accuracy: 0.9294\n",
      "Epoch 73/100\n",
      "1005/1005 [==============================] - 0s 47us/step - loss: 0.2011 - accuracy: 0.9294\n",
      "Epoch 74/100\n",
      "1005/1005 [==============================] - 0s 45us/step - loss: 0.2004 - accuracy: 0.9294\n",
      "Epoch 75/100\n",
      "1005/1005 [==============================] - 0s 44us/step - loss: 0.1996 - accuracy: 0.9323\n",
      "Epoch 76/100\n",
      "1005/1005 [==============================] - 0s 46us/step - loss: 0.1991 - accuracy: 0.9294\n",
      "Epoch 77/100\n",
      "1005/1005 [==============================] - 0s 46us/step - loss: 0.1984 - accuracy: 0.9294\n",
      "Epoch 78/100\n",
      "1005/1005 [==============================] - 0s 46us/step - loss: 0.1980 - accuracy: 0.9294\n",
      "Epoch 79/100\n",
      "1005/1005 [==============================] - 0s 50us/step - loss: 0.1972 - accuracy: 0.9294\n",
      "Epoch 80/100\n",
      "1005/1005 [==============================] - 0s 48us/step - loss: 0.1970 - accuracy: 0.9294\n",
      "Epoch 81/100\n",
      "1005/1005 [==============================] - 0s 50us/step - loss: 0.1960 - accuracy: 0.9284\n",
      "Epoch 82/100\n",
      "1005/1005 [==============================] - 0s 49us/step - loss: 0.1947 - accuracy: 0.9313\n",
      "Epoch 83/100\n",
      "1005/1005 [==============================] - 0s 45us/step - loss: 0.1948 - accuracy: 0.9323\n",
      "Epoch 84/100\n",
      "1005/1005 [==============================] - 0s 46us/step - loss: 0.1941 - accuracy: 0.9313\n",
      "Epoch 85/100\n",
      "1005/1005 [==============================] - 0s 45us/step - loss: 0.1936 - accuracy: 0.9294\n",
      "Epoch 86/100\n",
      "1005/1005 [==============================] - 0s 45us/step - loss: 0.1930 - accuracy: 0.9294\n",
      "Epoch 87/100\n",
      "1005/1005 [==============================] - 0s 48us/step - loss: 0.1923 - accuracy: 0.9303\n",
      "Epoch 88/100\n",
      "1005/1005 [==============================] - 0s 48us/step - loss: 0.1920 - accuracy: 0.9313\n",
      "Epoch 89/100\n",
      "1005/1005 [==============================] - 0s 54us/step - loss: 0.1918 - accuracy: 0.9303\n",
      "Epoch 90/100\n",
      "1005/1005 [==============================] - 0s 52us/step - loss: 0.1912 - accuracy: 0.9303\n",
      "Epoch 91/100\n",
      "1005/1005 [==============================] - 0s 42us/step - loss: 0.1893 - accuracy: 0.9284\n",
      "Epoch 92/100\n",
      "1005/1005 [==============================] - 0s 45us/step - loss: 0.1895 - accuracy: 0.9313\n",
      "Epoch 93/100\n",
      "1005/1005 [==============================] - 0s 48us/step - loss: 0.1893 - accuracy: 0.9333\n",
      "Epoch 94/100\n",
      "1005/1005 [==============================] - 0s 48us/step - loss: 0.1887 - accuracy: 0.9313\n",
      "Epoch 95/100\n",
      "1005/1005 [==============================] - 0s 48us/step - loss: 0.1884 - accuracy: 0.9313\n",
      "Epoch 96/100\n",
      "1005/1005 [==============================] - 0s 48us/step - loss: 0.1879 - accuracy: 0.9313\n",
      "Epoch 97/100\n",
      "1005/1005 [==============================] - 0s 49us/step - loss: 0.1875 - accuracy: 0.9313\n",
      "Epoch 98/100\n",
      "1005/1005 [==============================] - 0s 48us/step - loss: 0.1866 - accuracy: 0.9323\n",
      "Epoch 99/100\n",
      "1005/1005 [==============================] - 0s 50us/step - loss: 0.1868 - accuracy: 0.9343\n",
      "Epoch 100/100\n",
      "1005/1005 [==============================] - 0s 47us/step - loss: 0.1865 - accuracy: 0.9294\n"
     ]
    },
    {
     "data": {
      "text/plain": [
       "<keras.callbacks.callbacks.History at 0x237afa049c8>"
      ]
     },
     "execution_count": 158,
     "metadata": {},
     "output_type": "execute_result"
    }
   ],
   "source": [
    "# Fit model\n",
    "sdn.fit(X_train, train_labels, epochs = 100, batch_size = 10)"
   ]
  },
  {
   "cell_type": "code",
   "execution_count": 159,
   "metadata": {},
   "outputs": [
    {
     "name": "stdout",
     "output_type": "stream",
     "text": [
      "335/335 [==============================] - 0s 65us/step\n",
      "\n",
      "accuracy: 92.54%\n"
     ]
    }
   ],
   "source": [
    "# Evaluate model\n",
    "score= sdn.evaluate(X_test, test_labels)\n",
    "print(\"\\n%s: %.2f%%\" % (sdn.metrics_names[1], score[1]*100))"
   ]
  },
  {
   "cell_type": "code",
   "execution_count": 160,
   "metadata": {},
   "outputs": [
    {
     "data": {
      "text/plain": [
       "array([0, 0, 0, 0, 0, 0, 0, 0, 0, 0, 0, 0, 0, 0, 0, 0, 0, 0, 0, 0, 0, 0,\n",
       "       0, 0, 0, 0, 0, 0, 0, 0, 0, 0, 0, 0, 0, 0, 0, 0, 0, 0, 0, 0, 0, 0,\n",
       "       0, 0, 0, 0, 1, 0, 0, 0, 0, 0, 0, 0, 0, 0, 0, 0, 0, 0, 0, 0, 1, 0,\n",
       "       0, 1, 0, 0, 0, 0, 0, 0, 0, 0, 1, 0, 0, 0, 0, 0, 0, 0, 0, 0, 0, 0,\n",
       "       0, 0, 0, 0, 0, 0, 0, 0, 0, 0, 0, 0, 0, 0, 0, 0, 0, 1, 0, 0, 0, 0,\n",
       "       0, 0, 0, 0, 0, 0, 0, 0, 0, 0, 0, 0, 0, 0, 0, 0, 0, 0, 0, 0, 0, 0,\n",
       "       0, 0, 0, 0, 0, 0, 0, 0, 0, 0, 0, 0, 0, 0, 0, 0, 0, 1, 0, 0, 0, 0,\n",
       "       0, 0, 0, 0, 0, 0, 0, 0, 0, 0, 0, 0, 0, 0, 0, 0, 0, 0, 0, 0, 0, 0,\n",
       "       0, 0, 0, 0, 0, 0, 0, 0, 0, 0, 0, 0, 0, 0, 0, 0, 0, 0, 0, 0, 0, 0,\n",
       "       0, 0, 0, 0, 0, 0, 0, 0, 0, 0, 0, 0, 0, 0, 0, 0, 0, 0, 0, 0, 0, 0,\n",
       "       0, 0, 0, 0, 0, 0, 0, 0, 0, 0, 0, 0, 0, 0, 0, 0, 0, 0, 0, 0, 0, 0,\n",
       "       0, 0, 0, 0, 0, 0, 1, 1, 0, 0, 0, 0, 0, 0, 0, 0, 0, 1, 0, 0, 0, 0,\n",
       "       0, 0, 0, 0, 0, 0, 0, 0, 0, 0, 0, 0, 0, 0, 0, 0, 0, 0, 0, 0, 0, 0,\n",
       "       0, 0, 0, 0, 1, 0, 0, 0, 0, 0, 0, 0, 0, 0, 0, 0, 0, 0, 0, 0, 0, 0,\n",
       "       0, 0, 0, 0, 0, 0, 0, 0, 0, 0, 0, 0, 0, 0, 0, 0, 0, 0, 0, 0, 0, 0,\n",
       "       0, 0, 0, 0, 0], dtype=int64)"
      ]
     },
     "execution_count": 160,
     "metadata": {},
     "output_type": "execute_result"
    }
   ],
   "source": [
    "# predict\n",
    "y_predict_sdn = sdn.predict_classes(X_test)\n",
    "y_predict_sdn"
   ]
  },
  {
   "cell_type": "code",
   "execution_count": 161,
   "metadata": {},
   "outputs": [
    {
     "name": "stdout",
     "output_type": "stream",
     "text": [
      "[[304   0   0]\n",
      " [  8   6   0]\n",
      " [ 13   4   0]]\n",
      "              precision    recall  f1-score   support\n",
      "\n",
      "           0       0.94      1.00      0.97       304\n",
      "           1       0.60      0.43      0.50        14\n",
      "           2       0.00      0.00      0.00        17\n",
      "\n",
      "    accuracy                           0.93       335\n",
      "   macro avg       0.51      0.48      0.49       335\n",
      "weighted avg       0.87      0.93      0.90       335\n",
      "\n"
     ]
    },
    {
     "name": "stderr",
     "output_type": "stream",
     "text": [
      "C:\\Anaconda3\\lib\\site-packages\\sklearn\\metrics\\_classification.py:1272: UndefinedMetricWarning: Precision and F-score are ill-defined and being set to 0.0 in labels with no predicted samples. Use `zero_division` parameter to control this behavior.\n",
      "  _warn_prf(average, modifier, msg_start, len(result))\n"
     ]
    }
   ],
   "source": [
    "print(confusion_matrix(y_test, y_predict_sdn))\n",
    "print(classification_report(y_test, y_predict_sdn))"
   ]
  },
  {
   "cell_type": "markdown",
   "metadata": {},
   "source": [
    "## on PCA data"
   ]
  },
  {
   "cell_type": "markdown",
   "metadata": {},
   "source": [
    "## Applying Grid Search on Keras Classifier using 'adam' optimizer"
   ]
  },
  {
   "cell_type": "code",
   "execution_count": 162,
   "metadata": {},
   "outputs": [],
   "source": [
    "def create_model1():\n",
    "    #create model\n",
    "    model1 = Sequential()\n",
    "    model1.add(Dense(30, input_dim=8, activation='relu'))\n",
    "    model1.add(Dense(15, activation='relu'))\n",
    "    model1.add(Dense(3, activation='softmax'))\n",
    "    #compile model\n",
    "    model1.compile(loss='categorical_crossentropy', optimizer='adam', metrics=['accuracy'])\n",
    "    return model1"
   ]
  },
  {
   "cell_type": "code",
   "execution_count": 163,
   "metadata": {},
   "outputs": [],
   "source": [
    "seed = 10\n",
    "np.random.seed(10)"
   ]
  },
  {
   "cell_type": "code",
   "execution_count": 164,
   "metadata": {},
   "outputs": [],
   "source": [
    "model1 = KerasClassifier(build_fn = create_model1, verbose = 0)\n",
    "\n",
    "param_grid1 = {'batch_size':[10,20,30,40] , 'epochs':[10, 50, 100]}\n",
    "grid_search1 = GridSearchCV(estimator= model1, param_grid = param_grid1, cv = 10)"
   ]
  },
  {
   "cell_type": "code",
   "execution_count": 165,
   "metadata": {},
   "outputs": [],
   "source": [
    "grid_search_result1 = grid_search1.fit(X_trn, train_labels)"
   ]
  },
  {
   "cell_type": "code",
   "execution_count": 166,
   "metadata": {},
   "outputs": [
    {
     "data": {
      "text/plain": [
       "{'batch_size': 10, 'epochs': 100}"
      ]
     },
     "execution_count": 166,
     "metadata": {},
     "output_type": "execute_result"
    }
   ],
   "source": [
    "grid_search_result1.best_params_"
   ]
  },
  {
   "cell_type": "markdown",
   "metadata": {},
   "source": [
    "## Using best parameters for Keras Classifier using 'adam' optimizer"
   ]
  },
  {
   "cell_type": "code",
   "execution_count": 167,
   "metadata": {},
   "outputs": [],
   "source": [
    "# create model\n",
    "dn1 = Sequential()\n",
    "dn1.add(Dense(30, input_dim=8, activation='relu'))\n",
    "dn1.add(Dense(15, activation='relu'))\n",
    "dn1.add(Dense(3, activation='softmax'))"
   ]
  },
  {
   "cell_type": "code",
   "execution_count": 168,
   "metadata": {},
   "outputs": [],
   "source": [
    "# Compile model\n",
    "dn1.compile(loss='categorical_crossentropy', optimizer='adam', metrics=['accuracy'])"
   ]
  },
  {
   "cell_type": "code",
   "execution_count": 169,
   "metadata": {},
   "outputs": [
    {
     "name": "stdout",
     "output_type": "stream",
     "text": [
      "Epoch 1/100\n",
      "1005/1005 [==============================] - 0s 289us/step - loss: 0.7493 - accuracy: 0.8109\n",
      "Epoch 2/100\n",
      "1005/1005 [==============================] - 0s 178us/step - loss: 0.3228 - accuracy: 0.9065\n",
      "Epoch 3/100\n",
      "1005/1005 [==============================] - 0s 157us/step - loss: 0.2546 - accuracy: 0.9075\n",
      "Epoch 4/100\n",
      "1005/1005 [==============================] - 0s 148us/step - loss: 0.2274 - accuracy: 0.9184\n",
      "Epoch 5/100\n",
      "1005/1005 [==============================] - 0s 136us/step - loss: 0.2097 - accuracy: 0.9254\n",
      "Epoch 6/100\n",
      "1005/1005 [==============================] - 0s 151us/step - loss: 0.1978 - accuracy: 0.9294\n",
      "Epoch 7/100\n",
      "1005/1005 [==============================] - 0s 142us/step - loss: 0.1886 - accuracy: 0.9294\n",
      "Epoch 8/100\n",
      "1005/1005 [==============================] - 0s 152us/step - loss: 0.1835 - accuracy: 0.9303\n",
      "Epoch 9/100\n",
      "1005/1005 [==============================] - 0s 141us/step - loss: 0.1768 - accuracy: 0.9284\n",
      "Epoch 10/100\n",
      "1005/1005 [==============================] - 0s 145us/step - loss: 0.1737 - accuracy: 0.9284\n",
      "Epoch 11/100\n",
      "1005/1005 [==============================] - 0s 134us/step - loss: 0.1702 - accuracy: 0.9294\n",
      "Epoch 12/100\n",
      "1005/1005 [==============================] - 0s 139us/step - loss: 0.1668 - accuracy: 0.9323\n",
      "Epoch 13/100\n",
      "1005/1005 [==============================] - 0s 128us/step - loss: 0.1653 - accuracy: 0.9353\n",
      "Epoch 14/100\n",
      "1005/1005 [==============================] - 0s 132us/step - loss: 0.1619 - accuracy: 0.9373\n",
      "Epoch 15/100\n",
      "1005/1005 [==============================] - 0s 147us/step - loss: 0.1595 - accuracy: 0.9363\n",
      "Epoch 16/100\n",
      "1005/1005 [==============================] - 0s 146us/step - loss: 0.1576 - accuracy: 0.9393\n",
      "Epoch 17/100\n",
      "1005/1005 [==============================] - 0s 145us/step - loss: 0.1558 - accuracy: 0.9433\n",
      "Epoch 18/100\n",
      "1005/1005 [==============================] - 0s 149us/step - loss: 0.1549 - accuracy: 0.9403\n",
      "Epoch 19/100\n",
      "1005/1005 [==============================] - 0s 142us/step - loss: 0.1537 - accuracy: 0.9393\n",
      "Epoch 20/100\n",
      "1005/1005 [==============================] - 0s 140us/step - loss: 0.1521 - accuracy: 0.9433\n",
      "Epoch 21/100\n",
      "1005/1005 [==============================] - 0s 142us/step - loss: 0.1511 - accuracy: 0.9423\n",
      "Epoch 22/100\n",
      "1005/1005 [==============================] - 0s 159us/step - loss: 0.1506 - accuracy: 0.9433\n",
      "Epoch 23/100\n",
      "1005/1005 [==============================] - 0s 156us/step - loss: 0.1485 - accuracy: 0.9423\n",
      "Epoch 24/100\n",
      "1005/1005 [==============================] - 0s 141us/step - loss: 0.1487 - accuracy: 0.9423\n",
      "Epoch 25/100\n",
      "1005/1005 [==============================] - 0s 126us/step - loss: 0.1468 - accuracy: 0.9463\n",
      "Epoch 26/100\n",
      "1005/1005 [==============================] - 0s 142us/step - loss: 0.1464 - accuracy: 0.9463\n",
      "Epoch 27/100\n",
      "1005/1005 [==============================] - 0s 142us/step - loss: 0.1465 - accuracy: 0.9453\n",
      "Epoch 28/100\n",
      "1005/1005 [==============================] - 0s 137us/step - loss: 0.1459 - accuracy: 0.9443\n",
      "Epoch 29/100\n",
      "1005/1005 [==============================] - 0s 132us/step - loss: 0.1442 - accuracy: 0.9463\n",
      "Epoch 30/100\n",
      "1005/1005 [==============================] - 0s 121us/step - loss: 0.1426 - accuracy: 0.9443\n",
      "Epoch 31/100\n",
      "1005/1005 [==============================] - 0s 171us/step - loss: 0.1429 - accuracy: 0.9453\n",
      "Epoch 32/100\n",
      "1005/1005 [==============================] - 0s 121us/step - loss: 0.1407 - accuracy: 0.9463\n",
      "Epoch 33/100\n",
      "1005/1005 [==============================] - 0s 140us/step - loss: 0.1401 - accuracy: 0.9473\n",
      "Epoch 34/100\n",
      "1005/1005 [==============================] - 0s 146us/step - loss: 0.1401 - accuracy: 0.9453\n",
      "Epoch 35/100\n",
      "1005/1005 [==============================] - 0s 139us/step - loss: 0.1406 - accuracy: 0.9463\n",
      "Epoch 36/100\n",
      "1005/1005 [==============================] - 0s 148us/step - loss: 0.1381 - accuracy: 0.9463\n",
      "Epoch 37/100\n",
      "1005/1005 [==============================] - 0s 148us/step - loss: 0.1378 - accuracy: 0.9502\n",
      "Epoch 38/100\n",
      "1005/1005 [==============================] - 0s 142us/step - loss: 0.1375 - accuracy: 0.9512\n",
      "Epoch 39/100\n",
      "1005/1005 [==============================] - 0s 130us/step - loss: 0.1372 - accuracy: 0.9493\n",
      "Epoch 40/100\n",
      "1005/1005 [==============================] - 0s 145us/step - loss: 0.1358 - accuracy: 0.9473\n",
      "Epoch 41/100\n",
      "1005/1005 [==============================] - 0s 146us/step - loss: 0.1356 - accuracy: 0.9483\n",
      "Epoch 42/100\n",
      "1005/1005 [==============================] - 0s 128us/step - loss: 0.1347 - accuracy: 0.9483\n",
      "Epoch 43/100\n",
      "1005/1005 [==============================] - 0s 133us/step - loss: 0.1341 - accuracy: 0.9483\n",
      "Epoch 44/100\n",
      "1005/1005 [==============================] - 0s 143us/step - loss: 0.1328 - accuracy: 0.9493\n",
      "Epoch 45/100\n",
      "1005/1005 [==============================] - 0s 150us/step - loss: 0.1334 - accuracy: 0.9483\n",
      "Epoch 46/100\n",
      "1005/1005 [==============================] - 0s 131us/step - loss: 0.1323 - accuracy: 0.9502\n",
      "Epoch 47/100\n",
      "1005/1005 [==============================] - 0s 125us/step - loss: 0.1311 - accuracy: 0.9473\n",
      "Epoch 48/100\n",
      "1005/1005 [==============================] - 0s 115us/step - loss: 0.1305 - accuracy: 0.9473\n",
      "Epoch 49/100\n",
      "1005/1005 [==============================] - 0s 113us/step - loss: 0.1311 - accuracy: 0.9502\n",
      "Epoch 50/100\n",
      "1005/1005 [==============================] - 0s 131us/step - loss: 0.1318 - accuracy: 0.9512\n",
      "Epoch 51/100\n",
      "1005/1005 [==============================] - 0s 124us/step - loss: 0.1295 - accuracy: 0.9502\n",
      "Epoch 52/100\n",
      "1005/1005 [==============================] - 0s 114us/step - loss: 0.1285 - accuracy: 0.9502\n",
      "Epoch 53/100\n",
      "1005/1005 [==============================] - 0s 121us/step - loss: 0.1297 - accuracy: 0.9463\n",
      "Epoch 54/100\n",
      "1005/1005 [==============================] - 0s 142us/step - loss: 0.1278 - accuracy: 0.9483\n",
      "Epoch 55/100\n",
      "1005/1005 [==============================] - 0s 163us/step - loss: 0.1270 - accuracy: 0.9483\n",
      "Epoch 56/100\n",
      "1005/1005 [==============================] - 0s 161us/step - loss: 0.1276 - accuracy: 0.9532\n",
      "Epoch 57/100\n",
      "1005/1005 [==============================] - 0s 132us/step - loss: 0.1267 - accuracy: 0.9532\n",
      "Epoch 58/100\n",
      "1005/1005 [==============================] - 0s 136us/step - loss: 0.1268 - accuracy: 0.9542\n",
      "Epoch 59/100\n",
      "1005/1005 [==============================] - 0s 151us/step - loss: 0.1258 - accuracy: 0.9493\n",
      "Epoch 60/100\n",
      "1005/1005 [==============================] - 0s 128us/step - loss: 0.1242 - accuracy: 0.9512\n",
      "Epoch 61/100\n",
      "1005/1005 [==============================] - 0s 128us/step - loss: 0.1252 - accuracy: 0.9493\n",
      "Epoch 62/100\n",
      "1005/1005 [==============================] - 0s 114us/step - loss: 0.1259 - accuracy: 0.9542\n",
      "Epoch 63/100\n",
      "1005/1005 [==============================] - 0s 108us/step - loss: 0.1246 - accuracy: 0.9493\n",
      "Epoch 64/100\n",
      "1005/1005 [==============================] - 0s 121us/step - loss: 0.1230 - accuracy: 0.9522\n",
      "Epoch 65/100\n",
      "1005/1005 [==============================] - 0s 125us/step - loss: 0.1223 - accuracy: 0.9582\n",
      "Epoch 66/100\n",
      "1005/1005 [==============================] - 0s 110us/step - loss: 0.1219 - accuracy: 0.9572\n",
      "Epoch 67/100\n",
      "1005/1005 [==============================] - 0s 108us/step - loss: 0.1234 - accuracy: 0.9512\n",
      "Epoch 68/100\n",
      "1005/1005 [==============================] - 0s 106us/step - loss: 0.1227 - accuracy: 0.9552\n",
      "Epoch 69/100\n",
      "1005/1005 [==============================] - 0s 100us/step - loss: 0.1219 - accuracy: 0.9562\n",
      "Epoch 70/100\n",
      "1005/1005 [==============================] - 0s 98us/step - loss: 0.1208 - accuracy: 0.9532\n",
      "Epoch 71/100\n",
      "1005/1005 [==============================] - 0s 106us/step - loss: 0.1203 - accuracy: 0.9552\n",
      "Epoch 72/100\n",
      "1005/1005 [==============================] - 0s 114us/step - loss: 0.1205 - accuracy: 0.9552\n",
      "Epoch 73/100\n",
      "1005/1005 [==============================] - 0s 116us/step - loss: 0.1203 - accuracy: 0.9562\n",
      "Epoch 74/100\n",
      "1005/1005 [==============================] - 0s 126us/step - loss: 0.1190 - accuracy: 0.9542\n",
      "Epoch 75/100\n",
      "1005/1005 [==============================] - 0s 108us/step - loss: 0.1193 - accuracy: 0.9572\n",
      "Epoch 76/100\n",
      "1005/1005 [==============================] - 0s 99us/step - loss: 0.1189 - accuracy: 0.9542\n",
      "Epoch 77/100\n",
      "1005/1005 [==============================] - 0s 114us/step - loss: 0.1194 - accuracy: 0.9532\n",
      "Epoch 78/100\n",
      "1005/1005 [==============================] - 0s 117us/step - loss: 0.1170 - accuracy: 0.9542\n",
      "Epoch 79/100\n",
      "1005/1005 [==============================] - 0s 105us/step - loss: 0.1178 - accuracy: 0.9562\n",
      "Epoch 80/100\n",
      "1005/1005 [==============================] - 0s 104us/step - loss: 0.1176 - accuracy: 0.9542\n",
      "Epoch 81/100\n",
      "1005/1005 [==============================] - 0s 92us/step - loss: 0.1173 - accuracy: 0.9572\n",
      "Epoch 82/100\n",
      "1005/1005 [==============================] - 0s 97us/step - loss: 0.1160 - accuracy: 0.9542\n",
      "Epoch 83/100\n",
      "1005/1005 [==============================] - 0s 93us/step - loss: 0.1171 - accuracy: 0.9542\n",
      "Epoch 84/100\n",
      "1005/1005 [==============================] - 0s 96us/step - loss: 0.1152 - accuracy: 0.9592\n",
      "Epoch 85/100\n",
      "1005/1005 [==============================] - 0s 107us/step - loss: 0.1161 - accuracy: 0.9552\n",
      "Epoch 86/100\n",
      "1005/1005 [==============================] - 0s 122us/step - loss: 0.1166 - accuracy: 0.9562\n",
      "Epoch 87/100\n",
      "1005/1005 [==============================] - 0s 99us/step - loss: 0.1158 - accuracy: 0.9552\n",
      "Epoch 88/100\n",
      "1005/1005 [==============================] - 0s 107us/step - loss: 0.1151 - accuracy: 0.9532\n",
      "Epoch 89/100\n",
      "1005/1005 [==============================] - 0s 91us/step - loss: 0.1142 - accuracy: 0.9532\n",
      "Epoch 90/100\n",
      "1005/1005 [==============================] - 0s 93us/step - loss: 0.1140 - accuracy: 0.9562\n",
      "Epoch 91/100\n",
      "1005/1005 [==============================] - 0s 88us/step - loss: 0.1150 - accuracy: 0.9532\n",
      "Epoch 92/100\n",
      "1005/1005 [==============================] - 0s 88us/step - loss: 0.1135 - accuracy: 0.9572\n",
      "Epoch 93/100\n",
      "1005/1005 [==============================] - 0s 86us/step - loss: 0.1134 - accuracy: 0.9572\n",
      "Epoch 94/100\n",
      "1005/1005 [==============================] - 0s 106us/step - loss: 0.1137 - accuracy: 0.9562\n",
      "Epoch 95/100\n",
      "1005/1005 [==============================] - 0s 123us/step - loss: 0.1124 - accuracy: 0.9572\n",
      "Epoch 96/100\n",
      "1005/1005 [==============================] - 0s 124us/step - loss: 0.1129 - accuracy: 0.9562\n",
      "Epoch 97/100\n",
      "1005/1005 [==============================] - 0s 122us/step - loss: 0.1116 - accuracy: 0.9572\n",
      "Epoch 98/100\n",
      "1005/1005 [==============================] - 0s 108us/step - loss: 0.1117 - accuracy: 0.9552\n",
      "Epoch 99/100\n",
      "1005/1005 [==============================] - 0s 96us/step - loss: 0.1116 - accuracy: 0.9572\n",
      "Epoch 100/100\n",
      "1005/1005 [==============================] - 0s 96us/step - loss: 0.1105 - accuracy: 0.9592\n"
     ]
    },
    {
     "data": {
      "text/plain": [
       "<keras.callbacks.callbacks.History at 0x23818143d48>"
      ]
     },
     "execution_count": 169,
     "metadata": {},
     "output_type": "execute_result"
    }
   ],
   "source": [
    "# Fit-model\n",
    "dn1.fit(X_trn, train_labels, epochs = 100, batch_size = 10)"
   ]
  },
  {
   "cell_type": "code",
   "execution_count": 170,
   "metadata": {},
   "outputs": [
    {
     "name": "stdout",
     "output_type": "stream",
     "text": [
      "335/335 [==============================] - 0s 83us/step\n",
      "\n",
      "accuracy: 93.13%\n"
     ]
    }
   ],
   "source": [
    "# Evaluate model\n",
    "scores1= dn1.evaluate(X_tst, test_labels)\n",
    "print(\"\\n%s: %.2f%%\" % (dn1.metrics_names[1], scores1[1]*100))"
   ]
  },
  {
   "cell_type": "code",
   "execution_count": 171,
   "metadata": {},
   "outputs": [
    {
     "data": {
      "text/plain": [
       "array([0, 0, 0, 0, 0, 0, 0, 0, 0, 0, 0, 0, 0, 0, 0, 0, 0, 0, 0, 0, 0, 0,\n",
       "       0, 0, 0, 0, 0, 0, 0, 0, 0, 0, 0, 0, 0, 0, 0, 0, 0, 0, 0, 0, 0, 0,\n",
       "       0, 0, 0, 0, 1, 0, 0, 0, 2, 0, 0, 0, 0, 0, 0, 0, 0, 0, 0, 0, 2, 0,\n",
       "       0, 2, 2, 0, 0, 0, 0, 0, 0, 0, 2, 0, 0, 0, 0, 0, 0, 2, 0, 0, 0, 0,\n",
       "       0, 0, 2, 0, 0, 0, 0, 0, 0, 0, 2, 0, 0, 0, 0, 0, 2, 1, 0, 0, 0, 0,\n",
       "       0, 0, 0, 0, 0, 2, 0, 0, 0, 0, 0, 0, 0, 0, 0, 0, 0, 0, 0, 0, 0, 0,\n",
       "       0, 0, 0, 0, 0, 0, 0, 0, 0, 0, 0, 0, 0, 0, 0, 0, 2, 0, 0, 0, 0, 0,\n",
       "       0, 2, 0, 0, 0, 0, 0, 0, 0, 0, 0, 0, 0, 0, 0, 0, 0, 0, 0, 0, 0, 0,\n",
       "       0, 0, 0, 0, 0, 0, 0, 0, 0, 0, 0, 0, 0, 0, 0, 0, 0, 1, 0, 0, 0, 0,\n",
       "       0, 0, 0, 0, 0, 0, 0, 0, 0, 0, 0, 0, 0, 0, 0, 0, 0, 0, 0, 0, 0, 0,\n",
       "       0, 0, 0, 0, 0, 0, 0, 0, 0, 0, 0, 0, 0, 0, 0, 0, 0, 0, 0, 0, 0, 0,\n",
       "       0, 0, 0, 0, 0, 1, 2, 2, 0, 0, 0, 2, 0, 0, 0, 0, 0, 2, 0, 0, 0, 0,\n",
       "       0, 0, 0, 0, 0, 1, 0, 0, 0, 0, 0, 0, 0, 0, 0, 0, 0, 0, 0, 0, 0, 0,\n",
       "       0, 0, 0, 0, 1, 0, 0, 0, 0, 0, 0, 0, 0, 0, 0, 0, 0, 0, 0, 0, 0, 0,\n",
       "       0, 0, 0, 0, 0, 0, 0, 0, 0, 0, 0, 0, 0, 0, 0, 0, 0, 0, 0, 0, 0, 0,\n",
       "       0, 0, 0, 0, 0], dtype=int64)"
      ]
     },
     "execution_count": 171,
     "metadata": {},
     "output_type": "execute_result"
    }
   ],
   "source": [
    "# predict\n",
    "y_predict_dn1 = dn1.predict_classes(X_tst)\n",
    "y_predict_dn1"
   ]
  },
  {
   "cell_type": "code",
   "execution_count": 172,
   "metadata": {},
   "outputs": [
    {
     "name": "stdout",
     "output_type": "stream",
     "text": [
      "[[301   2   1]\n",
      " [  4   3   7]\n",
      " [  8   1   8]]\n",
      "              precision    recall  f1-score   support\n",
      "\n",
      "           0       0.96      0.99      0.98       304\n",
      "           1       0.50      0.21      0.30        14\n",
      "           2       0.50      0.47      0.48        17\n",
      "\n",
      "    accuracy                           0.93       335\n",
      "   macro avg       0.65      0.56      0.59       335\n",
      "weighted avg       0.92      0.93      0.92       335\n",
      "\n"
     ]
    }
   ],
   "source": [
    "print(confusion_matrix(y_test, y_predict_dn1))\n",
    "print(classification_report(y_test, y_predict_dn1))"
   ]
  },
  {
   "cell_type": "markdown",
   "metadata": {},
   "source": [
    "## On PCA data"
   ]
  },
  {
   "cell_type": "markdown",
   "metadata": {},
   "source": [
    "## Applying Grid Search on Keras Classifier using 'sgd' optimizer"
   ]
  },
  {
   "cell_type": "code",
   "execution_count": 173,
   "metadata": {},
   "outputs": [],
   "source": [
    "def create_smodel1():\n",
    "    #create model\n",
    "    smodel1 = Sequential()\n",
    "    smodel1.add(Dense(30, input_dim=8, activation='relu'))\n",
    "    smodel1.add(Dense(15, activation='relu'))\n",
    "    smodel1.add(Dense(3, activation='softmax'))\n",
    "    #compile model\n",
    "    smodel1.compile(loss='categorical_crossentropy', optimizer='sgd', metrics=['accuracy'])\n",
    "    return smodel1"
   ]
  },
  {
   "cell_type": "code",
   "execution_count": 174,
   "metadata": {},
   "outputs": [],
   "source": [
    "seed = 10\n",
    "np.random.seed(10)"
   ]
  },
  {
   "cell_type": "code",
   "execution_count": 175,
   "metadata": {},
   "outputs": [],
   "source": [
    "smodel1 = KerasClassifier(build_fn = create_smodel1, verbose = 0)\n",
    "\n",
    "sparam_grid1 = {'batch_size':[10,20,30,40] , 'epochs':[10, 50, 100]}\n",
    "sgrid_search1 = GridSearchCV(estimator= smodel1, param_grid = sparam_grid1, cv = 10)"
   ]
  },
  {
   "cell_type": "code",
   "execution_count": 176,
   "metadata": {},
   "outputs": [],
   "source": [
    "grid_search_sgd1 = sgrid_search1.fit(X_trn, train_labels)"
   ]
  },
  {
   "cell_type": "code",
   "execution_count": 177,
   "metadata": {},
   "outputs": [
    {
     "data": {
      "text/plain": [
       "{'batch_size': 20, 'epochs': 100}"
      ]
     },
     "execution_count": 177,
     "metadata": {},
     "output_type": "execute_result"
    }
   ],
   "source": [
    "grid_search_sgd1.best_params_"
   ]
  },
  {
   "cell_type": "markdown",
   "metadata": {},
   "source": [
    "## Using best parameters for Keras Classifier using 'sgd' optimizer"
   ]
  },
  {
   "cell_type": "code",
   "execution_count": 178,
   "metadata": {},
   "outputs": [],
   "source": [
    "# create model\n",
    "sdn1 = Sequential()\n",
    "sdn1.add(Dense(30, input_dim=8, activation='relu'))\n",
    "sdn1.add(Dense(15, activation='relu'))\n",
    "sdn1.add(Dense(3, activation='softmax'))"
   ]
  },
  {
   "cell_type": "code",
   "execution_count": 179,
   "metadata": {},
   "outputs": [],
   "source": [
    "# Compile model\n",
    "sdn1.compile(loss='categorical_crossentropy', optimizer='sgd', metrics=['accuracy'])"
   ]
  },
  {
   "cell_type": "code",
   "execution_count": 180,
   "metadata": {},
   "outputs": [
    {
     "name": "stdout",
     "output_type": "stream",
     "text": [
      "Epoch 1/100\n",
      "1005/1005 [==============================] - 0s 127us/step - loss: 0.8933 - accuracy: 0.7761\n",
      "Epoch 2/100\n",
      "1005/1005 [==============================] - 0s 93us/step - loss: 0.5723 - accuracy: 0.9065\n",
      "Epoch 3/100\n",
      "1005/1005 [==============================] - 0s 85us/step - loss: 0.4381 - accuracy: 0.9065\n",
      "Epoch 4/100\n",
      "1005/1005 [==============================] - 0s 84us/step - loss: 0.3808 - accuracy: 0.9065\n",
      "Epoch 5/100\n",
      "1005/1005 [==============================] - 0s 82us/step - loss: 0.3547 - accuracy: 0.9065\n",
      "Epoch 6/100\n",
      "1005/1005 [==============================] - 0s 85us/step - loss: 0.3394 - accuracy: 0.9065\n",
      "Epoch 7/100\n",
      "1005/1005 [==============================] - 0s 84us/step - loss: 0.3267 - accuracy: 0.9065\n",
      "Epoch 8/100\n",
      "1005/1005 [==============================] - 0s 86us/step - loss: 0.3147 - accuracy: 0.9065\n",
      "Epoch 9/100\n",
      "1005/1005 [==============================] - 0s 82us/step - loss: 0.3024 - accuracy: 0.9065\n",
      "Epoch 10/100\n",
      "1005/1005 [==============================] - ETA: 0s - loss: 0.2816 - accuracy: 0.91 - 0s 97us/step - loss: 0.2909 - accuracy: 0.9065\n",
      "Epoch 11/100\n",
      "1005/1005 [==============================] - 0s 91us/step - loss: 0.2802 - accuracy: 0.9065\n",
      "Epoch 12/100\n",
      "1005/1005 [==============================] - 0s 89us/step - loss: 0.2706 - accuracy: 0.9075\n",
      "Epoch 13/100\n",
      "1005/1005 [==============================] - 0s 92us/step - loss: 0.2618 - accuracy: 0.9124\n",
      "Epoch 14/100\n",
      "1005/1005 [==============================] - 0s 98us/step - loss: 0.2540 - accuracy: 0.9154\n",
      "Epoch 15/100\n",
      "1005/1005 [==============================] - 0s 83us/step - loss: 0.2471 - accuracy: 0.9154\n",
      "Epoch 16/100\n",
      "1005/1005 [==============================] - 0s 95us/step - loss: 0.2408 - accuracy: 0.9204\n",
      "Epoch 17/100\n",
      "1005/1005 [==============================] - 0s 89us/step - loss: 0.2354 - accuracy: 0.9214\n",
      "Epoch 18/100\n",
      "1005/1005 [==============================] - 0s 85us/step - loss: 0.2307 - accuracy: 0.9234\n",
      "Epoch 19/100\n",
      "1005/1005 [==============================] - 0s 88us/step - loss: 0.2264 - accuracy: 0.9254\n",
      "Epoch 20/100\n",
      "1005/1005 [==============================] - 0s 83us/step - loss: 0.2226 - accuracy: 0.9284\n",
      "Epoch 21/100\n",
      "1005/1005 [==============================] - 0s 85us/step - loss: 0.2192 - accuracy: 0.9274\n",
      "Epoch 22/100\n",
      "1005/1005 [==============================] - 0s 89us/step - loss: 0.2161 - accuracy: 0.9264\n",
      "Epoch 23/100\n",
      "1005/1005 [==============================] - 0s 83us/step - loss: 0.2132 - accuracy: 0.9294\n",
      "Epoch 24/100\n",
      "1005/1005 [==============================] - 0s 88us/step - loss: 0.2107 - accuracy: 0.9284\n",
      "Epoch 25/100\n",
      "1005/1005 [==============================] - 0s 91us/step - loss: 0.2081 - accuracy: 0.9294\n",
      "Epoch 26/100\n",
      "1005/1005 [==============================] - 0s 83us/step - loss: 0.2061 - accuracy: 0.9303\n",
      "Epoch 27/100\n",
      "1005/1005 [==============================] - 0s 89us/step - loss: 0.2040 - accuracy: 0.9313\n",
      "Epoch 28/100\n",
      "1005/1005 [==============================] - 0s 89us/step - loss: 0.2022 - accuracy: 0.9303\n",
      "Epoch 29/100\n",
      "1005/1005 [==============================] - 0s 92us/step - loss: 0.2004 - accuracy: 0.9323\n",
      "Epoch 30/100\n",
      "1005/1005 [==============================] - 0s 89us/step - loss: 0.1987 - accuracy: 0.9323\n",
      "Epoch 31/100\n",
      "1005/1005 [==============================] - 0s 90us/step - loss: 0.1972 - accuracy: 0.9323\n",
      "Epoch 32/100\n",
      "1005/1005 [==============================] - 0s 91us/step - loss: 0.1955 - accuracy: 0.9323\n",
      "Epoch 33/100\n",
      "1005/1005 [==============================] - 0s 84us/step - loss: 0.1942 - accuracy: 0.9323\n",
      "Epoch 34/100\n",
      "1005/1005 [==============================] - 0s 85us/step - loss: 0.1928 - accuracy: 0.9323\n",
      "Epoch 35/100\n",
      "1005/1005 [==============================] - 0s 89us/step - loss: 0.1919 - accuracy: 0.9313\n",
      "Epoch 36/100\n",
      "1005/1005 [==============================] - 0s 98us/step - loss: 0.1905 - accuracy: 0.9303\n",
      "Epoch 37/100\n",
      "1005/1005 [==============================] - 0s 85us/step - loss: 0.1894 - accuracy: 0.9323\n",
      "Epoch 38/100\n",
      "1005/1005 [==============================] - 0s 93us/step - loss: 0.1884 - accuracy: 0.9313\n",
      "Epoch 39/100\n",
      "1005/1005 [==============================] - 0s 93us/step - loss: 0.1873 - accuracy: 0.9294\n",
      "Epoch 40/100\n",
      "1005/1005 [==============================] - 0s 85us/step - loss: 0.1865 - accuracy: 0.9303\n",
      "Epoch 41/100\n",
      "1005/1005 [==============================] - 0s 84us/step - loss: 0.1851 - accuracy: 0.9313\n",
      "Epoch 42/100\n",
      "1005/1005 [==============================] - 0s 87us/step - loss: 0.1846 - accuracy: 0.9313\n",
      "Epoch 43/100\n",
      "1005/1005 [==============================] - 0s 85us/step - loss: 0.1834 - accuracy: 0.9303\n",
      "Epoch 44/100\n",
      "1005/1005 [==============================] - 0s 85us/step - loss: 0.1826 - accuracy: 0.9294\n",
      "Epoch 45/100\n",
      "1005/1005 [==============================] - 0s 90us/step - loss: 0.1823 - accuracy: 0.9303\n",
      "Epoch 46/100\n",
      "1005/1005 [==============================] - 0s 93us/step - loss: 0.1812 - accuracy: 0.9294\n",
      "Epoch 47/100\n",
      "1005/1005 [==============================] - 0s 93us/step - loss: 0.1805 - accuracy: 0.9323\n",
      "Epoch 48/100\n",
      "1005/1005 [==============================] - 0s 88us/step - loss: 0.1794 - accuracy: 0.9333\n",
      "Epoch 49/100\n",
      "1005/1005 [==============================] - 0s 82us/step - loss: 0.1792 - accuracy: 0.9303\n",
      "Epoch 50/100\n",
      "1005/1005 [==============================] - 0s 87us/step - loss: 0.1784 - accuracy: 0.9313\n",
      "Epoch 51/100\n",
      "1005/1005 [==============================] - 0s 86us/step - loss: 0.1776 - accuracy: 0.9323\n",
      "Epoch 52/100\n",
      "1005/1005 [==============================] - 0s 86us/step - loss: 0.1765 - accuracy: 0.9333\n",
      "Epoch 53/100\n",
      "1005/1005 [==============================] - 0s 95us/step - loss: 0.1764 - accuracy: 0.9313\n",
      "Epoch 54/100\n",
      "1005/1005 [==============================] - 0s 90us/step - loss: 0.1751 - accuracy: 0.9413\n",
      "Epoch 55/100\n",
      "1005/1005 [==============================] - 0s 88us/step - loss: 0.1749 - accuracy: 0.9323\n",
      "Epoch 56/100\n",
      "1005/1005 [==============================] - 0s 89us/step - loss: 0.1739 - accuracy: 0.9333\n",
      "Epoch 57/100\n",
      "1005/1005 [==============================] - 0s 99us/step - loss: 0.1734 - accuracy: 0.9333\n",
      "Epoch 58/100\n",
      "1005/1005 [==============================] - 0s 113us/step - loss: 0.1729 - accuracy: 0.9353\n",
      "Epoch 59/100\n",
      "1005/1005 [==============================] - 0s 100us/step - loss: 0.1728 - accuracy: 0.9363\n",
      "Epoch 60/100\n",
      "1005/1005 [==============================] - 0s 77us/step - loss: 0.1720 - accuracy: 0.9353\n",
      "Epoch 61/100\n",
      "1005/1005 [==============================] - 0s 73us/step - loss: 0.1718 - accuracy: 0.9353\n",
      "Epoch 62/100\n",
      "1005/1005 [==============================] - 0s 81us/step - loss: 0.1711 - accuracy: 0.9333\n",
      "Epoch 63/100\n",
      "1005/1005 [==============================] - 0s 80us/step - loss: 0.1704 - accuracy: 0.9353\n",
      "Epoch 64/100\n",
      "1005/1005 [==============================] - 0s 82us/step - loss: 0.1705 - accuracy: 0.9353\n",
      "Epoch 65/100\n",
      "1005/1005 [==============================] - 0s 92us/step - loss: 0.1697 - accuracy: 0.9353\n",
      "Epoch 66/100\n",
      "1005/1005 [==============================] - 0s 109us/step - loss: 0.1695 - accuracy: 0.9353\n",
      "Epoch 67/100\n",
      "1005/1005 [==============================] - 0s 106us/step - loss: 0.1688 - accuracy: 0.9363\n",
      "Epoch 68/100\n",
      "1005/1005 [==============================] - 0s 87us/step - loss: 0.1691 - accuracy: 0.9373\n",
      "Epoch 69/100\n",
      "1005/1005 [==============================] - 0s 86us/step - loss: 0.1683 - accuracy: 0.9363\n",
      "Epoch 70/100\n",
      "1005/1005 [==============================] - 0s 82us/step - loss: 0.1677 - accuracy: 0.9363\n",
      "Epoch 71/100\n",
      "1005/1005 [==============================] - 0s 81us/step - loss: 0.1673 - accuracy: 0.9363\n",
      "Epoch 72/100\n",
      "1005/1005 [==============================] - 0s 82us/step - loss: 0.1670 - accuracy: 0.9373\n",
      "Epoch 73/100\n",
      "1005/1005 [==============================] - 0s 98us/step - loss: 0.1666 - accuracy: 0.9363\n",
      "Epoch 74/100\n",
      "1005/1005 [==============================] - 0s 108us/step - loss: 0.1664 - accuracy: 0.9383\n",
      "Epoch 75/100\n",
      "1005/1005 [==============================] - 0s 87us/step - loss: 0.1660 - accuracy: 0.9383\n",
      "Epoch 76/100\n",
      "1005/1005 [==============================] - 0s 96us/step - loss: 0.1656 - accuracy: 0.9393\n",
      "Epoch 77/100\n",
      "1005/1005 [==============================] - 0s 87us/step - loss: 0.1651 - accuracy: 0.9383\n",
      "Epoch 78/100\n",
      "1005/1005 [==============================] - 0s 79us/step - loss: 0.1650 - accuracy: 0.9383\n",
      "Epoch 79/100\n",
      "1005/1005 [==============================] - 0s 80us/step - loss: 0.1643 - accuracy: 0.9373\n",
      "Epoch 80/100\n",
      "1005/1005 [==============================] - 0s 81us/step - loss: 0.1645 - accuracy: 0.9373\n",
      "Epoch 81/100\n",
      "1005/1005 [==============================] - 0s 82us/step - loss: 0.1642 - accuracy: 0.9403\n",
      "Epoch 82/100\n",
      "1005/1005 [==============================] - 0s 92us/step - loss: 0.1635 - accuracy: 0.9393\n",
      "Epoch 83/100\n",
      "1005/1005 [==============================] - 0s 89us/step - loss: 0.1634 - accuracy: 0.9403\n",
      "Epoch 84/100\n",
      "1005/1005 [==============================] - 0s 81us/step - loss: 0.1630 - accuracy: 0.9393\n",
      "Epoch 85/100\n",
      "1005/1005 [==============================] - 0s 86us/step - loss: 0.1627 - accuracy: 0.9383\n",
      "Epoch 86/100\n",
      "1005/1005 [==============================] - 0s 88us/step - loss: 0.1620 - accuracy: 0.9353\n",
      "Epoch 87/100\n",
      "1005/1005 [==============================] - 0s 83us/step - loss: 0.1623 - accuracy: 0.9373\n",
      "Epoch 88/100\n",
      "1005/1005 [==============================] - 0s 85us/step - loss: 0.1618 - accuracy: 0.9413\n",
      "Epoch 89/100\n",
      "1005/1005 [==============================] - 0s 91us/step - loss: 0.1617 - accuracy: 0.9403\n",
      "Epoch 90/100\n",
      "1005/1005 [==============================] - 0s 84us/step - loss: 0.1615 - accuracy: 0.9403\n",
      "Epoch 91/100\n",
      "1005/1005 [==============================] - 0s 100us/step - loss: 0.1602 - accuracy: 0.9403\n",
      "Epoch 92/100\n",
      "1005/1005 [==============================] - 0s 98us/step - loss: 0.1610 - accuracy: 0.9393\n",
      "Epoch 93/100\n",
      "1005/1005 [==============================] - 0s 104us/step - loss: 0.1605 - accuracy: 0.9413\n",
      "Epoch 94/100\n",
      "1005/1005 [==============================] - 0s 90us/step - loss: 0.1601 - accuracy: 0.9393\n",
      "Epoch 95/100\n",
      "1005/1005 [==============================] - 0s 88us/step - loss: 0.1601 - accuracy: 0.9393\n",
      "Epoch 96/100\n",
      "1005/1005 [==============================] - 0s 88us/step - loss: 0.1598 - accuracy: 0.9393\n",
      "Epoch 97/100\n",
      "1005/1005 [==============================] - 0s 87us/step - loss: 0.1596 - accuracy: 0.9403\n",
      "Epoch 98/100\n",
      "1005/1005 [==============================] - 0s 88us/step - loss: 0.1592 - accuracy: 0.9413\n",
      "Epoch 99/100\n",
      "1005/1005 [==============================] - 0s 90us/step - loss: 0.1593 - accuracy: 0.9373\n",
      "Epoch 100/100\n",
      "1005/1005 [==============================] - 0s 115us/step - loss: 0.1587 - accuracy: 0.9383\n"
     ]
    },
    {
     "data": {
      "text/plain": [
       "<keras.callbacks.callbacks.History at 0x23833c93888>"
      ]
     },
     "execution_count": 180,
     "metadata": {},
     "output_type": "execute_result"
    }
   ],
   "source": [
    "# Fit model\n",
    "sdn1.fit(X_trn, train_labels, epochs = 100, batch_size = 20)"
   ]
  },
  {
   "cell_type": "code",
   "execution_count": 181,
   "metadata": {},
   "outputs": [
    {
     "name": "stdout",
     "output_type": "stream",
     "text": [
      "335/335 [==============================] - 0s 95us/step\n",
      "\n",
      "accuracy: 94.33%\n"
     ]
    }
   ],
   "source": [
    "# Evaluate model\n",
    "score1= sdn1.evaluate(X_tst, test_labels)\n",
    "print(\"\\n%s: %.2f%%\" % (sdn1.metrics_names[1], score1[1]*100))"
   ]
  },
  {
   "cell_type": "code",
   "execution_count": 182,
   "metadata": {},
   "outputs": [
    {
     "data": {
      "text/plain": [
       "array([0, 0, 0, 0, 0, 0, 0, 0, 0, 0, 0, 0, 0, 0, 0, 0, 0, 0, 0, 0, 0, 0,\n",
       "       0, 0, 0, 0, 0, 0, 0, 0, 0, 0, 0, 0, 0, 0, 0, 0, 0, 0, 0, 0, 0, 0,\n",
       "       0, 0, 0, 0, 1, 0, 0, 0, 2, 0, 0, 0, 0, 0, 0, 0, 0, 0, 0, 0, 2, 0,\n",
       "       0, 2, 0, 0, 0, 0, 0, 0, 0, 0, 2, 0, 0, 0, 0, 0, 0, 2, 0, 0, 0, 0,\n",
       "       0, 0, 1, 0, 0, 0, 0, 0, 0, 0, 2, 0, 0, 0, 0, 0, 2, 1, 0, 0, 0, 0,\n",
       "       0, 0, 0, 0, 0, 2, 0, 0, 0, 0, 0, 0, 0, 0, 0, 0, 0, 0, 0, 0, 0, 0,\n",
       "       0, 0, 0, 0, 0, 0, 0, 0, 0, 0, 0, 0, 0, 0, 0, 0, 2, 2, 0, 0, 0, 0,\n",
       "       0, 0, 0, 0, 0, 0, 0, 0, 0, 0, 0, 0, 0, 0, 0, 0, 0, 0, 0, 0, 0, 0,\n",
       "       0, 0, 0, 0, 0, 0, 0, 0, 0, 0, 0, 0, 0, 0, 0, 0, 0, 0, 0, 0, 0, 0,\n",
       "       0, 0, 0, 0, 0, 0, 0, 0, 0, 0, 0, 0, 0, 0, 0, 0, 0, 0, 0, 0, 0, 0,\n",
       "       0, 0, 0, 0, 0, 0, 0, 0, 0, 0, 0, 0, 0, 0, 0, 0, 0, 0, 0, 0, 0, 0,\n",
       "       0, 0, 0, 0, 0, 0, 2, 1, 0, 0, 0, 2, 0, 0, 0, 0, 0, 1, 0, 0, 0, 0,\n",
       "       0, 0, 0, 0, 0, 1, 0, 0, 0, 0, 0, 0, 0, 0, 0, 0, 0, 0, 0, 0, 0, 0,\n",
       "       0, 0, 0, 0, 1, 0, 0, 0, 0, 0, 0, 0, 0, 0, 0, 0, 0, 0, 0, 0, 0, 0,\n",
       "       0, 0, 0, 0, 0, 0, 0, 0, 0, 0, 0, 0, 0, 0, 0, 0, 0, 0, 0, 0, 0, 0,\n",
       "       0, 0, 0, 0, 0], dtype=int64)"
      ]
     },
     "execution_count": 182,
     "metadata": {},
     "output_type": "execute_result"
    }
   ],
   "source": [
    "# predict\n",
    "y_predict_sdn1 = sdn1.predict_classes(X_tst)\n",
    "y_predict_sdn1"
   ]
  },
  {
   "cell_type": "code",
   "execution_count": 183,
   "metadata": {},
   "outputs": [
    {
     "name": "stdout",
     "output_type": "stream",
     "text": [
      "[[303   1   0]\n",
      " [  5   5   4]\n",
      " [  8   1   8]]\n",
      "              precision    recall  f1-score   support\n",
      "\n",
      "           0       0.96      1.00      0.98       304\n",
      "           1       0.71      0.36      0.48        14\n",
      "           2       0.67      0.47      0.55        17\n",
      "\n",
      "    accuracy                           0.94       335\n",
      "   macro avg       0.78      0.61      0.67       335\n",
      "weighted avg       0.93      0.94      0.93       335\n",
      "\n"
     ]
    }
   ],
   "source": [
    "print(confusion_matrix(y_test, y_predict_sdn1))\n",
    "print(classification_report(y_test, y_predict_sdn1))"
   ]
  }
 ],
 "metadata": {
  "kernelspec": {
   "display_name": "Python 3",
   "language": "python",
   "name": "python3"
  },
  "language_info": {
   "codemirror_mode": {
    "name": "ipython",
    "version": 3
   },
   "file_extension": ".py",
   "mimetype": "text/x-python",
   "name": "python",
   "nbconvert_exporter": "python",
   "pygments_lexer": "ipython3",
   "version": "3.7.4"
  }
 },
 "nbformat": 4,
 "nbformat_minor": 2
}
